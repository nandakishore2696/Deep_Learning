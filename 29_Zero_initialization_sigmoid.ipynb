{
  "nbformat": 4,
  "nbformat_minor": 0,
  "metadata": {
    "colab": {
      "provenance": [],
      "gpuType": "T4",
      "include_colab_link": true
    },
    "kernelspec": {
      "name": "python3",
      "display_name": "Python 3"
    },
    "language_info": {
      "name": "python"
    },
    "accelerator": "GPU"
  },
  "cells": [
    {
      "cell_type": "markdown",
      "metadata": {
        "id": "view-in-github",
        "colab_type": "text"
      },
      "source": [
        "<a href=\"https://colab.research.google.com/github/nandakishore2696/Deep_Learning_CX/blob/main/29_Zero_initialization_sigmoid.ipynb\" target=\"_parent\"><img src=\"https://colab.research.google.com/assets/colab-badge.svg\" alt=\"Open In Colab\"/></a>"
      ]
    },
    {
      "cell_type": "code",
      "execution_count": 1,
      "metadata": {
        "id": "EZd6rozL3VIM"
      },
      "outputs": [],
      "source": [
        "import numpy as np\n",
        "import pandas as pd\n",
        "import matplotlib.pyplot as plt"
      ]
    },
    {
      "cell_type": "code",
      "source": [
        "X = np.array([[-1.58986e-01,  4.23977e-01],[-3.47926e-01,  4.70760e-01],[-5.04608e-01,  3.53801e-01],[-5.96774e-01,  1.14035e-01],\n",
        "       [-5.18433e-01, -1.72515e-01],[-2.92627e-01, -2.07602e-01],[-1.58986e-01, -4.38596e-02],[-5.76037e-02,  1.43275e-01],[-7.14286e-02,  2.71930e-01],\n",
        "       [-2.97235e-01,  3.47953e-01],[-4.17051e-01,  2.01754e-01],[-4.40092e-01,  8.77193e-03],[-3.24885e-01, -3.21637e-02],[-2.46544e-01,  5.55556e-02],\n",
        "       [-2.18894e-01,  2.01754e-01],[-3.43318e-01,  1.60819e-01],[-5.09217e-01,  7.89474e-02],[-3.84793e-01, -9.06433e-02],[-1.49770e-01,  1.25731e-01],\n",
        "       [-1.95853e-01,  3.24561e-01],[-3.91705e-02, -2.19298e-01],[-1.08295e-01, -3.01170e-01],[-1.86636e-01, -3.30409e-01],[-2.18894e-01, -4.23977e-01],\n",
        "       [-8.06452e-02, -5.64327e-01],[ 6.68203e-02, -5.17544e-01],[ 9.44700e-02, -3.24561e-01],[ 1.86636e-01, -1.66667e-01],[ 6.22120e-02, -7.30994e-02],\n",
        "       [ 2.07373e-02, -1.95906e-01],[ 2.99539e-02, -3.42105e-01],[-9.90783e-02, -3.77193e-01],[-6.91244e-03, -4.64912e-01],[ 1.31336e-01, -4.29825e-01],[ 2.32719e-01, -1.95906e-01],[ 8.52535e-02, -8.47953e-02],[-1.31336e-01, -2.36842e-01],\n",
        "       [ 2.30415e-03, -1.25731e-01],[ 1.22120e-01, -2.92398e-03],[-3.47926e-01, -3.12865e-01],[-2.28111e-01, -1.25731e-01],[-7.60369e-02,  1.46199e-02],[ 4.37788e-02,  2.04678e-02],[ 1.15207e-02,  1.54971e-01],[-4.17051e-01, -1.60819e-01],\n",
        "       [-3.15668e-01, -3.18713e-01],[ 1.26728e-01, -2.19298e-01],[ 2.05069e-01, -3.12865e-01],[ 2.18894e-01, -4.59064e-01],[ 7.14286e-02, -6.46199e-01],[-1.31336e-01, -6.05263e-01],[-2.09677e-01, -5.81871e-01],[-2.28111e-01, -4.29825e-01],\n",
        "       [-1.45161e-01, -4.12281e-01],[-6.68203e-02, -4.82456e-01],[ 1.35945e-01, -5.11696e-01],[ 2.69585e-01, -4.06433e-01],[ 2.97235e-01, -2.95322e-01],[ 2.74194e-01, -1.72515e-01],[ 2.55760e-01, -4.97076e-02],[ 2.23502e-01, -4.97076e-02],\n",
        "       [ 1.82028e-01, -8.47953e-02],[ 1.58986e-01, -1.54971e-01],[ 7.14286e-02, -2.13450e-01],[ 1.61290e-02, -2.66082e-01],[-2.53456e-02, -3.83041e-01],[-1.15207e-02, -4.82456e-01],[-2.30415e-03, -5.05848e-01],[ 2.53456e-02, -5.11696e-01],\n",
        "       [ 2.53456e-02, -5.58480e-01],[ 1.15207e-02, -6.57895e-01],[-4.83871e-02, -6.46199e-01],[-8.52535e-02, -5.52632e-01],[-9.90783e-02, -5.00000e-01],[-1.61290e-02, -4.23977e-01],[ 1.31336e-01, -3.59649e-01],[ 2.23502e-01, -3.71345e-01],\n",
        "       [ 2.92627e-01, -3.01170e-01],[ 2.60369e-01, -2.07602e-01],[ 2.00461e-01, -2.25146e-01],[ 1.72811e-01, -2.71930e-01],[-1.31336e-01,  9.06433e-02],[-1.49770e-01,  7.30994e-02],[-2.41935e-01,  6.14035e-02],[-3.01843e-01,  1.78363e-01],\n",
        "       [-2.97235e-01,  1.95906e-01],[-2.74194e-01,  3.07018e-01],[-3.24885e-01,  2.95322e-01],[-3.98618e-01,  2.66082e-01],[-4.35484e-01,  1.60819e-01],[-4.72350e-01,  7.89474e-02],[-3.38710e-01,  4.38596e-02],[-2.69585e-01,  4.38596e-02],\n",
        "       [-2.55760e-01,  1.02339e-01],[-1.68203e-01,  2.66082e-01],[-1.12903e-01,  3.01170e-01],[-3.91705e-02,  3.47953e-01],[-1.26728e-01,  4.41520e-01],[-2.32719e-01,  4.41520e-01],[-3.38710e-01,  4.18129e-01],[-4.12442e-01,  3.53801e-01],\n",
        "       [-5.09217e-01,  2.19298e-01],[-5.41475e-01,  1.46199e-02],[-5.04608e-01, -1.25731e-01],[-4.90783e-01, -1.43275e-01],[-3.61751e-01, -1.37427e-01],[-2.69585e-01, -8.47953e-02],[-2.23502e-01, -7.89474e-02],[-1.86636e-01, -3.80117e-02],\n",
        "       [-1.54378e-01, -8.77193e-03],[-1.12903e-01,  5.55556e-02],[-8.52535e-02,  1.37427e-01],[-8.52535e-02,  2.77778e-01],[-1.68203e-01,  3.01170e-01],[-1.91244e-01,  1.95906e-01],[-1.40553e-01, -4.97076e-02],[-2.99539e-02,  6.72515e-02],\n",
        "       [-2.00461e-01, -2.30994e-01],[-1.08295e-01, -8.47953e-02],[ 3.45622e-02,  6.72515e-02],[ 8.06452e-02,  1.19883e-01],[-3.85369e-01,  3.30409e-02],[-3.81221e-01,  1.31287e-01],[-3.52189e-01,  2.58187e-01],\n",
        "       [-3.54263e-01,  3.64620e-01],[-4.14401e-01, -6.92982e-02],[-4.99424e-01, -3.24561e-02],[-2.98272e-01, -9.79532e-02],[-3.16935e-01, -1.83918e-01],[-3.68779e-01, -2.90351e-01],[-3.56336e-01, -3.96784e-01],[-2.71313e-01,  4.38596e-03],\n",
        "       [-1.77995e-01,  8.62573e-02],[-2.46429e-01,  1.43567e-01],[-2.50576e-01,  2.29532e-01],[-2.21544e-01,  3.76901e-01],[-2.15323e-01,  2.95029e-01],[-1.30300e-01,  2.17251e-01],[-2.07028e-01,  2.89474e-02],[-9.71198e-02,  2.13158e-01],\n",
        "       [-3.90553e-02,  2.58187e-01],[ 1.90092e-02,  4.01462e-01],[-3.69816e-02,  4.21930e-01],[-6.39401e-02,  3.31871e-01],[-1.30300e-01,  3.76901e-01],[-3.75000e-01, -4.37719e-01],[-3.95737e-01, -3.51754e-01],[-3.54263e-01, -2.08480e-01],[-4.37212e-01, -3.76316e-01],[-4.80760e-01, -5.03216e-01], [-4.10253e-01, -4.66374e-01],\n",
        "       [-2.48502e-01, -2.57602e-01],[-2.27765e-01, -3.14912e-01],[-2.83756e-01, -3.84503e-01],[-2.92051e-01, -4.54094e-01],[-3.37673e-01, -5.19591e-01],[-2.77535e-01, -5.48246e-01],[-2.07028e-01, -5.35965e-01],[-1.86290e-01, -4.78655e-01],\n",
        "       [-1.32373e-01, -5.07310e-01],[-1.77995e-01, -2.98538e-01],[-1.65553e-01, -1.75731e-01],[-1.61406e-01, -1.26608e-01],[ 3.45622e-04,  2.58187e-01],\n",
        "       [ 7.91475e-02,  3.56433e-01],[-2.66129e-02,  1.80409e-01],[-5.35714e-02,  7.80702e-02],[-1.41705e-02, -5.29240e-02],[-7.01613e-02, -1.63450e-01],\n",
        "       [-6.39401e-02, -2.94444e-01],[-3.07604e-02, -4.66374e-01],[-5.77189e-02, -5.27778e-01],[-5.35714e-02, -3.96784e-01],[ 5.21889e-02, -4.17251e-01],[-1.62442e-02, -1.67544e-01],[-6.39401e-02, -8.56725e-02],[-6.18664e-02, -1.60819e-02],\n",
        "       [-3.80184e-03,  4.38596e-03],[ 4.18203e-02,  2.04971e-01],[ 7.91475e-02,  1.92690e-01],[ 4.59677e-02,  2.54094e-01],[ 1.18548e-01,  1.92690e-01],\n",
        "       [ 1.10253e-01,  8.62573e-02],[ 1.08180e-01, -6.92982e-02],[ 1.66244e-01, -2.42690e-02],[ 1.41359e-01,  6.57895e-02],[ 1.43433e-01,  1.68129e-01],[ 1.70392e-01,  1.92690e-01],[ 1.08180e-01,  2.99123e-01],[ 1.18548e-01,  3.19591e-01],\n",
        "       [ 1.26843e-01,  3.93275e-01],[-8.67512e-02,  4.21930e-01],[-4.73502e-02,  5.07895e-01],[ 2.52304e-02,  5.20175e-01],[ 6.25576e-02,  5.52924e-01],[-5.87558e-03,  4.42398e-01],[-5.14977e-02,  5.73392e-01],[-8.05300e-02,  5.07895e-01],\n",
        "       [-1.53111e-01,  5.52924e-01],[-1.11636e-01,  5.48830e-01],[-1.63479e-01,  4.91520e-01],[-2.52650e-01, -1.88012e-01],[-2.46429e-01, -3.65497e-02],\n",
        "       [-3.21083e-01, -4.33626e-01],[-3.31452e-01, -6.05556e-01],[-3.85369e-01, -5.15497e-01],[-3.99885e-01, -6.21930e-01],[-1.24078e-01, -1.26608e-01],[-3.16935e-01, -2.28947e-01],[-2.94124e-01, -1.34795e-01],[-1.53111e-01,  1.84503e-01]])"
      ],
      "metadata": {
        "id": "-0CJPXS83kxQ"
      },
      "execution_count": 2,
      "outputs": []
    },
    {
      "cell_type": "code",
      "source": [
        "df = pd.DataFrame(X,columns=['X','Y'])"
      ],
      "metadata": {
        "id": "5ZQR6MwA7Z-n"
      },
      "execution_count": 3,
      "outputs": []
    },
    {
      "cell_type": "code",
      "source": [
        "df['class'] = np.array([1., 1., 1., 1., 1., 1., 1., 1., 1., 1., 1., 1., 1., 1., 1., 1., 1.,\n",
        "       1., 1., 1., 0., 0., 0., 0., 0., 0., 0., 0., 0., 0., 0., 0., 0., 0.,\n",
        "       0., 0., 1., 1., 1., 0., 0., 0., 0., 0., 0., 0., 0., 0., 0., 0., 0.,\n",
        "       0., 0., 0., 0., 0., 0., 0., 0., 0., 0., 0., 0., 0., 0., 0., 0., 0.,\n",
        "       0., 0., 0., 0., 0., 0., 0., 0., 0., 0., 0., 0., 0., 1., 1., 1., 1.,\n",
        "       1., 1., 1., 1., 1., 1., 1., 1., 1., 1., 1., 1., 1., 1., 1., 1., 1.,\n",
        "       1., 1., 1., 1., 1., 1., 1., 1., 1., 1., 1., 1., 1., 1., 1., 0., 0.,\n",
        "       0., 0., 1., 1., 1., 1., 1., 1., 1., 1., 1., 1., 1., 1., 1., 1., 1.,\n",
        "       1., 1., 1., 1., 1., 1., 1., 1., 1., 1., 1., 1., 1., 1., 1., 0., 0.,\n",
        "       0., 0., 0., 0., 0., 0., 0., 0., 0., 0., 0., 0., 0., 0., 0., 0., 0.,\n",
        "       0., 0., 0., 0., 0., 0., 0., 0., 0., 0., 0., 0., 0., 0., 0., 0., 0.,\n",
        "       0., 0., 0., 0., 1., 1., 1., 1., 1., 1., 1., 1., 1., 1., 1., 1., 1.,\n",
        "       0., 1., 1., 1., 1., 0., 0.])"
      ],
      "metadata": {
        "id": "tT0Z4aHr7a2R"
      },
      "execution_count": 4,
      "outputs": []
    },
    {
      "cell_type": "code",
      "source": [
        "df.head()"
      ],
      "metadata": {
        "colab": {
          "base_uri": "https://localhost:8080/",
          "height": 206
        },
        "id": "yjwHpySv3nD6",
        "outputId": "881751c0-1106-4e4f-fa2c-bf1970c3c9a4"
      },
      "execution_count": 5,
      "outputs": [
        {
          "output_type": "execute_result",
          "data": {
            "text/plain": [
              "          X         Y  class\n",
              "0 -0.158986  0.423977    1.0\n",
              "1 -0.347926  0.470760    1.0\n",
              "2 -0.504608  0.353801    1.0\n",
              "3 -0.596774  0.114035    1.0\n",
              "4 -0.518433 -0.172515    1.0"
            ],
            "text/html": [
              "\n",
              "  <div id=\"df-2bf7686f-abca-412f-9501-28be34633006\" class=\"colab-df-container\">\n",
              "    <div>\n",
              "<style scoped>\n",
              "    .dataframe tbody tr th:only-of-type {\n",
              "        vertical-align: middle;\n",
              "    }\n",
              "\n",
              "    .dataframe tbody tr th {\n",
              "        vertical-align: top;\n",
              "    }\n",
              "\n",
              "    .dataframe thead th {\n",
              "        text-align: right;\n",
              "    }\n",
              "</style>\n",
              "<table border=\"1\" class=\"dataframe\">\n",
              "  <thead>\n",
              "    <tr style=\"text-align: right;\">\n",
              "      <th></th>\n",
              "      <th>X</th>\n",
              "      <th>Y</th>\n",
              "      <th>class</th>\n",
              "    </tr>\n",
              "  </thead>\n",
              "  <tbody>\n",
              "    <tr>\n",
              "      <th>0</th>\n",
              "      <td>-0.158986</td>\n",
              "      <td>0.423977</td>\n",
              "      <td>1.0</td>\n",
              "    </tr>\n",
              "    <tr>\n",
              "      <th>1</th>\n",
              "      <td>-0.347926</td>\n",
              "      <td>0.470760</td>\n",
              "      <td>1.0</td>\n",
              "    </tr>\n",
              "    <tr>\n",
              "      <th>2</th>\n",
              "      <td>-0.504608</td>\n",
              "      <td>0.353801</td>\n",
              "      <td>1.0</td>\n",
              "    </tr>\n",
              "    <tr>\n",
              "      <th>3</th>\n",
              "      <td>-0.596774</td>\n",
              "      <td>0.114035</td>\n",
              "      <td>1.0</td>\n",
              "    </tr>\n",
              "    <tr>\n",
              "      <th>4</th>\n",
              "      <td>-0.518433</td>\n",
              "      <td>-0.172515</td>\n",
              "      <td>1.0</td>\n",
              "    </tr>\n",
              "  </tbody>\n",
              "</table>\n",
              "</div>\n",
              "    <div class=\"colab-df-buttons\">\n",
              "\n",
              "  <div class=\"colab-df-container\">\n",
              "    <button class=\"colab-df-convert\" onclick=\"convertToInteractive('df-2bf7686f-abca-412f-9501-28be34633006')\"\n",
              "            title=\"Convert this dataframe to an interactive table.\"\n",
              "            style=\"display:none;\">\n",
              "\n",
              "  <svg xmlns=\"http://www.w3.org/2000/svg\" height=\"24px\" viewBox=\"0 -960 960 960\">\n",
              "    <path d=\"M120-120v-720h720v720H120Zm60-500h600v-160H180v160Zm220 220h160v-160H400v160Zm0 220h160v-160H400v160ZM180-400h160v-160H180v160Zm440 0h160v-160H620v160ZM180-180h160v-160H180v160Zm440 0h160v-160H620v160Z\"/>\n",
              "  </svg>\n",
              "    </button>\n",
              "\n",
              "  <style>\n",
              "    .colab-df-container {\n",
              "      display:flex;\n",
              "      gap: 12px;\n",
              "    }\n",
              "\n",
              "    .colab-df-convert {\n",
              "      background-color: #E8F0FE;\n",
              "      border: none;\n",
              "      border-radius: 50%;\n",
              "      cursor: pointer;\n",
              "      display: none;\n",
              "      fill: #1967D2;\n",
              "      height: 32px;\n",
              "      padding: 0 0 0 0;\n",
              "      width: 32px;\n",
              "    }\n",
              "\n",
              "    .colab-df-convert:hover {\n",
              "      background-color: #E2EBFA;\n",
              "      box-shadow: 0px 1px 2px rgba(60, 64, 67, 0.3), 0px 1px 3px 1px rgba(60, 64, 67, 0.15);\n",
              "      fill: #174EA6;\n",
              "    }\n",
              "\n",
              "    .colab-df-buttons div {\n",
              "      margin-bottom: 4px;\n",
              "    }\n",
              "\n",
              "    [theme=dark] .colab-df-convert {\n",
              "      background-color: #3B4455;\n",
              "      fill: #D2E3FC;\n",
              "    }\n",
              "\n",
              "    [theme=dark] .colab-df-convert:hover {\n",
              "      background-color: #434B5C;\n",
              "      box-shadow: 0px 1px 3px 1px rgba(0, 0, 0, 0.15);\n",
              "      filter: drop-shadow(0px 1px 2px rgba(0, 0, 0, 0.3));\n",
              "      fill: #FFFFFF;\n",
              "    }\n",
              "  </style>\n",
              "\n",
              "    <script>\n",
              "      const buttonEl =\n",
              "        document.querySelector('#df-2bf7686f-abca-412f-9501-28be34633006 button.colab-df-convert');\n",
              "      buttonEl.style.display =\n",
              "        google.colab.kernel.accessAllowed ? 'block' : 'none';\n",
              "\n",
              "      async function convertToInteractive(key) {\n",
              "        const element = document.querySelector('#df-2bf7686f-abca-412f-9501-28be34633006');\n",
              "        const dataTable =\n",
              "          await google.colab.kernel.invokeFunction('convertToInteractive',\n",
              "                                                    [key], {});\n",
              "        if (!dataTable) return;\n",
              "\n",
              "        const docLinkHtml = 'Like what you see? Visit the ' +\n",
              "          '<a target=\"_blank\" href=https://colab.research.google.com/notebooks/data_table.ipynb>data table notebook</a>'\n",
              "          + ' to learn more about interactive tables.';\n",
              "        element.innerHTML = '';\n",
              "        dataTable['output_type'] = 'display_data';\n",
              "        await google.colab.output.renderOutput(dataTable, element);\n",
              "        const docLink = document.createElement('div');\n",
              "        docLink.innerHTML = docLinkHtml;\n",
              "        element.appendChild(docLink);\n",
              "      }\n",
              "    </script>\n",
              "  </div>\n",
              "\n",
              "\n",
              "<div id=\"df-59727c82-506e-4576-9f16-6f8569b434cb\">\n",
              "  <button class=\"colab-df-quickchart\" onclick=\"quickchart('df-59727c82-506e-4576-9f16-6f8569b434cb')\"\n",
              "            title=\"Suggest charts\"\n",
              "            style=\"display:none;\">\n",
              "\n",
              "<svg xmlns=\"http://www.w3.org/2000/svg\" height=\"24px\"viewBox=\"0 0 24 24\"\n",
              "     width=\"24px\">\n",
              "    <g>\n",
              "        <path d=\"M19 3H5c-1.1 0-2 .9-2 2v14c0 1.1.9 2 2 2h14c1.1 0 2-.9 2-2V5c0-1.1-.9-2-2-2zM9 17H7v-7h2v7zm4 0h-2V7h2v10zm4 0h-2v-4h2v4z\"/>\n",
              "    </g>\n",
              "</svg>\n",
              "  </button>\n",
              "\n",
              "<style>\n",
              "  .colab-df-quickchart {\n",
              "      --bg-color: #E8F0FE;\n",
              "      --fill-color: #1967D2;\n",
              "      --hover-bg-color: #E2EBFA;\n",
              "      --hover-fill-color: #174EA6;\n",
              "      --disabled-fill-color: #AAA;\n",
              "      --disabled-bg-color: #DDD;\n",
              "  }\n",
              "\n",
              "  [theme=dark] .colab-df-quickchart {\n",
              "      --bg-color: #3B4455;\n",
              "      --fill-color: #D2E3FC;\n",
              "      --hover-bg-color: #434B5C;\n",
              "      --hover-fill-color: #FFFFFF;\n",
              "      --disabled-bg-color: #3B4455;\n",
              "      --disabled-fill-color: #666;\n",
              "  }\n",
              "\n",
              "  .colab-df-quickchart {\n",
              "    background-color: var(--bg-color);\n",
              "    border: none;\n",
              "    border-radius: 50%;\n",
              "    cursor: pointer;\n",
              "    display: none;\n",
              "    fill: var(--fill-color);\n",
              "    height: 32px;\n",
              "    padding: 0;\n",
              "    width: 32px;\n",
              "  }\n",
              "\n",
              "  .colab-df-quickchart:hover {\n",
              "    background-color: var(--hover-bg-color);\n",
              "    box-shadow: 0 1px 2px rgba(60, 64, 67, 0.3), 0 1px 3px 1px rgba(60, 64, 67, 0.15);\n",
              "    fill: var(--button-hover-fill-color);\n",
              "  }\n",
              "\n",
              "  .colab-df-quickchart-complete:disabled,\n",
              "  .colab-df-quickchart-complete:disabled:hover {\n",
              "    background-color: var(--disabled-bg-color);\n",
              "    fill: var(--disabled-fill-color);\n",
              "    box-shadow: none;\n",
              "  }\n",
              "\n",
              "  .colab-df-spinner {\n",
              "    border: 2px solid var(--fill-color);\n",
              "    border-color: transparent;\n",
              "    border-bottom-color: var(--fill-color);\n",
              "    animation:\n",
              "      spin 1s steps(1) infinite;\n",
              "  }\n",
              "\n",
              "  @keyframes spin {\n",
              "    0% {\n",
              "      border-color: transparent;\n",
              "      border-bottom-color: var(--fill-color);\n",
              "      border-left-color: var(--fill-color);\n",
              "    }\n",
              "    20% {\n",
              "      border-color: transparent;\n",
              "      border-left-color: var(--fill-color);\n",
              "      border-top-color: var(--fill-color);\n",
              "    }\n",
              "    30% {\n",
              "      border-color: transparent;\n",
              "      border-left-color: var(--fill-color);\n",
              "      border-top-color: var(--fill-color);\n",
              "      border-right-color: var(--fill-color);\n",
              "    }\n",
              "    40% {\n",
              "      border-color: transparent;\n",
              "      border-right-color: var(--fill-color);\n",
              "      border-top-color: var(--fill-color);\n",
              "    }\n",
              "    60% {\n",
              "      border-color: transparent;\n",
              "      border-right-color: var(--fill-color);\n",
              "    }\n",
              "    80% {\n",
              "      border-color: transparent;\n",
              "      border-right-color: var(--fill-color);\n",
              "      border-bottom-color: var(--fill-color);\n",
              "    }\n",
              "    90% {\n",
              "      border-color: transparent;\n",
              "      border-bottom-color: var(--fill-color);\n",
              "    }\n",
              "  }\n",
              "</style>\n",
              "\n",
              "  <script>\n",
              "    async function quickchart(key) {\n",
              "      const quickchartButtonEl =\n",
              "        document.querySelector('#' + key + ' button');\n",
              "      quickchartButtonEl.disabled = true;  // To prevent multiple clicks.\n",
              "      quickchartButtonEl.classList.add('colab-df-spinner');\n",
              "      try {\n",
              "        const charts = await google.colab.kernel.invokeFunction(\n",
              "            'suggestCharts', [key], {});\n",
              "      } catch (error) {\n",
              "        console.error('Error during call to suggestCharts:', error);\n",
              "      }\n",
              "      quickchartButtonEl.classList.remove('colab-df-spinner');\n",
              "      quickchartButtonEl.classList.add('colab-df-quickchart-complete');\n",
              "    }\n",
              "    (() => {\n",
              "      let quickchartButtonEl =\n",
              "        document.querySelector('#df-59727c82-506e-4576-9f16-6f8569b434cb button');\n",
              "      quickchartButtonEl.style.display =\n",
              "        google.colab.kernel.accessAllowed ? 'block' : 'none';\n",
              "    })();\n",
              "  </script>\n",
              "</div>\n",
              "\n",
              "    </div>\n",
              "  </div>\n"
            ],
            "application/vnd.google.colaboratory.intrinsic+json": {
              "type": "dataframe",
              "variable_name": "df",
              "summary": "{\n  \"name\": \"df\",\n  \"rows\": 211,\n  \"fields\": [\n    {\n      \"column\": \"X\",\n      \"properties\": {\n        \"dtype\": \"number\",\n        \"std\": 0.20051645342090915,\n        \"min\": -0.596774,\n        \"max\": 0.297235,\n        \"num_unique_values\": 170,\n        \"samples\": [\n          -0.0577189,\n          -0.00691244,\n          -0.437212\n        ],\n        \"semantic_type\": \"\",\n        \"description\": \"\"\n      }\n    },\n    {\n      \"column\": \"Y\",\n      \"properties\": {\n        \"dtype\": \"number\",\n        \"std\": 0.3147505344932547,\n        \"min\": -0.657895,\n        \"max\": 0.573392,\n        \"num_unique_values\": 166,\n        \"samples\": [\n          0.00438596,\n          -0.527778,\n          0.418129\n        ],\n        \"semantic_type\": \"\",\n        \"description\": \"\"\n      }\n    },\n    {\n      \"column\": \"class\",\n      \"properties\": {\n        \"dtype\": \"number\",\n        \"std\": 0.5011834336081179,\n        \"min\": 0.0,\n        \"max\": 1.0,\n        \"num_unique_values\": 2,\n        \"samples\": [\n          0.0,\n          1.0\n        ],\n        \"semantic_type\": \"\",\n        \"description\": \"\"\n      }\n    }\n  ]\n}"
            }
          },
          "metadata": {},
          "execution_count": 5
        }
      ]
    },
    {
      "cell_type": "code",
      "source": [
        "plt.figure(figsize=(5,3))\n",
        "plt.scatter(df['X'],df['Y'],c=df['class'])"
      ],
      "metadata": {
        "colab": {
          "base_uri": "https://localhost:8080/",
          "height": 308
        },
        "id": "gzRfDEgj3nzK",
        "outputId": "2ef2e3bc-c959-485e-9752-a181dbbffa65"
      },
      "execution_count": 6,
      "outputs": [
        {
          "output_type": "execute_result",
          "data": {
            "text/plain": [
              "<matplotlib.collections.PathCollection at 0x780031e2bcd0>"
            ]
          },
          "metadata": {},
          "execution_count": 6
        },
        {
          "output_type": "display_data",
          "data": {
            "text/plain": [
              "<Figure size 500x300 with 1 Axes>"
            ],
            "image/png": "[encoded data removed]"
          },
          "metadata": {}
        }
      ]
    },
    {
      "cell_type": "code",
      "source": [
        "X = df.iloc[:,0:2].values\n",
        "y = df.iloc[:,-1].values"
      ],
      "metadata": {
        "id": "VueL_H_-4Fxr"
      },
      "execution_count": 7,
      "outputs": []
    },
    {
      "cell_type": "code",
      "source": [
        "import tensorflow\n",
        "from tensorflow import keras\n",
        "from keras import Sequential\n",
        "from keras.layers import Dense"
      ],
      "metadata": {
        "id": "aLJYMP274XIV"
      },
      "execution_count": 8,
      "outputs": []
    },
    {
      "cell_type": "code",
      "source": [
        "model = Sequential()\n",
        "\n",
        "model.add(Dense(10,activation='sigmoid',input_dim=2))\n",
        "model.add(Dense(1,activation='sigmoid'))\n",
        "\n",
        "model.summary()"
      ],
      "metadata": {
        "colab": {
          "base_uri": "https://localhost:8080/"
        },
        "id": "Ec6aw2ft4nj2",
        "outputId": "540e5bf8-a30f-4aac-a929-9bf5da1d6b40"
      },
      "execution_count": 9,
      "outputs": [
        {
          "output_type": "stream",
          "name": "stdout",
          "text": [
            "Model: \"sequential\"\n",
            "_________________________________________________________________\n",
            " Layer (type)                Output Shape              Param #   \n",
            "=================================================================\n",
            " dense (Dense)               (None, 10)                30        \n",
            "                                                                 \n",
            " dense_1 (Dense)             (None, 1)                 11        \n",
            "                                                                 \n",
            "=================================================================\n",
            "Total params: 41 (164.00 Byte)\n",
            "Trainable params: 41 (164.00 Byte)\n",
            "Non-trainable params: 0 (0.00 Byte)\n",
            "_________________________________________________________________\n"
          ]
        }
      ]
    },
    {
      "cell_type": "code",
      "source": [
        "# Set parameters to 0\n",
        "model.get_weights()"
      ],
      "metadata": {
        "colab": {
          "base_uri": "https://localhost:8080/"
        },
        "id": "UiC2zbhh5E7u",
        "outputId": "a62292fe-4e40-404e-804d-6d8da6f895cc"
      },
      "execution_count": 10,
      "outputs": [
        {
          "output_type": "execute_result",
          "data": {
            "text/plain": [
              "[array([[ 0.22852695, -0.3014302 , -0.42810744, -0.16476011,  0.5982103 ,\n",
              "         -0.16270489, -0.22514576,  0.6437294 ,  0.00393128,  0.28836906],\n",
              "        [-0.51892614, -0.13626379,  0.7031074 ,  0.7006337 , -0.3417489 ,\n",
              "          0.37245792,  0.33888978,  0.01689804, -0.40279457, -0.52517164]],\n",
              "       dtype=float32),\n",
              " array([0., 0., 0., 0., 0., 0., 0., 0., 0., 0.], dtype=float32),\n",
              " array([[-0.33261716],\n",
              "        [-0.06396419],\n",
              "        [-0.1443873 ],\n",
              "        [ 0.21421123],\n",
              "        [ 0.44656998],\n",
              "        [-0.03066868],\n",
              "        [ 0.10518068],\n",
              "        [-0.05551004],\n",
              "        [ 0.24906611],\n",
              "        [ 0.7364287 ]], dtype=float32),\n",
              " array([0.], dtype=float32)]"
            ]
          },
          "metadata": {},
          "execution_count": 10
        }
      ]
    },
    {
      "cell_type": "code",
      "source": [
        "initial_weights = model.get_weights()"
      ],
      "metadata": {
        "id": "d2FB7EP46PXy"
      },
      "execution_count": 11,
      "outputs": []
    },
    {
      "cell_type": "code",
      "source": [
        "initial_weights[0] = np.zeros(model.get_weights()[0].shape)\n",
        "initial_weights[1] = np.zeros(model.get_weights()[1].shape)\n",
        "initial_weights[2] = np.zeros(model.get_weights()[2].shape)\n",
        "initial_weights[3] = np.zeros(model.get_weights()[3].shape)"
      ],
      "metadata": {
        "id": "Bik184Ij5aQJ"
      },
      "execution_count": 12,
      "outputs": []
    },
    {
      "cell_type": "code",
      "source": [
        "model.set_weights(initial_weights)"
      ],
      "metadata": {
        "id": "-u1RIZ_W5fXK"
      },
      "execution_count": 13,
      "outputs": []
    },
    {
      "cell_type": "code",
      "source": [
        "model.get_weights()"
      ],
      "metadata": {
        "colab": {
          "base_uri": "https://localhost:8080/"
        },
        "id": "ryIDZEQs6fOa",
        "outputId": "fd743794-0a76-491f-b9bf-84493bd55852"
      },
      "execution_count": 14,
      "outputs": [
        {
          "output_type": "execute_result",
          "data": {
            "text/plain": [
              "[array([[0., 0., 0., 0., 0., 0., 0., 0., 0., 0.],\n",
              "        [0., 0., 0., 0., 0., 0., 0., 0., 0., 0.]], dtype=float32),\n",
              " array([0., 0., 0., 0., 0., 0., 0., 0., 0., 0.], dtype=float32),\n",
              " array([[0.],\n",
              "        [0.],\n",
              "        [0.],\n",
              "        [0.],\n",
              "        [0.],\n",
              "        [0.],\n",
              "        [0.],\n",
              "        [0.],\n",
              "        [0.],\n",
              "        [0.]], dtype=float32),\n",
              " array([0.], dtype=float32)]"
            ]
          },
          "metadata": {},
          "execution_count": 14
        }
      ]
    },
    {
      "cell_type": "code",
      "source": [
        "model.compile(loss='binary_crossentropy',optimizer='adam',metrics=['accuracy'])"
      ],
      "metadata": {
        "id": "6Vm5Nvfm6hkn"
      },
      "execution_count": 15,
      "outputs": []
    },
    {
      "cell_type": "code",
      "source": [
        "history = model.fit(X,y,epochs=100,validation_split=0.2)"
      ],
      "metadata": {
        "colab": {
          "base_uri": "https://localhost:8080/"
        },
        "id": "-p_KvM6e62Xe",
        "outputId": "403e7086-a9fe-4054-e872-8418f0c9c026"
      },
      "execution_count": 16,
      "outputs": [
        {
          "output_type": "stream",
          "name": "stdout",
          "text": [
            "Epoch 1/100\n",
            "6/6 [==============================] - 2s 47ms/step - loss: 0.6934 - accuracy: 0.4702 - val_loss: 0.6931 - val_accuracy: 0.6047\n",
            "Epoch 2/100\n",
            "6/6 [==============================] - 0s 13ms/step - loss: 0.6930 - accuracy: 0.5179 - val_loss: 0.6949 - val_accuracy: 0.3953\n",
            "Epoch 3/100\n",
            "6/6 [==============================] - 0s 8ms/step - loss: 0.6928 - accuracy: 0.5298 - val_loss: 0.6964 - val_accuracy: 0.3953\n",
            "Epoch 4/100\n",
            "6/6 [==============================] - 0s 8ms/step - loss: 0.6924 - accuracy: 0.5298 - val_loss: 0.6968 - val_accuracy: 0.3953\n",
            "Epoch 5/100\n",
            "6/6 [==============================] - 0s 11ms/step - loss: 0.6921 - accuracy: 0.5298 - val_loss: 0.6978 - val_accuracy: 0.3953\n",
            "Epoch 6/100\n",
            "6/6 [==============================] - 0s 12ms/step - loss: 0.6920 - accuracy: 0.5298 - val_loss: 0.6990 - val_accuracy: 0.3953\n",
            "Epoch 7/100\n",
            "6/6 [==============================] - 0s 9ms/step - loss: 0.6919 - accuracy: 0.5298 - val_loss: 0.6994 - val_accuracy: 0.3953\n",
            "Epoch 8/100\n",
            "6/6 [==============================] - 0s 13ms/step - loss: 0.6918 - accuracy: 0.5298 - val_loss: 0.7004 - val_accuracy: 0.3953\n",
            "Epoch 9/100\n",
            "6/6 [==============================] - 0s 8ms/step - loss: 0.6916 - accuracy: 0.5298 - val_loss: 0.7004 - val_accuracy: 0.3953\n",
            "Epoch 10/100\n",
            "6/6 [==============================] - 0s 8ms/step - loss: 0.6916 - accuracy: 0.5298 - val_loss: 0.7009 - val_accuracy: 0.3953\n",
            "Epoch 11/100\n",
            "6/6 [==============================] - 0s 8ms/step - loss: 0.6914 - accuracy: 0.5298 - val_loss: 0.7016 - val_accuracy: 0.3953\n",
            "Epoch 12/100\n",
            "6/6 [==============================] - 0s 8ms/step - loss: 0.6913 - accuracy: 0.5298 - val_loss: 0.7019 - val_accuracy: 0.3953\n",
            "Epoch 13/100\n",
            "6/6 [==============================] - 0s 8ms/step - loss: 0.6912 - accuracy: 0.5298 - val_loss: 0.7021 - val_accuracy: 0.3953\n",
            "Epoch 14/100\n",
            "6/6 [==============================] - 0s 11ms/step - loss: 0.6911 - accuracy: 0.5298 - val_loss: 0.7028 - val_accuracy: 0.3953\n",
            "Epoch 15/100\n",
            "6/6 [==============================] - 0s 8ms/step - loss: 0.6910 - accuracy: 0.5298 - val_loss: 0.7031 - val_accuracy: 0.3953\n",
            "Epoch 16/100\n",
            "6/6 [==============================] - 0s 11ms/step - loss: 0.6910 - accuracy: 0.5298 - val_loss: 0.7029 - val_accuracy: 0.3953\n",
            "Epoch 17/100\n",
            "6/6 [==============================] - 0s 12ms/step - loss: 0.6909 - accuracy: 0.5298 - val_loss: 0.7032 - val_accuracy: 0.3953\n",
            "Epoch 18/100\n",
            "6/6 [==============================] - 0s 8ms/step - loss: 0.6908 - accuracy: 0.5298 - val_loss: 0.7036 - val_accuracy: 0.3953\n",
            "Epoch 19/100\n",
            "6/6 [==============================] - 0s 12ms/step - loss: 0.6907 - accuracy: 0.5298 - val_loss: 0.7041 - val_accuracy: 0.3953\n",
            "Epoch 20/100\n",
            "6/6 [==============================] - 0s 11ms/step - loss: 0.6906 - accuracy: 0.5298 - val_loss: 0.7054 - val_accuracy: 0.3953\n",
            "Epoch 21/100\n",
            "6/6 [==============================] - 0s 12ms/step - loss: 0.6904 - accuracy: 0.5298 - val_loss: 0.7058 - val_accuracy: 0.3953\n",
            "Epoch 22/100\n",
            "6/6 [==============================] - 0s 9ms/step - loss: 0.6903 - accuracy: 0.5298 - val_loss: 0.7064 - val_accuracy: 0.3953\n",
            "Epoch 23/100\n",
            "6/6 [==============================] - 0s 8ms/step - loss: 0.6902 - accuracy: 0.5298 - val_loss: 0.7067 - val_accuracy: 0.3953\n",
            "Epoch 24/100\n",
            "6/6 [==============================] - 0s 9ms/step - loss: 0.6901 - accuracy: 0.5298 - val_loss: 0.7073 - val_accuracy: 0.3953\n",
            "Epoch 25/100\n",
            "6/6 [==============================] - 0s 12ms/step - loss: 0.6899 - accuracy: 0.5298 - val_loss: 0.7084 - val_accuracy: 0.3953\n",
            "Epoch 26/100\n",
            "6/6 [==============================] - 0s 9ms/step - loss: 0.6897 - accuracy: 0.5298 - val_loss: 0.7091 - val_accuracy: 0.3953\n",
            "Epoch 27/100\n",
            "6/6 [==============================] - 0s 12ms/step - loss: 0.6897 - accuracy: 0.5298 - val_loss: 0.7095 - val_accuracy: 0.3953\n",
            "Epoch 28/100\n",
            "6/6 [==============================] - 0s 8ms/step - loss: 0.6896 - accuracy: 0.5298 - val_loss: 0.7093 - val_accuracy: 0.3953\n",
            "Epoch 29/100\n",
            "6/6 [==============================] - 0s 11ms/step - loss: 0.6896 - accuracy: 0.5298 - val_loss: 0.7093 - val_accuracy: 0.3953\n",
            "Epoch 30/100\n",
            "6/6 [==============================] - 0s 11ms/step - loss: 0.6893 - accuracy: 0.5298 - val_loss: 0.7107 - val_accuracy: 0.3953\n",
            "Epoch 31/100\n",
            "6/6 [==============================] - 0s 12ms/step - loss: 0.6892 - accuracy: 0.5298 - val_loss: 0.7119 - val_accuracy: 0.3953\n",
            "Epoch 32/100\n",
            "6/6 [==============================] - 0s 9ms/step - loss: 0.6891 - accuracy: 0.5298 - val_loss: 0.7133 - val_accuracy: 0.3953\n",
            "Epoch 33/100\n",
            "6/6 [==============================] - 0s 8ms/step - loss: 0.6889 - accuracy: 0.5298 - val_loss: 0.7142 - val_accuracy: 0.3953\n",
            "Epoch 34/100\n",
            "6/6 [==============================] - 0s 8ms/step - loss: 0.6888 - accuracy: 0.5298 - val_loss: 0.7149 - val_accuracy: 0.3953\n",
            "Epoch 35/100\n",
            "6/6 [==============================] - 0s 8ms/step - loss: 0.6886 - accuracy: 0.5298 - val_loss: 0.7155 - val_accuracy: 0.3953\n",
            "Epoch 36/100\n",
            "6/6 [==============================] - 0s 12ms/step - loss: 0.6887 - accuracy: 0.5298 - val_loss: 0.7160 - val_accuracy: 0.3953\n",
            "Epoch 37/100\n",
            "6/6 [==============================] - 0s 11ms/step - loss: 0.6883 - accuracy: 0.5298 - val_loss: 0.7156 - val_accuracy: 0.3953\n",
            "Epoch 38/100\n",
            "6/6 [==============================] - 0s 9ms/step - loss: 0.6882 - accuracy: 0.5298 - val_loss: 0.7155 - val_accuracy: 0.3953\n",
            "Epoch 39/100\n",
            "6/6 [==============================] - 0s 12ms/step - loss: 0.6881 - accuracy: 0.5298 - val_loss: 0.7148 - val_accuracy: 0.3953\n",
            "Epoch 40/100\n",
            "6/6 [==============================] - 0s 8ms/step - loss: 0.6879 - accuracy: 0.5298 - val_loss: 0.7145 - val_accuracy: 0.3953\n",
            "Epoch 41/100\n",
            "6/6 [==============================] - 0s 11ms/step - loss: 0.6878 - accuracy: 0.5298 - val_loss: 0.7144 - val_accuracy: 0.3953\n",
            "Epoch 42/100\n",
            "6/6 [==============================] - 0s 12ms/step - loss: 0.6876 - accuracy: 0.5298 - val_loss: 0.7141 - val_accuracy: 0.3953\n",
            "Epoch 43/100\n",
            "6/6 [==============================] - 0s 12ms/step - loss: 0.6875 - accuracy: 0.5298 - val_loss: 0.7135 - val_accuracy: 0.3953\n",
            "Epoch 44/100\n",
            "6/6 [==============================] - 0s 8ms/step - loss: 0.6874 - accuracy: 0.5298 - val_loss: 0.7129 - val_accuracy: 0.3953\n",
            "Epoch 45/100\n",
            "6/6 [==============================] - 0s 11ms/step - loss: 0.6873 - accuracy: 0.5298 - val_loss: 0.7129 - val_accuracy: 0.3953\n",
            "Epoch 46/100\n",
            "6/6 [==============================] - 0s 11ms/step - loss: 0.6872 - accuracy: 0.5298 - val_loss: 0.7131 - val_accuracy: 0.3953\n",
            "Epoch 47/100\n",
            "6/6 [==============================] - 0s 11ms/step - loss: 0.6869 - accuracy: 0.5298 - val_loss: 0.7143 - val_accuracy: 0.3953\n",
            "Epoch 48/100\n",
            "6/6 [==============================] - 0s 11ms/step - loss: 0.6867 - accuracy: 0.5298 - val_loss: 0.7154 - val_accuracy: 0.3953\n",
            "Epoch 49/100\n",
            "6/6 [==============================] - 0s 8ms/step - loss: 0.6865 - accuracy: 0.5298 - val_loss: 0.7171 - val_accuracy: 0.3953\n",
            "Epoch 50/100\n",
            "6/6 [==============================] - 0s 11ms/step - loss: 0.6863 - accuracy: 0.5298 - val_loss: 0.7185 - val_accuracy: 0.3953\n",
            "Epoch 51/100\n",
            "6/6 [==============================] - 0s 8ms/step - loss: 0.6862 - accuracy: 0.5298 - val_loss: 0.7190 - val_accuracy: 0.3953\n",
            "Epoch 52/100\n",
            "6/6 [==============================] - 0s 8ms/step - loss: 0.6860 - accuracy: 0.5298 - val_loss: 0.7202 - val_accuracy: 0.3953\n",
            "Epoch 53/100\n",
            "6/6 [==============================] - 0s 13ms/step - loss: 0.6858 - accuracy: 0.5298 - val_loss: 0.7215 - val_accuracy: 0.3953\n",
            "Epoch 54/100\n",
            "6/6 [==============================] - 0s 8ms/step - loss: 0.6856 - accuracy: 0.5298 - val_loss: 0.7215 - val_accuracy: 0.3953\n",
            "Epoch 55/100\n",
            "6/6 [==============================] - 0s 9ms/step - loss: 0.6854 - accuracy: 0.5298 - val_loss: 0.7213 - val_accuracy: 0.3953\n",
            "Epoch 56/100\n",
            "6/6 [==============================] - 0s 11ms/step - loss: 0.6852 - accuracy: 0.5298 - val_loss: 0.7223 - val_accuracy: 0.3953\n",
            "Epoch 57/100\n",
            "6/6 [==============================] - 0s 11ms/step - loss: 0.6850 - accuracy: 0.5298 - val_loss: 0.7228 - val_accuracy: 0.3953\n",
            "Epoch 58/100\n",
            "6/6 [==============================] - 0s 8ms/step - loss: 0.6847 - accuracy: 0.5298 - val_loss: 0.7222 - val_accuracy: 0.3953\n",
            "Epoch 59/100\n",
            "6/6 [==============================] - 0s 12ms/step - loss: 0.6845 - accuracy: 0.5298 - val_loss: 0.7208 - val_accuracy: 0.3953\n",
            "Epoch 60/100\n",
            "6/6 [==============================] - 0s 8ms/step - loss: 0.6842 - accuracy: 0.5298 - val_loss: 0.7201 - val_accuracy: 0.3953\n",
            "Epoch 61/100\n",
            "6/6 [==============================] - 0s 9ms/step - loss: 0.6840 - accuracy: 0.5298 - val_loss: 0.7191 - val_accuracy: 0.3953\n",
            "Epoch 62/100\n",
            "6/6 [==============================] - 0s 8ms/step - loss: 0.6839 - accuracy: 0.5298 - val_loss: 0.7185 - val_accuracy: 0.3953\n",
            "Epoch 63/100\n",
            "6/6 [==============================] - 0s 8ms/step - loss: 0.6836 - accuracy: 0.5298 - val_loss: 0.7186 - val_accuracy: 0.3953\n",
            "Epoch 64/100\n",
            "6/6 [==============================] - 0s 9ms/step - loss: 0.6833 - accuracy: 0.5298 - val_loss: 0.7191 - val_accuracy: 0.3953\n",
            "Epoch 65/100\n",
            "6/6 [==============================] - 0s 12ms/step - loss: 0.6832 - accuracy: 0.5298 - val_loss: 0.7204 - val_accuracy: 0.3953\n",
            "Epoch 66/100\n",
            "6/6 [==============================] - 0s 12ms/step - loss: 0.6828 - accuracy: 0.5298 - val_loss: 0.7214 - val_accuracy: 0.3953\n",
            "Epoch 67/100\n",
            "6/6 [==============================] - 0s 12ms/step - loss: 0.6825 - accuracy: 0.5298 - val_loss: 0.7219 - val_accuracy: 0.3953\n",
            "Epoch 68/100\n",
            "6/6 [==============================] - 0s 12ms/step - loss: 0.6823 - accuracy: 0.5298 - val_loss: 0.7225 - val_accuracy: 0.3953\n",
            "Epoch 69/100\n",
            "6/6 [==============================] - 0s 11ms/step - loss: 0.6820 - accuracy: 0.5298 - val_loss: 0.7234 - val_accuracy: 0.3953\n",
            "Epoch 70/100\n",
            "6/6 [==============================] - 0s 12ms/step - loss: 0.6817 - accuracy: 0.5298 - val_loss: 0.7236 - val_accuracy: 0.3953\n",
            "Epoch 71/100\n",
            "6/6 [==============================] - 0s 11ms/step - loss: 0.6815 - accuracy: 0.5298 - val_loss: 0.7236 - val_accuracy: 0.3953\n",
            "Epoch 72/100\n",
            "6/6 [==============================] - 0s 9ms/step - loss: 0.6812 - accuracy: 0.5298 - val_loss: 0.7232 - val_accuracy: 0.3953\n",
            "Epoch 73/100\n",
            "6/6 [==============================] - 0s 11ms/step - loss: 0.6808 - accuracy: 0.5298 - val_loss: 0.7223 - val_accuracy: 0.3953\n",
            "Epoch 74/100\n",
            "6/6 [==============================] - 0s 8ms/step - loss: 0.6806 - accuracy: 0.5298 - val_loss: 0.7214 - val_accuracy: 0.3953\n",
            "Epoch 75/100\n",
            "6/6 [==============================] - 0s 11ms/step - loss: 0.6803 - accuracy: 0.5298 - val_loss: 0.7214 - val_accuracy: 0.3953\n",
            "Epoch 76/100\n",
            "6/6 [==============================] - 0s 13ms/step - loss: 0.6800 - accuracy: 0.5298 - val_loss: 0.7217 - val_accuracy: 0.3953\n",
            "Epoch 77/100\n",
            "6/6 [==============================] - 0s 8ms/step - loss: 0.6797 - accuracy: 0.5298 - val_loss: 0.7216 - val_accuracy: 0.3953\n",
            "Epoch 78/100\n",
            "6/6 [==============================] - 0s 9ms/step - loss: 0.6793 - accuracy: 0.5298 - val_loss: 0.7217 - val_accuracy: 0.3953\n",
            "Epoch 79/100\n",
            "6/6 [==============================] - 0s 11ms/step - loss: 0.6790 - accuracy: 0.5298 - val_loss: 0.7222 - val_accuracy: 0.3953\n",
            "Epoch 80/100\n",
            "6/6 [==============================] - 0s 9ms/step - loss: 0.6786 - accuracy: 0.5298 - val_loss: 0.7227 - val_accuracy: 0.3953\n",
            "Epoch 81/100\n",
            "6/6 [==============================] - 0s 8ms/step - loss: 0.6782 - accuracy: 0.5298 - val_loss: 0.7241 - val_accuracy: 0.3953\n",
            "Epoch 82/100\n",
            "6/6 [==============================] - 0s 8ms/step - loss: 0.6779 - accuracy: 0.5298 - val_loss: 0.7250 - val_accuracy: 0.3953\n",
            "Epoch 83/100\n",
            "6/6 [==============================] - 0s 8ms/step - loss: 0.6776 - accuracy: 0.5298 - val_loss: 0.7249 - val_accuracy: 0.3953\n",
            "Epoch 84/100\n",
            "6/6 [==============================] - 0s 8ms/step - loss: 0.6774 - accuracy: 0.5298 - val_loss: 0.7241 - val_accuracy: 0.3953\n",
            "Epoch 85/100\n",
            "6/6 [==============================] - 0s 11ms/step - loss: 0.6769 - accuracy: 0.5298 - val_loss: 0.7241 - val_accuracy: 0.3953\n",
            "Epoch 86/100\n",
            "6/6 [==============================] - 0s 12ms/step - loss: 0.6765 - accuracy: 0.5298 - val_loss: 0.7239 - val_accuracy: 0.3953\n",
            "Epoch 87/100\n",
            "6/6 [==============================] - 0s 14ms/step - loss: 0.6761 - accuracy: 0.5298 - val_loss: 0.7241 - val_accuracy: 0.3953\n",
            "Epoch 88/100\n",
            "6/6 [==============================] - 0s 12ms/step - loss: 0.6758 - accuracy: 0.5298 - val_loss: 0.7241 - val_accuracy: 0.3953\n",
            "Epoch 89/100\n",
            "6/6 [==============================] - 0s 8ms/step - loss: 0.6752 - accuracy: 0.5298 - val_loss: 0.7250 - val_accuracy: 0.3953\n",
            "Epoch 90/100\n",
            "6/6 [==============================] - 0s 9ms/step - loss: 0.6749 - accuracy: 0.5298 - val_loss: 0.7261 - val_accuracy: 0.3953\n",
            "Epoch 91/100\n",
            "6/6 [==============================] - 0s 11ms/step - loss: 0.6746 - accuracy: 0.5298 - val_loss: 0.7275 - val_accuracy: 0.3953\n",
            "Epoch 92/100\n",
            "6/6 [==============================] - 0s 11ms/step - loss: 0.6741 - accuracy: 0.5298 - val_loss: 0.7275 - val_accuracy: 0.3953\n",
            "Epoch 93/100\n",
            "6/6 [==============================] - 0s 8ms/step - loss: 0.6737 - accuracy: 0.5298 - val_loss: 0.7273 - val_accuracy: 0.3953\n",
            "Epoch 94/100\n",
            "6/6 [==============================] - 0s 11ms/step - loss: 0.6734 - accuracy: 0.5298 - val_loss: 0.7260 - val_accuracy: 0.3953\n",
            "Epoch 95/100\n",
            "6/6 [==============================] - 0s 11ms/step - loss: 0.6728 - accuracy: 0.5298 - val_loss: 0.7263 - val_accuracy: 0.3953\n",
            "Epoch 96/100\n",
            "6/6 [==============================] - 0s 8ms/step - loss: 0.6723 - accuracy: 0.5298 - val_loss: 0.7267 - val_accuracy: 0.3953\n",
            "Epoch 97/100\n",
            "6/6 [==============================] - 0s 9ms/step - loss: 0.6719 - accuracy: 0.5298 - val_loss: 0.7271 - val_accuracy: 0.3953\n",
            "Epoch 98/100\n",
            "6/6 [==============================] - 0s 8ms/step - loss: 0.6713 - accuracy: 0.5298 - val_loss: 0.7268 - val_accuracy: 0.3953\n",
            "Epoch 99/100\n",
            "6/6 [==============================] - 0s 9ms/step - loss: 0.6709 - accuracy: 0.5298 - val_loss: 0.7270 - val_accuracy: 0.3953\n",
            "Epoch 100/100\n",
            "6/6 [==============================] - 0s 11ms/step - loss: 0.6704 - accuracy: 0.5298 - val_loss: 0.7267 - val_accuracy: 0.3953\n"
          ]
        }
      ]
    },
    {
      "cell_type": "code",
      "source": [
        "model.get_weights()"
      ],
      "metadata": {
        "colab": {
          "base_uri": "https://localhost:8080/"
        },
        "id": "Y58LpwyB7HBr",
        "outputId": "01b3b52c-d0ee-4a22-f777-45429f9779a0"
      },
      "execution_count": 17,
      "outputs": [
        {
          "output_type": "execute_result",
          "data": {
            "text/plain": [
              "[array([[-0.80653983, -0.80653983, -0.80653983, -0.80653983, -0.80653983,\n",
              "         -0.80653983, -0.80653983, -0.80653983, -0.80653983, -0.80653983],\n",
              "        [ 0.8449368 ,  0.8449368 ,  0.8449368 ,  0.8449368 ,  0.8449368 ,\n",
              "          0.8449368 ,  0.8449368 ,  0.8449368 ,  0.8449368 ,  0.8449368 ]],\n",
              "       dtype=float32),\n",
              " array([-0.13618734, -0.13618734, -0.13618733, -0.13618733, -0.13618733,\n",
              "        -0.13618733, -0.13618731, -0.13618731, -0.13618733, -0.13618733],\n",
              "       dtype=float32),\n",
              " array([[0.08421833],\n",
              "        [0.08421833],\n",
              "        [0.08421833],\n",
              "        [0.08421833],\n",
              "        [0.08421833],\n",
              "        [0.08421833],\n",
              "        [0.08421833],\n",
              "        [0.08421833],\n",
              "        [0.08421833],\n",
              "        [0.08421833]], dtype=float32),\n",
              " array([-0.07802489], dtype=float32)]"
            ]
          },
          "metadata": {},
          "execution_count": 17
        }
      ]
    },
    {
      "cell_type": "code",
      "source": [
        "from mlxtend.plotting import plot_decision_regions\n",
        "plt.figure(figsize=(5,3))\n",
        "plot_decision_regions(X,y.astype('int'), clf=model, legend=2)"
      ],
      "metadata": {
        "colab": {
          "base_uri": "https://localhost:8080/",
          "height": 326
        },
        "id": "9_DuSK3N7PDE",
        "outputId": "80986dc3-89e4-46fa-c80e-becadb5fb545"
      },
      "execution_count": 19,
      "outputs": [
        {
          "output_type": "stream",
          "name": "stdout",
          "text": [
            "4688/4688 [==============================] - 7s 1ms/step\n"
          ]
        },
        {
          "output_type": "execute_result",
          "data": {
            "text/plain": [
              "<Axes: >"
            ]
          },
          "metadata": {},
          "execution_count": 19
        },
        {
          "output_type": "display_data",
          "data": {
            "text/plain": [
              "<Figure size 500x300 with 1 Axes>"
            ],
            "image/png": "[encoded data removed]"
          },
          "metadata": {}
        }
      ]
    },
    {
      "cell_type": "code",
      "source": [
        "\n"
      ],
      "metadata": {
        "id": "hof12Hqs7oya"
      },
      "execution_count": null,
      "outputs": []
    },
    {
      "cell_type": "code",
      "source": [],
      "metadata": {
        "id": "a2nPmjYs74uY"
      },
      "execution_count": null,
      "outputs": []
    }
  ]
}