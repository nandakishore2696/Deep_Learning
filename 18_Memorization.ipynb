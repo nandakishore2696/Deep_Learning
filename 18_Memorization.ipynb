{
  "nbformat": 4,
  "nbformat_minor": 0,
  "metadata": {
    "colab": {
      "provenance": [],
      "authorship_tag": "ABX9TyN7/5/mwm17vFEm88XYQZCu",
      "include_colab_link": true
    },
    "kernelspec": {
      "name": "python3",
      "display_name": "Python 3"
    },
    "language_info": {
      "name": "python"
    }
  },
  "cells": [
    {
      "cell_type": "markdown",
      "metadata": {
        "id": "view-in-github",
        "colab_type": "text"
      },
      "source": [
        "<a href=\"https://colab.research.google.com/github/nandakishore2696/Deep_Learning_CampusX/blob/main/18_Memorization.ipynb\" target=\"_parent\"><img src=\"https://colab.research.google.com/assets/colab-badge.svg\" alt=\"Open In Colab\"/></a>"
      ]
    },
    {
      "cell_type": "code",
      "execution_count": 1,
      "metadata": {
        "id": "dvrUYVe_IQrS"
      },
      "outputs": [],
      "source": [
        "# fib\n",
        "\n",
        "def fib(n):\n",
        "  if n ==1 or n ==1 :\n",
        "    return 1\n",
        "  else:\n",
        "    return fib(n-1) + fib(n-2)"
      ]
    },
    {
      "cell_type": "code",
      "source": [
        "fib(5)"
      ],
      "metadata": {
        "colab": {
          "base_uri": "https://localhost:8080/",
          "height": 286
        },
        "id": "SWLbbNn2IrlT",
        "outputId": "b8af7b79-49ef-451c-f76c-85612c6cf184"
      },
      "execution_count": 2,
      "outputs": [
        {
          "output_type": "error",
          "ename": "RecursionError",
          "evalue": "maximum recursion depth exceeded in comparison",
          "traceback": [
            "\u001b[0;31m---------------------------------------------------------------------------\u001b[0m",
            "\u001b[0;31mRecursionError\u001b[0m                            Traceback (most recent call last)",
            "\u001b[0;32m<ipython-input-2-4220ac7d826f>\u001b[0m in \u001b[0;36m<cell line: 1>\u001b[0;34m()\u001b[0m\n\u001b[0;32m----> 1\u001b[0;31m \u001b[0mfib\u001b[0m\u001b[0;34m(\u001b[0m\u001b[0;36m5\u001b[0m\u001b[0;34m)\u001b[0m\u001b[0;34m\u001b[0m\u001b[0;34m\u001b[0m\u001b[0m\n\u001b[0m",
            "\u001b[0;32m<ipython-input-1-212dac5856a7>\u001b[0m in \u001b[0;36mfib\u001b[0;34m(n)\u001b[0m\n\u001b[1;32m      5\u001b[0m     \u001b[0;32mreturn\u001b[0m \u001b[0;36m1\u001b[0m\u001b[0;34m\u001b[0m\u001b[0;34m\u001b[0m\u001b[0m\n\u001b[1;32m      6\u001b[0m   \u001b[0;32melse\u001b[0m\u001b[0;34m:\u001b[0m\u001b[0;34m\u001b[0m\u001b[0;34m\u001b[0m\u001b[0m\n\u001b[0;32m----> 7\u001b[0;31m     \u001b[0;32mreturn\u001b[0m \u001b[0mfib\u001b[0m\u001b[0;34m(\u001b[0m\u001b[0mn\u001b[0m\u001b[0;34m-\u001b[0m\u001b[0;36m1\u001b[0m\u001b[0;34m)\u001b[0m \u001b[0;34m+\u001b[0m \u001b[0mfib\u001b[0m\u001b[0;34m(\u001b[0m\u001b[0mn\u001b[0m\u001b[0;34m-\u001b[0m\u001b[0;36m2\u001b[0m\u001b[0;34m)\u001b[0m\u001b[0;34m\u001b[0m\u001b[0;34m\u001b[0m\u001b[0m\n\u001b[0m",
            "... last 1 frames repeated, from the frame below ...\n",
            "\u001b[0;32m<ipython-input-1-212dac5856a7>\u001b[0m in \u001b[0;36mfib\u001b[0;34m(n)\u001b[0m\n\u001b[1;32m      5\u001b[0m     \u001b[0;32mreturn\u001b[0m \u001b[0;36m1\u001b[0m\u001b[0;34m\u001b[0m\u001b[0;34m\u001b[0m\u001b[0m\n\u001b[1;32m      6\u001b[0m   \u001b[0;32melse\u001b[0m\u001b[0;34m:\u001b[0m\u001b[0;34m\u001b[0m\u001b[0;34m\u001b[0m\u001b[0m\n\u001b[0;32m----> 7\u001b[0;31m     \u001b[0;32mreturn\u001b[0m \u001b[0mfib\u001b[0m\u001b[0;34m(\u001b[0m\u001b[0mn\u001b[0m\u001b[0;34m-\u001b[0m\u001b[0;36m1\u001b[0m\u001b[0;34m)\u001b[0m \u001b[0;34m+\u001b[0m \u001b[0mfib\u001b[0m\u001b[0;34m(\u001b[0m\u001b[0mn\u001b[0m\u001b[0;34m-\u001b[0m\u001b[0;36m2\u001b[0m\u001b[0;34m)\u001b[0m\u001b[0;34m\u001b[0m\u001b[0;34m\u001b[0m\u001b[0m\n\u001b[0m",
            "\u001b[0;31mRecursionError\u001b[0m: maximum recursion depth exceeded in comparison"
          ]
        }
      ]
    },
    {
      "cell_type": "code",
      "source": [
        "def fib1(n):\n",
        "  if n ==0 or n == 1 :\n",
        "    return n\n",
        "\n",
        "  a,b = 0,1\n",
        "  for _ in range(2,n+1):\n",
        "    c = a+b\n",
        "    a,b = b,c\n",
        "  return c\n"
      ],
      "metadata": {
        "id": "KGjrHtEEIvUT"
      },
      "execution_count": 21,
      "outputs": []
    },
    {
      "cell_type": "code",
      "source": [
        "import time\n",
        "t = time.time()\n",
        "print(fib1(30))\n",
        "print(time.time()-t)"
      ],
      "metadata": {
        "colab": {
          "base_uri": "https://localhost:8080/"
        },
        "id": "SITtw5bzKlYP",
        "outputId": "fdff6b55-74b2-4f96-8779-322bddc14b07"
      },
      "execution_count": 22,
      "outputs": [
        {
          "output_type": "stream",
          "name": "stdout",
          "text": [
            "832040\n",
            "0.0013778209686279297\n"
          ]
        }
      ]
    },
    {
      "cell_type": "markdown",
      "source": [
        "# Memorization"
      ],
      "metadata": {
        "id": "WtnPjeuTLy8e"
      }
    },
    {
      "cell_type": "code",
      "source": [
        "def fibm(n,d):\n",
        "  if n in d:\n",
        "    return d[n]\n",
        "  else:\n",
        "    d[n] = fibm(n-1,d) + fibm(n-2,d)\n",
        "    return d[n]"
      ],
      "metadata": {
        "id": "obv7GiedKoU9"
      },
      "execution_count": 27,
      "outputs": []
    },
    {
      "cell_type": "code",
      "source": [
        "t = time.time()\n",
        "d = {0:1, 1:1}\n",
        "print(fibm(30,d))\n",
        "print(time.time()-t)"
      ],
      "metadata": {
        "colab": {
          "base_uri": "https://localhost:8080/"
        },
        "id": "-Pb7DJpVMYKt",
        "outputId": "ba0e0821-d53b-4ba6-f100-a382c9eb8d46"
      },
      "execution_count": 33,
      "outputs": [
        {
          "output_type": "stream",
          "name": "stdout",
          "text": [
            "1346269\n",
            "0.00027942657470703125\n"
          ]
        }
      ]
    },
    {
      "cell_type": "code",
      "source": [
        "d"
      ],
      "metadata": {
        "colab": {
          "base_uri": "https://localhost:8080/"
        },
        "id": "vFoGIIOSMcKl",
        "outputId": "0739fc4b-ad42-44bf-e70c-8cf1457fa189"
      },
      "execution_count": 34,
      "outputs": [
        {
          "output_type": "execute_result",
          "data": {
            "text/plain": [
              "{0: 1,\n",
              " 1: 1,\n",
              " 2: 2,\n",
              " 3: 3,\n",
              " 4: 5,\n",
              " 5: 8,\n",
              " 6: 13,\n",
              " 7: 21,\n",
              " 8: 34,\n",
              " 9: 55,\n",
              " 10: 89,\n",
              " 11: 144,\n",
              " 12: 233,\n",
              " 13: 377,\n",
              " 14: 610,\n",
              " 15: 987,\n",
              " 16: 1597,\n",
              " 17: 2584,\n",
              " 18: 4181,\n",
              " 19: 6765,\n",
              " 20: 10946,\n",
              " 21: 17711,\n",
              " 22: 28657,\n",
              " 23: 46368,\n",
              " 24: 75025,\n",
              " 25: 121393,\n",
              " 26: 196418,\n",
              " 27: 317811,\n",
              " 28: 514229,\n",
              " 29: 832040,\n",
              " 30: 1346269}"
            ]
          },
          "metadata": {},
          "execution_count": 34
        }
      ]
    },
    {
      "cell_type": "code",
      "source": [],
      "metadata": {
        "id": "mYiXuAUyNDj1"
      },
      "execution_count": null,
      "outputs": []
    }
  ]
}