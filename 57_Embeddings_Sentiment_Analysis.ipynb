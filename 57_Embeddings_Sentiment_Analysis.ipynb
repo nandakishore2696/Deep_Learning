{
  "nbformat": 4,
  "nbformat_minor": 0,
  "metadata": {
    "colab": {
      "provenance": [],
      "gpuType": "T4",
      "authorship_tag": "ABX9TyNGftgWqEDYZccutoWPOzKf",
      "include_colab_link": true
    },
    "kernelspec": {
      "name": "python3",
      "display_name": "Python 3"
    },
    "language_info": {
      "name": "python"
    },
    "accelerator": "GPU"
  },
  "cells": [
    {
      "cell_type": "markdown",
      "metadata": {
        "id": "view-in-github",
        "colab_type": "text"
      },
      "source": [
        "<a href=\"https://colab.research.google.com/github/nandakishore2696/Deep_Learning_CX/blob/main/57_Embeddings_Sentiment_Analysis.ipynb\" target=\"_parent\"><img src=\"https://colab.research.google.com/assets/colab-badge.svg\" alt=\"Open In Colab\"/></a>"
      ]
    },
    {
      "cell_type": "code",
      "execution_count": 1,
      "metadata": {
        "id": "HQ06MzoELbKt"
      },
      "outputs": [],
      "source": [
        "docs = ['go india',\n",
        "\t\t'india india',\n",
        "\t\t'hip hip hurray',\n",
        "\t\t'jeetega bhai jeetega india jeetega',\n",
        "\t\t'bharat mata ki jai',\n",
        "\t\t'kohli kohli',\n",
        "\t\t'sachin sachin',\n",
        "\t\t'dhoni dhoni',\n",
        "\t\t'modi ji ki jai',\n",
        "\t\t'inquilab zindabad']"
      ]
    },
    {
      "cell_type": "code",
      "source": [
        "from keras.preprocessing.text import Tokenizer\n",
        "tokenizer = Tokenizer()"
      ],
      "metadata": {
        "id": "DqF07S06PrjY"
      },
      "execution_count": 2,
      "outputs": []
    },
    {
      "cell_type": "code",
      "source": [
        "tokenizer.fit_on_texts(docs)"
      ],
      "metadata": {
        "id": "AuoknyElP3M8"
      },
      "execution_count": 3,
      "outputs": []
    },
    {
      "cell_type": "code",
      "source": [
        "tokenizer.word_index"
      ],
      "metadata": {
        "colab": {
          "base_uri": "https://localhost:8080/"
        },
        "id": "CqoIdWdmP8id",
        "outputId": "253ee111-a789-4a00-8dda-199e26199a4c"
      },
      "execution_count": 4,
      "outputs": [
        {
          "output_type": "execute_result",
          "data": {
            "text/plain": [
              "{'india': 1,\n",
              " 'jeetega': 2,\n",
              " 'hip': 3,\n",
              " 'ki': 4,\n",
              " 'jai': 5,\n",
              " 'kohli': 6,\n",
              " 'sachin': 7,\n",
              " 'dhoni': 8,\n",
              " 'go': 9,\n",
              " 'hurray': 10,\n",
              " 'bhai': 11,\n",
              " 'bharat': 12,\n",
              " 'mata': 13,\n",
              " 'modi': 14,\n",
              " 'ji': 15,\n",
              " 'inquilab': 16,\n",
              " 'zindabad': 17}"
            ]
          },
          "metadata": {},
          "execution_count": 4
        }
      ]
    },
    {
      "cell_type": "code",
      "source": [
        "sequences = tokenizer.texts_to_sequences(docs)"
      ],
      "metadata": {
        "id": "tkZwu5WzQCPk"
      },
      "execution_count": 5,
      "outputs": []
    },
    {
      "cell_type": "code",
      "source": [
        "sequences"
      ],
      "metadata": {
        "colab": {
          "base_uri": "https://localhost:8080/"
        },
        "id": "dkKxsoFBQTcs",
        "outputId": "4a664dfc-7a50-4d09-d948-be51ed3fca1a"
      },
      "execution_count": 6,
      "outputs": [
        {
          "output_type": "execute_result",
          "data": {
            "text/plain": [
              "[[9, 1],\n",
              " [1, 1],\n",
              " [3, 3, 10],\n",
              " [2, 11, 2, 1, 2],\n",
              " [12, 13, 4, 5],\n",
              " [6, 6],\n",
              " [7, 7],\n",
              " [8, 8],\n",
              " [14, 15, 4, 5],\n",
              " [16, 17]]"
            ]
          },
          "metadata": {},
          "execution_count": 6
        }
      ]
    },
    {
      "cell_type": "code",
      "source": [
        "from keras.utils import pad_sequences\n",
        "sequences = pad_sequences(sequences, padding='post')\n",
        "sequences"
      ],
      "metadata": {
        "colab": {
          "base_uri": "https://localhost:8080/"
        },
        "id": "f2Vl9Az6QVxS",
        "outputId": "fa2a5189-357a-4c0d-e8ce-63d16f4f4af8"
      },
      "execution_count": 7,
      "outputs": [
        {
          "output_type": "execute_result",
          "data": {
            "text/plain": [
              "array([[ 9,  1,  0,  0,  0],\n",
              "       [ 1,  1,  0,  0,  0],\n",
              "       [ 3,  3, 10,  0,  0],\n",
              "       [ 2, 11,  2,  1,  2],\n",
              "       [12, 13,  4,  5,  0],\n",
              "       [ 6,  6,  0,  0,  0],\n",
              "       [ 7,  7,  0,  0,  0],\n",
              "       [ 8,  8,  0,  0,  0],\n",
              "       [14, 15,  4,  5,  0],\n",
              "       [16, 17,  0,  0,  0]], dtype=int32)"
            ]
          },
          "metadata": {},
          "execution_count": 7
        }
      ]
    },
    {
      "cell_type": "code",
      "source": [
        "from keras import Sequential\n",
        "from keras.layers import Embedding"
      ],
      "metadata": {
        "id": "1mAljlTdQrcw"
      },
      "execution_count": 8,
      "outputs": []
    },
    {
      "cell_type": "code",
      "source": [
        "model = Sequential()\n",
        "\n",
        "model.add(Embedding(17, output_dim=2, input_length=5))\n",
        "# Total no of sentences, output_dim, input length\n",
        "model.summary()"
      ],
      "metadata": {
        "colab": {
          "base_uri": "https://localhost:8080/"
        },
        "id": "hrh46fkoQjYc",
        "outputId": "c3fe0bcd-43d8-410a-c6e4-fde03b4278f1"
      },
      "execution_count": 11,
      "outputs": [
        {
          "output_type": "stream",
          "name": "stdout",
          "text": [
            "Model: \"sequential_2\"\n",
            "_________________________________________________________________\n",
            " Layer (type)                Output Shape              Param #   \n",
            "=================================================================\n",
            " embedding (Embedding)       (None, 5, 2)              34        \n",
            "                                                                 \n",
            "=================================================================\n",
            "Total params: 34 (136.00 Byte)\n",
            "Trainable params: 34 (136.00 Byte)\n",
            "Non-trainable params: 0 (0.00 Byte)\n",
            "_________________________________________________________________\n"
          ]
        }
      ]
    },
    {
      "cell_type": "code",
      "source": [
        "model.compile('adam', 'accuracy')"
      ],
      "metadata": {
        "id": "XEfyTm9sSPy6"
      },
      "execution_count": 12,
      "outputs": []
    },
    {
      "cell_type": "code",
      "source": [
        "preds = model.predict(sequences)\n",
        "preds"
      ],
      "metadata": {
        "colab": {
          "base_uri": "https://localhost:8080/"
        },
        "id": "AnUrmK_0SPvU",
        "outputId": "edfda82d-91a2-4792-bfc0-745d008133f6"
      },
      "execution_count": 13,
      "outputs": [
        {
          "output_type": "stream",
          "name": "stdout",
          "text": [
            "1/1 [==============================] - 0s 105ms/step\n"
          ]
        },
        {
          "output_type": "execute_result",
          "data": {
            "text/plain": [
              "array([[[ 0.01704928, -0.00210913],\n",
              "        [-0.04107195, -0.03784311],\n",
              "        [-0.02154739, -0.0478816 ],\n",
              "        [-0.02154739, -0.0478816 ],\n",
              "        [-0.02154739, -0.0478816 ]],\n",
              "\n",
              "       [[-0.04107195, -0.03784311],\n",
              "        [-0.04107195, -0.03784311],\n",
              "        [-0.02154739, -0.0478816 ],\n",
              "        [-0.02154739, -0.0478816 ],\n",
              "        [-0.02154739, -0.0478816 ]],\n",
              "\n",
              "       [[ 0.04883403,  0.0212836 ],\n",
              "        [ 0.04883403,  0.0212836 ],\n",
              "        [-0.02129032, -0.03951237],\n",
              "        [-0.02154739, -0.0478816 ],\n",
              "        [-0.02154739, -0.0478816 ]],\n",
              "\n",
              "       [[-0.02341499,  0.0404073 ],\n",
              "        [-0.02054272, -0.02158111],\n",
              "        [-0.02341499,  0.0404073 ],\n",
              "        [-0.04107195, -0.03784311],\n",
              "        [-0.02341499,  0.0404073 ]],\n",
              "\n",
              "       [[-0.02674832, -0.03842287],\n",
              "        [ 0.02901411, -0.03334226],\n",
              "        [-0.01069372, -0.04953901],\n",
              "        [-0.02626499,  0.01199348],\n",
              "        [-0.02154739, -0.0478816 ]],\n",
              "\n",
              "       [[ 0.02307275, -0.0012396 ],\n",
              "        [ 0.02307275, -0.0012396 ],\n",
              "        [-0.02154739, -0.0478816 ],\n",
              "        [-0.02154739, -0.0478816 ],\n",
              "        [-0.02154739, -0.0478816 ]],\n",
              "\n",
              "       [[-0.04850806,  0.03126109],\n",
              "        [-0.04850806,  0.03126109],\n",
              "        [-0.02154739, -0.0478816 ],\n",
              "        [-0.02154739, -0.0478816 ],\n",
              "        [-0.02154739, -0.0478816 ]],\n",
              "\n",
              "       [[ 0.00031395, -0.00779746],\n",
              "        [ 0.00031395, -0.00779746],\n",
              "        [-0.02154739, -0.0478816 ],\n",
              "        [-0.02154739, -0.0478816 ],\n",
              "        [-0.02154739, -0.0478816 ]],\n",
              "\n",
              "       [[-0.02617891, -0.03778131],\n",
              "        [-0.04863466, -0.02376617],\n",
              "        [-0.01069372, -0.04953901],\n",
              "        [-0.02626499,  0.01199348],\n",
              "        [-0.02154739, -0.0478816 ]],\n",
              "\n",
              "       [[ 0.02868232,  0.01468669],\n",
              "        [ 0.        ,  0.        ],\n",
              "        [-0.02154739, -0.0478816 ],\n",
              "        [-0.02154739, -0.0478816 ],\n",
              "        [-0.02154739, -0.0478816 ]]], dtype=float32)"
            ]
          },
          "metadata": {},
          "execution_count": 13
        }
      ]
    },
    {
      "cell_type": "code",
      "source": [],
      "metadata": {
        "id": "5zYZaFLtSPjm"
      },
      "execution_count": null,
      "outputs": []
    },
    {
      "cell_type": "code",
      "source": [
        "from keras.datasets import imdb\n",
        "from keras.preprocessing.text import Tokenizer\n",
        "from keras import Sequential\n",
        "from keras.layers import Dense,SimpleRNN,Flatten"
      ],
      "metadata": {
        "id": "aYrgaBGuRDt9"
      },
      "execution_count": 14,
      "outputs": []
    },
    {
      "cell_type": "code",
      "source": [
        "(x_train,y_train),(x_test,y_test) = imdb.load_data()"
      ],
      "metadata": {
        "id": "lWn3orz9TABI"
      },
      "execution_count": 24,
      "outputs": []
    },
    {
      "cell_type": "code",
      "source": [
        "x_train = pad_sequences(x_train, padding='post', maxlen=500)\n",
        "x_test = pad_sequences(x_test, padding='post', maxlen=500)"
      ],
      "metadata": {
        "id": "eDFLUOdnTDZU"
      },
      "execution_count": 25,
      "outputs": []
    },
    {
      "cell_type": "code",
      "source": [
        "x_train.shape"
      ],
      "metadata": {
        "colab": {
          "base_uri": "https://localhost:8080/"
        },
        "id": "P4OyX5s9TKz0",
        "outputId": "3f146d93-0eb8-467a-f7ba-dec8abf5bd18"
      },
      "execution_count": 26,
      "outputs": [
        {
          "output_type": "execute_result",
          "data": {
            "text/plain": [
              "(25000, 500)"
            ]
          },
          "metadata": {},
          "execution_count": 26
        }
      ]
    },
    {
      "cell_type": "code",
      "source": [
        "model = Sequential()\n",
        "\n",
        "model.add(Embedding(10000, output_dim=2, input_length=500))\n",
        "# Total no of sentences, output_dim, input length\n",
        "\n",
        "model.add(SimpleRNN(32, return_sequences=False))\n",
        "model.add(Dense(1, activation='sigmoid'))\n",
        "\n",
        "model.summary()"
      ],
      "metadata": {
        "colab": {
          "base_uri": "https://localhost:8080/"
        },
        "id": "kz1q1s47TMgE",
        "outputId": "d2063778-7409-4c6c-d72c-ca0bae2da08d"
      },
      "execution_count": 27,
      "outputs": [
        {
          "output_type": "stream",
          "name": "stdout",
          "text": [
            "Model: \"sequential_4\"\n",
            "_________________________________________________________________\n",
            " Layer (type)                Output Shape              Param #   \n",
            "=================================================================\n",
            " embedding_2 (Embedding)     (None, 500, 2)            20000     \n",
            "                                                                 \n",
            " simple_rnn_1 (SimpleRNN)    (None, 32)                1120      \n",
            "                                                                 \n",
            " dense_1 (Dense)             (None, 1)                 33        \n",
            "                                                                 \n",
            "=================================================================\n",
            "Total params: 21153 (82.63 KB)\n",
            "Trainable params: 21153 (82.63 KB)\n",
            "Non-trainable params: 0 (0.00 Byte)\n",
            "_________________________________________________________________\n"
          ]
        }
      ]
    },
    {
      "cell_type": "code",
      "source": [
        "model.compile(loss='binary_crossentropy', optimizer='adam', metrics=['accuracy'])\n",
        "\n",
        "history = model.fit(x_train,y_train, epochs=10,batch_size=100, validation_data=(x_test,y_test))"
      ],
      "metadata": {
        "colab": {
          "base_uri": "https://localhost:8080/"
        },
        "id": "vhd-wapIUFy4",
        "outputId": "ade2c397-57d2-4200-e0ed-5b2407f57d50"
      },
      "execution_count": 28,
      "outputs": [
        {
          "output_type": "stream",
          "name": "stdout",
          "text": [
            "Epoch 1/10\n",
            "250/250 [==============================] - 131s 521ms/step - loss: 0.6936 - accuracy: 0.4951 - val_loss: 0.6932 - val_accuracy: 0.5013\n",
            "Epoch 2/10\n",
            "250/250 [==============================] - 123s 492ms/step - loss: 0.6926 - accuracy: 0.5106 - val_loss: 0.6931 - val_accuracy: 0.4991\n",
            "Epoch 3/10\n",
            "250/250 [==============================] - 114s 457ms/step - loss: 0.6916 - accuracy: 0.5139 - val_loss: 0.6935 - val_accuracy: 0.4977\n",
            "Epoch 4/10\n",
            "250/250 [==============================] - 111s 443ms/step - loss: 0.6891 - accuracy: 0.5177 - val_loss: 0.6940 - val_accuracy: 0.4980\n",
            "Epoch 5/10\n",
            "250/250 [==============================] - 108s 434ms/step - loss: 0.6846 - accuracy: 0.5313 - val_loss: 0.6954 - val_accuracy: 0.4998\n",
            "Epoch 6/10\n",
            "250/250 [==============================] - 105s 419ms/step - loss: 0.6777 - accuracy: 0.5286 - val_loss: 0.6972 - val_accuracy: 0.5010\n",
            "Epoch 7/10\n",
            "250/250 [==============================] - 104s 417ms/step - loss: 0.6692 - accuracy: 0.5306 - val_loss: 0.6978 - val_accuracy: 0.4990\n",
            "Epoch 8/10\n",
            "250/250 [==============================] - 102s 407ms/step - loss: 0.6710 - accuracy: 0.5261 - val_loss: 0.6967 - val_accuracy: 0.5030\n",
            "Epoch 9/10\n",
            "250/250 [==============================] - 102s 406ms/step - loss: 0.6734 - accuracy: 0.5264 - val_loss: 0.7053 - val_accuracy: 0.4984\n",
            "Epoch 10/10\n",
            "250/250 [==============================] - 98s 391ms/step - loss: 0.6541 - accuracy: 0.5389 - val_loss: 0.7138 - val_accuracy: 0.4988\n"
          ]
        }
      ]
    },
    {
      "cell_type": "code",
      "source": [],
      "metadata": {
        "id": "GxbULxwrU5cl"
      },
      "execution_count": 28,
      "outputs": []
    }
  ]
}