{
  "nbformat": 4,
  "nbformat_minor": 0,
  "metadata": {
    "colab": {
      "provenance": [],
      "gpuType": "T4",
      "include_colab_link": true
    },
    "kernelspec": {
      "name": "python3",
      "display_name": "Python 3"
    },
    "language_info": {
      "name": "python"
    },
    "accelerator": "GPU"
  },
  "cells": [
    {
      "cell_type": "markdown",
      "metadata": {
        "id": "view-in-github",
        "colab_type": "text"
      },
      "source": [
        "<a href=\"https://colab.research.google.com/github/nandakishore2696/Deep_Learning_CX/blob/main/29_Constant_initialization_sigmoid%2CReLu%2Ctanh.ipynb\" target=\"_parent\"><img src=\"https://colab.research.google.com/assets/colab-badge.svg\" alt=\"Open In Colab\"/></a>"
      ]
    },
    {
      "cell_type": "code",
      "execution_count": 1,
      "metadata": {
        "id": "EZd6rozL3VIM"
      },
      "outputs": [],
      "source": [
        "import numpy as np\n",
        "import pandas as pd\n",
        "import matplotlib.pyplot as plt"
      ]
    },
    {
      "cell_type": "code",
      "source": [
        "X = np.array([[-1.58986e-01,  4.23977e-01],[-3.47926e-01,  4.70760e-01],[-5.04608e-01,  3.53801e-01],[-5.96774e-01,  1.14035e-01],\n",
        "       [-5.18433e-01, -1.72515e-01],[-2.92627e-01, -2.07602e-01],[-1.58986e-01, -4.38596e-02],[-5.76037e-02,  1.43275e-01],[-7.14286e-02,  2.71930e-01],\n",
        "       [-2.97235e-01,  3.47953e-01],[-4.17051e-01,  2.01754e-01],[-4.40092e-01,  8.77193e-03],[-3.24885e-01, -3.21637e-02],[-2.46544e-01,  5.55556e-02],\n",
        "       [-2.18894e-01,  2.01754e-01],[-3.43318e-01,  1.60819e-01],[-5.09217e-01,  7.89474e-02],[-3.84793e-01, -9.06433e-02],[-1.49770e-01,  1.25731e-01],\n",
        "       [-1.95853e-01,  3.24561e-01],[-3.91705e-02, -2.19298e-01],[-1.08295e-01, -3.01170e-01],[-1.86636e-01, -3.30409e-01],[-2.18894e-01, -4.23977e-01],\n",
        "       [-8.06452e-02, -5.64327e-01],[ 6.68203e-02, -5.17544e-01],[ 9.44700e-02, -3.24561e-01],[ 1.86636e-01, -1.66667e-01],[ 6.22120e-02, -7.30994e-02],\n",
        "       [ 2.07373e-02, -1.95906e-01],[ 2.99539e-02, -3.42105e-01],[-9.90783e-02, -3.77193e-01],[-6.91244e-03, -4.64912e-01],[ 1.31336e-01, -4.29825e-01],[ 2.32719e-01, -1.95906e-01],[ 8.52535e-02, -8.47953e-02],[-1.31336e-01, -2.36842e-01],\n",
        "       [ 2.30415e-03, -1.25731e-01],[ 1.22120e-01, -2.92398e-03],[-3.47926e-01, -3.12865e-01],[-2.28111e-01, -1.25731e-01],[-7.60369e-02,  1.46199e-02],[ 4.37788e-02,  2.04678e-02],[ 1.15207e-02,  1.54971e-01],[-4.17051e-01, -1.60819e-01],\n",
        "       [-3.15668e-01, -3.18713e-01],[ 1.26728e-01, -2.19298e-01],[ 2.05069e-01, -3.12865e-01],[ 2.18894e-01, -4.59064e-01],[ 7.14286e-02, -6.46199e-01],[-1.31336e-01, -6.05263e-01],[-2.09677e-01, -5.81871e-01],[-2.28111e-01, -4.29825e-01],\n",
        "       [-1.45161e-01, -4.12281e-01],[-6.68203e-02, -4.82456e-01],[ 1.35945e-01, -5.11696e-01],[ 2.69585e-01, -4.06433e-01],[ 2.97235e-01, -2.95322e-01],[ 2.74194e-01, -1.72515e-01],[ 2.55760e-01, -4.97076e-02],[ 2.23502e-01, -4.97076e-02],\n",
        "       [ 1.82028e-01, -8.47953e-02],[ 1.58986e-01, -1.54971e-01],[ 7.14286e-02, -2.13450e-01],[ 1.61290e-02, -2.66082e-01],[-2.53456e-02, -3.83041e-01],[-1.15207e-02, -4.82456e-01],[-2.30415e-03, -5.05848e-01],[ 2.53456e-02, -5.11696e-01],\n",
        "       [ 2.53456e-02, -5.58480e-01],[ 1.15207e-02, -6.57895e-01],[-4.83871e-02, -6.46199e-01],[-8.52535e-02, -5.52632e-01],[-9.90783e-02, -5.00000e-01],[-1.61290e-02, -4.23977e-01],[ 1.31336e-01, -3.59649e-01],[ 2.23502e-01, -3.71345e-01],\n",
        "       [ 2.92627e-01, -3.01170e-01],[ 2.60369e-01, -2.07602e-01],[ 2.00461e-01, -2.25146e-01],[ 1.72811e-01, -2.71930e-01],[-1.31336e-01,  9.06433e-02],[-1.49770e-01,  7.30994e-02],[-2.41935e-01,  6.14035e-02],[-3.01843e-01,  1.78363e-01],\n",
        "       [-2.97235e-01,  1.95906e-01],[-2.74194e-01,  3.07018e-01],[-3.24885e-01,  2.95322e-01],[-3.98618e-01,  2.66082e-01],[-4.35484e-01,  1.60819e-01],[-4.72350e-01,  7.89474e-02],[-3.38710e-01,  4.38596e-02],[-2.69585e-01,  4.38596e-02],\n",
        "       [-2.55760e-01,  1.02339e-01],[-1.68203e-01,  2.66082e-01],[-1.12903e-01,  3.01170e-01],[-3.91705e-02,  3.47953e-01],[-1.26728e-01,  4.41520e-01],[-2.32719e-01,  4.41520e-01],[-3.38710e-01,  4.18129e-01],[-4.12442e-01,  3.53801e-01],\n",
        "       [-5.09217e-01,  2.19298e-01],[-5.41475e-01,  1.46199e-02],[-5.04608e-01, -1.25731e-01],[-4.90783e-01, -1.43275e-01],[-3.61751e-01, -1.37427e-01],[-2.69585e-01, -8.47953e-02],[-2.23502e-01, -7.89474e-02],[-1.86636e-01, -3.80117e-02],\n",
        "       [-1.54378e-01, -8.77193e-03],[-1.12903e-01,  5.55556e-02],[-8.52535e-02,  1.37427e-01],[-8.52535e-02,  2.77778e-01],[-1.68203e-01,  3.01170e-01],[-1.91244e-01,  1.95906e-01],[-1.40553e-01, -4.97076e-02],[-2.99539e-02,  6.72515e-02],\n",
        "       [-2.00461e-01, -2.30994e-01],[-1.08295e-01, -8.47953e-02],[ 3.45622e-02,  6.72515e-02],[ 8.06452e-02,  1.19883e-01],[-3.85369e-01,  3.30409e-02],[-3.81221e-01,  1.31287e-01],[-3.52189e-01,  2.58187e-01],\n",
        "       [-3.54263e-01,  3.64620e-01],[-4.14401e-01, -6.92982e-02],[-4.99424e-01, -3.24561e-02],[-2.98272e-01, -9.79532e-02],[-3.16935e-01, -1.83918e-01],[-3.68779e-01, -2.90351e-01],[-3.56336e-01, -3.96784e-01],[-2.71313e-01,  4.38596e-03],\n",
        "       [-1.77995e-01,  8.62573e-02],[-2.46429e-01,  1.43567e-01],[-2.50576e-01,  2.29532e-01],[-2.21544e-01,  3.76901e-01],[-2.15323e-01,  2.95029e-01],[-1.30300e-01,  2.17251e-01],[-2.07028e-01,  2.89474e-02],[-9.71198e-02,  2.13158e-01],\n",
        "       [-3.90553e-02,  2.58187e-01],[ 1.90092e-02,  4.01462e-01],[-3.69816e-02,  4.21930e-01],[-6.39401e-02,  3.31871e-01],[-1.30300e-01,  3.76901e-01],[-3.75000e-01, -4.37719e-01],[-3.95737e-01, -3.51754e-01],[-3.54263e-01, -2.08480e-01],[-4.37212e-01, -3.76316e-01],[-4.80760e-01, -5.03216e-01], [-4.10253e-01, -4.66374e-01],\n",
        "       [-2.48502e-01, -2.57602e-01],[-2.27765e-01, -3.14912e-01],[-2.83756e-01, -3.84503e-01],[-2.92051e-01, -4.54094e-01],[-3.37673e-01, -5.19591e-01],[-2.77535e-01, -5.48246e-01],[-2.07028e-01, -5.35965e-01],[-1.86290e-01, -4.78655e-01],\n",
        "       [-1.32373e-01, -5.07310e-01],[-1.77995e-01, -2.98538e-01],[-1.65553e-01, -1.75731e-01],[-1.61406e-01, -1.26608e-01],[ 3.45622e-04,  2.58187e-01],\n",
        "       [ 7.91475e-02,  3.56433e-01],[-2.66129e-02,  1.80409e-01],[-5.35714e-02,  7.80702e-02],[-1.41705e-02, -5.29240e-02],[-7.01613e-02, -1.63450e-01],\n",
        "       [-6.39401e-02, -2.94444e-01],[-3.07604e-02, -4.66374e-01],[-5.77189e-02, -5.27778e-01],[-5.35714e-02, -3.96784e-01],[ 5.21889e-02, -4.17251e-01],[-1.62442e-02, -1.67544e-01],[-6.39401e-02, -8.56725e-02],[-6.18664e-02, -1.60819e-02],\n",
        "       [-3.80184e-03,  4.38596e-03],[ 4.18203e-02,  2.04971e-01],[ 7.91475e-02,  1.92690e-01],[ 4.59677e-02,  2.54094e-01],[ 1.18548e-01,  1.92690e-01],\n",
        "       [ 1.10253e-01,  8.62573e-02],[ 1.08180e-01, -6.92982e-02],[ 1.66244e-01, -2.42690e-02],[ 1.41359e-01,  6.57895e-02],[ 1.43433e-01,  1.68129e-01],[ 1.70392e-01,  1.92690e-01],[ 1.08180e-01,  2.99123e-01],[ 1.18548e-01,  3.19591e-01],\n",
        "       [ 1.26843e-01,  3.93275e-01],[-8.67512e-02,  4.21930e-01],[-4.73502e-02,  5.07895e-01],[ 2.52304e-02,  5.20175e-01],[ 6.25576e-02,  5.52924e-01],[-5.87558e-03,  4.42398e-01],[-5.14977e-02,  5.73392e-01],[-8.05300e-02,  5.07895e-01],\n",
        "       [-1.53111e-01,  5.52924e-01],[-1.11636e-01,  5.48830e-01],[-1.63479e-01,  4.91520e-01],[-2.52650e-01, -1.88012e-01],[-2.46429e-01, -3.65497e-02],\n",
        "       [-3.21083e-01, -4.33626e-01],[-3.31452e-01, -6.05556e-01],[-3.85369e-01, -5.15497e-01],[-3.99885e-01, -6.21930e-01],[-1.24078e-01, -1.26608e-01],[-3.16935e-01, -2.28947e-01],[-2.94124e-01, -1.34795e-01],[-1.53111e-01,  1.84503e-01]])"
      ],
      "metadata": {
        "id": "-0CJPXS83kxQ"
      },
      "execution_count": 2,
      "outputs": []
    },
    {
      "cell_type": "code",
      "source": [
        "df = pd.DataFrame(X,columns=['X','Y'])"
      ],
      "metadata": {
        "id": "5ZQR6MwA7Z-n"
      },
      "execution_count": 3,
      "outputs": []
    },
    {
      "cell_type": "code",
      "source": [
        "df['class'] = np.array([1., 1., 1., 1., 1., 1., 1., 1., 1., 1., 1., 1., 1., 1., 1., 1., 1.,\n",
        "       1., 1., 1., 0., 0., 0., 0., 0., 0., 0., 0., 0., 0., 0., 0., 0., 0.,\n",
        "       0., 0., 1., 1., 1., 0., 0., 0., 0., 0., 0., 0., 0., 0., 0., 0., 0.,\n",
        "       0., 0., 0., 0., 0., 0., 0., 0., 0., 0., 0., 0., 0., 0., 0., 0., 0.,\n",
        "       0., 0., 0., 0., 0., 0., 0., 0., 0., 0., 0., 0., 0., 1., 1., 1., 1.,\n",
        "       1., 1., 1., 1., 1., 1., 1., 1., 1., 1., 1., 1., 1., 1., 1., 1., 1.,\n",
        "       1., 1., 1., 1., 1., 1., 1., 1., 1., 1., 1., 1., 1., 1., 1., 0., 0.,\n",
        "       0., 0., 1., 1., 1., 1., 1., 1., 1., 1., 1., 1., 1., 1., 1., 1., 1.,\n",
        "       1., 1., 1., 1., 1., 1., 1., 1., 1., 1., 1., 1., 1., 1., 1., 0., 0.,\n",
        "       0., 0., 0., 0., 0., 0., 0., 0., 0., 0., 0., 0., 0., 0., 0., 0., 0.,\n",
        "       0., 0., 0., 0., 0., 0., 0., 0., 0., 0., 0., 0., 0., 0., 0., 0., 0.,\n",
        "       0., 0., 0., 0., 1., 1., 1., 1., 1., 1., 1., 1., 1., 1., 1., 1., 1.,\n",
        "       0., 1., 1., 1., 1., 0., 0.])"
      ],
      "metadata": {
        "id": "tT0Z4aHr7a2R"
      },
      "execution_count": 4,
      "outputs": []
    },
    {
      "cell_type": "code",
      "source": [
        "df.head()"
      ],
      "metadata": {
        "colab": {
          "base_uri": "https://localhost:8080/",
          "height": 206
        },
        "id": "yjwHpySv3nD6",
        "outputId": "881751c0-1106-4e4f-fa2c-bf1970c3c9a4"
      },
      "execution_count": 5,
      "outputs": [
        {
          "output_type": "execute_result",
          "data": {
            "text/plain": [
              "          X         Y  class\n",
              "0 -0.158986  0.423977    1.0\n",
              "1 -0.347926  0.470760    1.0\n",
              "2 -0.504608  0.353801    1.0\n",
              "3 -0.596774  0.114035    1.0\n",
              "4 -0.518433 -0.172515    1.0"
            ],
            "text/html": [
              "\n",
              "  <div id=\"df-2bf7686f-abca-412f-9501-28be34633006\" class=\"colab-df-container\">\n",
              "    <div>\n",
              "<style scoped>\n",
              "    .dataframe tbody tr th:only-of-type {\n",
              "        vertical-align: middle;\n",
              "    }\n",
              "\n",
              "    .dataframe tbody tr th {\n",
              "        vertical-align: top;\n",
              "    }\n",
              "\n",
              "    .dataframe thead th {\n",
              "        text-align: right;\n",
              "    }\n",
              "</style>\n",
              "<table border=\"1\" class=\"dataframe\">\n",
              "  <thead>\n",
              "    <tr style=\"text-align: right;\">\n",
              "      <th></th>\n",
              "      <th>X</th>\n",
              "      <th>Y</th>\n",
              "      <th>class</th>\n",
              "    </tr>\n",
              "  </thead>\n",
              "  <tbody>\n",
              "    <tr>\n",
              "      <th>0</th>\n",
              "      <td>-0.158986</td>\n",
              "      <td>0.423977</td>\n",
              "      <td>1.0</td>\n",
              "    </tr>\n",
              "    <tr>\n",
              "      <th>1</th>\n",
              "      <td>-0.347926</td>\n",
              "      <td>0.470760</td>\n",
              "      <td>1.0</td>\n",
              "    </tr>\n",
              "    <tr>\n",
              "      <th>2</th>\n",
              "      <td>-0.504608</td>\n",
              "      <td>0.353801</td>\n",
              "      <td>1.0</td>\n",
              "    </tr>\n",
              "    <tr>\n",
              "      <th>3</th>\n",
              "      <td>-0.596774</td>\n",
              "      <td>0.114035</td>\n",
              "      <td>1.0</td>\n",
              "    </tr>\n",
              "    <tr>\n",
              "      <th>4</th>\n",
              "      <td>-0.518433</td>\n",
              "      <td>-0.172515</td>\n",
              "      <td>1.0</td>\n",
              "    </tr>\n",
              "  </tbody>\n",
              "</table>\n",
              "</div>\n",
              "    <div class=\"colab-df-buttons\">\n",
              "\n",
              "  <div class=\"colab-df-container\">\n",
              "    <button class=\"colab-df-convert\" onclick=\"convertToInteractive('df-2bf7686f-abca-412f-9501-28be34633006')\"\n",
              "            title=\"Convert this dataframe to an interactive table.\"\n",
              "            style=\"display:none;\">\n",
              "\n",
              "  <svg xmlns=\"http://www.w3.org/2000/svg\" height=\"24px\" viewBox=\"0 -960 960 960\">\n",
              "    <path d=\"M120-120v-720h720v720H120Zm60-500h600v-160H180v160Zm220 220h160v-160H400v160Zm0 220h160v-160H400v160ZM180-400h160v-160H180v160Zm440 0h160v-160H620v160ZM180-180h160v-160H180v160Zm440 0h160v-160H620v160Z\"/>\n",
              "  </svg>\n",
              "    </button>\n",
              "\n",
              "  <style>\n",
              "    .colab-df-container {\n",
              "      display:flex;\n",
              "      gap: 12px;\n",
              "    }\n",
              "\n",
              "    .colab-df-convert {\n",
              "      background-color: #E8F0FE;\n",
              "      border: none;\n",
              "      border-radius: 50%;\n",
              "      cursor: pointer;\n",
              "      display: none;\n",
              "      fill: #1967D2;\n",
              "      height: 32px;\n",
              "      padding: 0 0 0 0;\n",
              "      width: 32px;\n",
              "    }\n",
              "\n",
              "    .colab-df-convert:hover {\n",
              "      background-color: #E2EBFA;\n",
              "      box-shadow: 0px 1px 2px rgba(60, 64, 67, 0.3), 0px 1px 3px 1px rgba(60, 64, 67, 0.15);\n",
              "      fill: #174EA6;\n",
              "    }\n",
              "\n",
              "    .colab-df-buttons div {\n",
              "      margin-bottom: 4px;\n",
              "    }\n",
              "\n",
              "    [theme=dark] .colab-df-convert {\n",
              "      background-color: #3B4455;\n",
              "      fill: #D2E3FC;\n",
              "    }\n",
              "\n",
              "    [theme=dark] .colab-df-convert:hover {\n",
              "      background-color: #434B5C;\n",
              "      box-shadow: 0px 1px 3px 1px rgba(0, 0, 0, 0.15);\n",
              "      filter: drop-shadow(0px 1px 2px rgba(0, 0, 0, 0.3));\n",
              "      fill: #FFFFFF;\n",
              "    }\n",
              "  </style>\n",
              "\n",
              "    <script>\n",
              "      const buttonEl =\n",
              "        document.querySelector('#df-2bf7686f-abca-412f-9501-28be34633006 button.colab-df-convert');\n",
              "      buttonEl.style.display =\n",
              "        google.colab.kernel.accessAllowed ? 'block' : 'none';\n",
              "\n",
              "      async function convertToInteractive(key) {\n",
              "        const element = document.querySelector('#df-2bf7686f-abca-412f-9501-28be34633006');\n",
              "        const dataTable =\n",
              "          await google.colab.kernel.invokeFunction('convertToInteractive',\n",
              "                                                    [key], {});\n",
              "        if (!dataTable) return;\n",
              "\n",
              "        const docLinkHtml = 'Like what you see? Visit the ' +\n",
              "          '<a target=\"_blank\" href=https://colab.research.google.com/notebooks/data_table.ipynb>data table notebook</a>'\n",
              "          + ' to learn more about interactive tables.';\n",
              "        element.innerHTML = '';\n",
              "        dataTable['output_type'] = 'display_data';\n",
              "        await google.colab.output.renderOutput(dataTable, element);\n",
              "        const docLink = document.createElement('div');\n",
              "        docLink.innerHTML = docLinkHtml;\n",
              "        element.appendChild(docLink);\n",
              "      }\n",
              "    </script>\n",
              "  </div>\n",
              "\n",
              "\n",
              "<div id=\"df-59727c82-506e-4576-9f16-6f8569b434cb\">\n",
              "  <button class=\"colab-df-quickchart\" onclick=\"quickchart('df-59727c82-506e-4576-9f16-6f8569b434cb')\"\n",
              "            title=\"Suggest charts\"\n",
              "            style=\"display:none;\">\n",
              "\n",
              "<svg xmlns=\"http://www.w3.org/2000/svg\" height=\"24px\"viewBox=\"0 0 24 24\"\n",
              "     width=\"24px\">\n",
              "    <g>\n",
              "        <path d=\"M19 3H5c-1.1 0-2 .9-2 2v14c0 1.1.9 2 2 2h14c1.1 0 2-.9 2-2V5c0-1.1-.9-2-2-2zM9 17H7v-7h2v7zm4 0h-2V7h2v10zm4 0h-2v-4h2v4z\"/>\n",
              "    </g>\n",
              "</svg>\n",
              "  </button>\n",
              "\n",
              "<style>\n",
              "  .colab-df-quickchart {\n",
              "      --bg-color: #E8F0FE;\n",
              "      --fill-color: #1967D2;\n",
              "      --hover-bg-color: #E2EBFA;\n",
              "      --hover-fill-color: #174EA6;\n",
              "      --disabled-fill-color: #AAA;\n",
              "      --disabled-bg-color: #DDD;\n",
              "  }\n",
              "\n",
              "  [theme=dark] .colab-df-quickchart {\n",
              "      --bg-color: #3B4455;\n",
              "      --fill-color: #D2E3FC;\n",
              "      --hover-bg-color: #434B5C;\n",
              "      --hover-fill-color: #FFFFFF;\n",
              "      --disabled-bg-color: #3B4455;\n",
              "      --disabled-fill-color: #666;\n",
              "  }\n",
              "\n",
              "  .colab-df-quickchart {\n",
              "    background-color: var(--bg-color);\n",
              "    border: none;\n",
              "    border-radius: 50%;\n",
              "    cursor: pointer;\n",
              "    display: none;\n",
              "    fill: var(--fill-color);\n",
              "    height: 32px;\n",
              "    padding: 0;\n",
              "    width: 32px;\n",
              "  }\n",
              "\n",
              "  .colab-df-quickchart:hover {\n",
              "    background-color: var(--hover-bg-color);\n",
              "    box-shadow: 0 1px 2px rgba(60, 64, 67, 0.3), 0 1px 3px 1px rgba(60, 64, 67, 0.15);\n",
              "    fill: var(--button-hover-fill-color);\n",
              "  }\n",
              "\n",
              "  .colab-df-quickchart-complete:disabled,\n",
              "  .colab-df-quickchart-complete:disabled:hover {\n",
              "    background-color: var(--disabled-bg-color);\n",
              "    fill: var(--disabled-fill-color);\n",
              "    box-shadow: none;\n",
              "  }\n",
              "\n",
              "  .colab-df-spinner {\n",
              "    border: 2px solid var(--fill-color);\n",
              "    border-color: transparent;\n",
              "    border-bottom-color: var(--fill-color);\n",
              "    animation:\n",
              "      spin 1s steps(1) infinite;\n",
              "  }\n",
              "\n",
              "  @keyframes spin {\n",
              "    0% {\n",
              "      border-color: transparent;\n",
              "      border-bottom-color: var(--fill-color);\n",
              "      border-left-color: var(--fill-color);\n",
              "    }\n",
              "    20% {\n",
              "      border-color: transparent;\n",
              "      border-left-color: var(--fill-color);\n",
              "      border-top-color: var(--fill-color);\n",
              "    }\n",
              "    30% {\n",
              "      border-color: transparent;\n",
              "      border-left-color: var(--fill-color);\n",
              "      border-top-color: var(--fill-color);\n",
              "      border-right-color: var(--fill-color);\n",
              "    }\n",
              "    40% {\n",
              "      border-color: transparent;\n",
              "      border-right-color: var(--fill-color);\n",
              "      border-top-color: var(--fill-color);\n",
              "    }\n",
              "    60% {\n",
              "      border-color: transparent;\n",
              "      border-right-color: var(--fill-color);\n",
              "    }\n",
              "    80% {\n",
              "      border-color: transparent;\n",
              "      border-right-color: var(--fill-color);\n",
              "      border-bottom-color: var(--fill-color);\n",
              "    }\n",
              "    90% {\n",
              "      border-color: transparent;\n",
              "      border-bottom-color: var(--fill-color);\n",
              "    }\n",
              "  }\n",
              "</style>\n",
              "\n",
              "  <script>\n",
              "    async function quickchart(key) {\n",
              "      const quickchartButtonEl =\n",
              "        document.querySelector('#' + key + ' button');\n",
              "      quickchartButtonEl.disabled = true;  // To prevent multiple clicks.\n",
              "      quickchartButtonEl.classList.add('colab-df-spinner');\n",
              "      try {\n",
              "        const charts = await google.colab.kernel.invokeFunction(\n",
              "            'suggestCharts', [key], {});\n",
              "      } catch (error) {\n",
              "        console.error('Error during call to suggestCharts:', error);\n",
              "      }\n",
              "      quickchartButtonEl.classList.remove('colab-df-spinner');\n",
              "      quickchartButtonEl.classList.add('colab-df-quickchart-complete');\n",
              "    }\n",
              "    (() => {\n",
              "      let quickchartButtonEl =\n",
              "        document.querySelector('#df-59727c82-506e-4576-9f16-6f8569b434cb button');\n",
              "      quickchartButtonEl.style.display =\n",
              "        google.colab.kernel.accessAllowed ? 'block' : 'none';\n",
              "    })();\n",
              "  </script>\n",
              "</div>\n",
              "\n",
              "    </div>\n",
              "  </div>\n"
            ],
            "application/vnd.google.colaboratory.intrinsic+json": {
              "type": "dataframe",
              "variable_name": "df",
              "summary": "{\n  \"name\": \"df\",\n  \"rows\": 211,\n  \"fields\": [\n    {\n      \"column\": \"X\",\n      \"properties\": {\n        \"dtype\": \"number\",\n        \"std\": 0.20051645342090915,\n        \"min\": -0.596774,\n        \"max\": 0.297235,\n        \"num_unique_values\": 170,\n        \"samples\": [\n          -0.0577189,\n          -0.00691244,\n          -0.437212\n        ],\n        \"semantic_type\": \"\",\n        \"description\": \"\"\n      }\n    },\n    {\n      \"column\": \"Y\",\n      \"properties\": {\n        \"dtype\": \"number\",\n        \"std\": 0.3147505344932547,\n        \"min\": -0.657895,\n        \"max\": 0.573392,\n        \"num_unique_values\": 166,\n        \"samples\": [\n          0.00438596,\n          -0.527778,\n          0.418129\n        ],\n        \"semantic_type\": \"\",\n        \"description\": \"\"\n      }\n    },\n    {\n      \"column\": \"class\",\n      \"properties\": {\n        \"dtype\": \"number\",\n        \"std\": 0.5011834336081179,\n        \"min\": 0.0,\n        \"max\": 1.0,\n        \"num_unique_values\": 2,\n        \"samples\": [\n          0.0,\n          1.0\n        ],\n        \"semantic_type\": \"\",\n        \"description\": \"\"\n      }\n    }\n  ]\n}"
            }
          },
          "metadata": {},
          "execution_count": 5
        }
      ]
    },
    {
      "cell_type": "code",
      "source": [
        "plt.figure(figsize=(5,3))\n",
        "plt.scatter(df['X'],df['Y'],c=df['class'])"
      ],
      "metadata": {
        "colab": {
          "base_uri": "https://localhost:8080/",
          "height": 308
        },
        "id": "gzRfDEgj3nzK",
        "outputId": "2ef2e3bc-c959-485e-9752-a181dbbffa65"
      },
      "execution_count": 6,
      "outputs": [
        {
          "output_type": "execute_result",
          "data": {
            "text/plain": [
              "<matplotlib.collections.PathCollection at 0x780031e2bcd0>"
            ]
          },
          "metadata": {},
          "execution_count": 6
        },
        {
          "output_type": "display_data",
          "data": {
            "text/plain": [
              "<Figure size 500x300 with 1 Axes>"
            ],
            "image/png": "[encoded data removed]"
          },
          "metadata": {}
        }
      ]
    },
    {
      "cell_type": "code",
      "source": [
        "X = df.iloc[:,0:2].values\n",
        "y = df.iloc[:,-1].values"
      ],
      "metadata": {
        "id": "VueL_H_-4Fxr"
      },
      "execution_count": 7,
      "outputs": []
    },
    {
      "cell_type": "code",
      "source": [
        "import tensorflow\n",
        "from tensorflow import keras\n",
        "from keras import Sequential\n",
        "from keras.layers import Dense"
      ],
      "metadata": {
        "id": "aLJYMP274XIV"
      },
      "execution_count": 8,
      "outputs": []
    },
    {
      "cell_type": "markdown",
      "source": [
        "# Sigmoid"
      ],
      "metadata": {
        "id": "x6PGzNjd9_ny"
      }
    },
    {
      "cell_type": "code",
      "source": [
        "model = Sequential()\n",
        "\n",
        "model.add(Dense(10,activation='sigmoid',input_dim=2))\n",
        "model.add(Dense(1,activation='sigmoid'))\n",
        "\n",
        "model.summary()"
      ],
      "metadata": {
        "colab": {
          "base_uri": "https://localhost:8080/"
        },
        "id": "Ec6aw2ft4nj2",
        "outputId": "540e5bf8-a30f-4aac-a929-9bf5da1d6b40"
      },
      "execution_count": 9,
      "outputs": [
        {
          "output_type": "stream",
          "name": "stdout",
          "text": [
            "Model: \"sequential\"\n",
            "_________________________________________________________________\n",
            " Layer (type)                Output Shape              Param #   \n",
            "=================================================================\n",
            " dense (Dense)               (None, 10)                30        \n",
            "                                                                 \n",
            " dense_1 (Dense)             (None, 1)                 11        \n",
            "                                                                 \n",
            "=================================================================\n",
            "Total params: 41 (164.00 Byte)\n",
            "Trainable params: 41 (164.00 Byte)\n",
            "Non-trainable params: 0 (0.00 Byte)\n",
            "_________________________________________________________________\n"
          ]
        }
      ]
    },
    {
      "cell_type": "code",
      "source": [
        "# Set parameters to 0\n",
        "model.get_weights()"
      ],
      "metadata": {
        "colab": {
          "base_uri": "https://localhost:8080/"
        },
        "id": "UiC2zbhh5E7u",
        "outputId": "a62292fe-4e40-404e-804d-6d8da6f895cc"
      },
      "execution_count": 10,
      "outputs": [
        {
          "output_type": "execute_result",
          "data": {
            "text/plain": [
              "[array([[ 0.22852695, -0.3014302 , -0.42810744, -0.16476011,  0.5982103 ,\n",
              "         -0.16270489, -0.22514576,  0.6437294 ,  0.00393128,  0.28836906],\n",
              "        [-0.51892614, -0.13626379,  0.7031074 ,  0.7006337 , -0.3417489 ,\n",
              "          0.37245792,  0.33888978,  0.01689804, -0.40279457, -0.52517164]],\n",
              "       dtype=float32),\n",
              " array([0., 0., 0., 0., 0., 0., 0., 0., 0., 0.], dtype=float32),\n",
              " array([[-0.33261716],\n",
              "        [-0.06396419],\n",
              "        [-0.1443873 ],\n",
              "        [ 0.21421123],\n",
              "        [ 0.44656998],\n",
              "        [-0.03066868],\n",
              "        [ 0.10518068],\n",
              "        [-0.05551004],\n",
              "        [ 0.24906611],\n",
              "        [ 0.7364287 ]], dtype=float32),\n",
              " array([0.], dtype=float32)]"
            ]
          },
          "metadata": {},
          "execution_count": 10
        }
      ]
    },
    {
      "cell_type": "code",
      "source": [
        "initial_weights = model.get_weights()"
      ],
      "metadata": {
        "id": "d2FB7EP46PXy"
      },
      "execution_count": 11,
      "outputs": []
    },
    {
      "cell_type": "code",
      "source": [
        "initial_weights[0] = np.ones(model.get_weights()[0].shape)*0.5\n",
        "initial_weights[1] = np.ones(model.get_weights()[1].shape)*0.5\n",
        "initial_weights[2] = np.ones(model.get_weights()[2].shape)*0.5\n",
        "initial_weights[3] = np.ones(model.get_weights()[3].shape)*0.5"
      ],
      "metadata": {
        "id": "Bik184Ij5aQJ"
      },
      "execution_count": 20,
      "outputs": []
    },
    {
      "cell_type": "code",
      "source": [
        "model.set_weights(initial_weights)"
      ],
      "metadata": {
        "id": "-u1RIZ_W5fXK"
      },
      "execution_count": 21,
      "outputs": []
    },
    {
      "cell_type": "code",
      "source": [
        "model.get_weights()"
      ],
      "metadata": {
        "colab": {
          "base_uri": "https://localhost:8080/"
        },
        "id": "ryIDZEQs6fOa",
        "outputId": "4b4ff1e7-6246-4802-9e31-0d6b32bd4884"
      },
      "execution_count": 22,
      "outputs": [
        {
          "output_type": "execute_result",
          "data": {
            "text/plain": [
              "[array([[0.5, 0.5, 0.5, 0.5, 0.5, 0.5, 0.5, 0.5, 0.5, 0.5],\n",
              "        [0.5, 0.5, 0.5, 0.5, 0.5, 0.5, 0.5, 0.5, 0.5, 0.5]], dtype=float32),\n",
              " array([0.5, 0.5, 0.5, 0.5, 0.5, 0.5, 0.5, 0.5, 0.5, 0.5], dtype=float32),\n",
              " array([[0.5],\n",
              "        [0.5],\n",
              "        [0.5],\n",
              "        [0.5],\n",
              "        [0.5],\n",
              "        [0.5],\n",
              "        [0.5],\n",
              "        [0.5],\n",
              "        [0.5],\n",
              "        [0.5]], dtype=float32),\n",
              " array([0.5], dtype=float32)]"
            ]
          },
          "metadata": {},
          "execution_count": 22
        }
      ]
    },
    {
      "cell_type": "code",
      "source": [
        "model.compile(loss='binary_crossentropy',optimizer='adam',metrics=['accuracy'])"
      ],
      "metadata": {
        "id": "6Vm5Nvfm6hkn"
      },
      "execution_count": 23,
      "outputs": []
    },
    {
      "cell_type": "code",
      "source": [
        "history = model.fit(X,y,epochs=100,validation_split=0.2)"
      ],
      "metadata": {
        "colab": {
          "base_uri": "https://localhost:8080/"
        },
        "id": "-p_KvM6e62Xe",
        "outputId": "7044cef4-c60f-4e68-841d-84d00f89260d"
      },
      "execution_count": 24,
      "outputs": [
        {
          "output_type": "stream",
          "name": "stdout",
          "text": [
            "Epoch 1/100\n",
            "6/6 [==============================] - 1s 37ms/step - loss: 1.6339 - accuracy: 0.5298 - val_loss: 2.1744 - val_accuracy: 0.3953\n",
            "Epoch 2/100\n",
            "6/6 [==============================] - 0s 10ms/step - loss: 1.6128 - accuracy: 0.5298 - val_loss: 2.1460 - val_accuracy: 0.3953\n",
            "Epoch 3/100\n",
            "6/6 [==============================] - 0s 8ms/step - loss: 1.5919 - accuracy: 0.5298 - val_loss: 2.1181 - val_accuracy: 0.3953\n",
            "Epoch 4/100\n",
            "6/6 [==============================] - 0s 12ms/step - loss: 1.5709 - accuracy: 0.5298 - val_loss: 2.0908 - val_accuracy: 0.3953\n",
            "Epoch 5/100\n",
            "6/6 [==============================] - 0s 12ms/step - loss: 1.5502 - accuracy: 0.5298 - val_loss: 2.0638 - val_accuracy: 0.3953\n",
            "Epoch 6/100\n",
            "6/6 [==============================] - 0s 12ms/step - loss: 1.5299 - accuracy: 0.5298 - val_loss: 2.0360 - val_accuracy: 0.3953\n",
            "Epoch 7/100\n",
            "6/6 [==============================] - 0s 9ms/step - loss: 1.5089 - accuracy: 0.5298 - val_loss: 2.0088 - val_accuracy: 0.3953\n",
            "Epoch 8/100\n",
            "6/6 [==============================] - 0s 9ms/step - loss: 1.4883 - accuracy: 0.5298 - val_loss: 1.9821 - val_accuracy: 0.3953\n",
            "Epoch 9/100\n",
            "6/6 [==============================] - 0s 9ms/step - loss: 1.4690 - accuracy: 0.5298 - val_loss: 1.9558 - val_accuracy: 0.3953\n",
            "Epoch 10/100\n",
            "6/6 [==============================] - 0s 9ms/step - loss: 1.4496 - accuracy: 0.5298 - val_loss: 1.9307 - val_accuracy: 0.3953\n",
            "Epoch 11/100\n",
            "6/6 [==============================] - 0s 12ms/step - loss: 1.4304 - accuracy: 0.5298 - val_loss: 1.9051 - val_accuracy: 0.3953\n",
            "Epoch 12/100\n",
            "6/6 [==============================] - 0s 9ms/step - loss: 1.4121 - accuracy: 0.5298 - val_loss: 1.8792 - val_accuracy: 0.3953\n",
            "Epoch 13/100\n",
            "6/6 [==============================] - 0s 9ms/step - loss: 1.3922 - accuracy: 0.5298 - val_loss: 1.8541 - val_accuracy: 0.3953\n",
            "Epoch 14/100\n",
            "6/6 [==============================] - 0s 11ms/step - loss: 1.3740 - accuracy: 0.5298 - val_loss: 1.8293 - val_accuracy: 0.3953\n",
            "Epoch 15/100\n",
            "6/6 [==============================] - 0s 8ms/step - loss: 1.3559 - accuracy: 0.5298 - val_loss: 1.8047 - val_accuracy: 0.3953\n",
            "Epoch 16/100\n",
            "6/6 [==============================] - 0s 12ms/step - loss: 1.3375 - accuracy: 0.5298 - val_loss: 1.7797 - val_accuracy: 0.3953\n",
            "Epoch 17/100\n",
            "6/6 [==============================] - 0s 12ms/step - loss: 1.3201 - accuracy: 0.5298 - val_loss: 1.7546 - val_accuracy: 0.3953\n",
            "Epoch 18/100\n",
            "6/6 [==============================] - 0s 12ms/step - loss: 1.3014 - accuracy: 0.5298 - val_loss: 1.7308 - val_accuracy: 0.3953\n",
            "Epoch 19/100\n",
            "6/6 [==============================] - 0s 12ms/step - loss: 1.2839 - accuracy: 0.5298 - val_loss: 1.7070 - val_accuracy: 0.3953\n",
            "Epoch 20/100\n",
            "6/6 [==============================] - 0s 8ms/step - loss: 1.2670 - accuracy: 0.5298 - val_loss: 1.6838 - val_accuracy: 0.3953\n",
            "Epoch 21/100\n",
            "6/6 [==============================] - 0s 11ms/step - loss: 1.2503 - accuracy: 0.5298 - val_loss: 1.6620 - val_accuracy: 0.3953\n",
            "Epoch 22/100\n",
            "6/6 [==============================] - 0s 11ms/step - loss: 1.2347 - accuracy: 0.5298 - val_loss: 1.6399 - val_accuracy: 0.3953\n",
            "Epoch 23/100\n",
            "6/6 [==============================] - 0s 8ms/step - loss: 1.2189 - accuracy: 0.5298 - val_loss: 1.6183 - val_accuracy: 0.3953\n",
            "Epoch 24/100\n",
            "6/6 [==============================] - 0s 9ms/step - loss: 1.2038 - accuracy: 0.5298 - val_loss: 1.5969 - val_accuracy: 0.3953\n",
            "Epoch 25/100\n",
            "6/6 [==============================] - 0s 9ms/step - loss: 1.1889 - accuracy: 0.5298 - val_loss: 1.5761 - val_accuracy: 0.3953\n",
            "Epoch 26/100\n",
            "6/6 [==============================] - 0s 12ms/step - loss: 1.1737 - accuracy: 0.5298 - val_loss: 1.5552 - val_accuracy: 0.3953\n",
            "Epoch 27/100\n",
            "6/6 [==============================] - 0s 12ms/step - loss: 1.1589 - accuracy: 0.5298 - val_loss: 1.5336 - val_accuracy: 0.3953\n",
            "Epoch 28/100\n",
            "6/6 [==============================] - 0s 9ms/step - loss: 1.1433 - accuracy: 0.5298 - val_loss: 1.5121 - val_accuracy: 0.3953\n",
            "Epoch 29/100\n",
            "6/6 [==============================] - 0s 8ms/step - loss: 1.1286 - accuracy: 0.5298 - val_loss: 1.4910 - val_accuracy: 0.3953\n",
            "Epoch 30/100\n",
            "6/6 [==============================] - 0s 9ms/step - loss: 1.1137 - accuracy: 0.5298 - val_loss: 1.4711 - val_accuracy: 0.3953\n",
            "Epoch 31/100\n",
            "6/6 [==============================] - 0s 8ms/step - loss: 1.0999 - accuracy: 0.5298 - val_loss: 1.4516 - val_accuracy: 0.3953\n",
            "Epoch 32/100\n",
            "6/6 [==============================] - 0s 11ms/step - loss: 1.0868 - accuracy: 0.5298 - val_loss: 1.4325 - val_accuracy: 0.3953\n",
            "Epoch 33/100\n",
            "6/6 [==============================] - 0s 10ms/step - loss: 1.0736 - accuracy: 0.5298 - val_loss: 1.4134 - val_accuracy: 0.3953\n",
            "Epoch 34/100\n",
            "6/6 [==============================] - 0s 10ms/step - loss: 1.0608 - accuracy: 0.5298 - val_loss: 1.3949 - val_accuracy: 0.3953\n",
            "Epoch 35/100\n",
            "6/6 [==============================] - 0s 12ms/step - loss: 1.0487 - accuracy: 0.5298 - val_loss: 1.3766 - val_accuracy: 0.3953\n",
            "Epoch 36/100\n",
            "6/6 [==============================] - 0s 10ms/step - loss: 1.0357 - accuracy: 0.5298 - val_loss: 1.3602 - val_accuracy: 0.3953\n",
            "Epoch 37/100\n",
            "6/6 [==============================] - 0s 9ms/step - loss: 1.0247 - accuracy: 0.5298 - val_loss: 1.3434 - val_accuracy: 0.3953\n",
            "Epoch 38/100\n",
            "6/6 [==============================] - 0s 8ms/step - loss: 1.0133 - accuracy: 0.5298 - val_loss: 1.3262 - val_accuracy: 0.3953\n",
            "Epoch 39/100\n",
            "6/6 [==============================] - 0s 12ms/step - loss: 1.0017 - accuracy: 0.5298 - val_loss: 1.3086 - val_accuracy: 0.3953\n",
            "Epoch 40/100\n",
            "6/6 [==============================] - 0s 9ms/step - loss: 0.9900 - accuracy: 0.5298 - val_loss: 1.2919 - val_accuracy: 0.3953\n",
            "Epoch 41/100\n",
            "6/6 [==============================] - 0s 9ms/step - loss: 0.9795 - accuracy: 0.5298 - val_loss: 1.2750 - val_accuracy: 0.3953\n",
            "Epoch 42/100\n",
            "6/6 [==============================] - 0s 9ms/step - loss: 0.9681 - accuracy: 0.5298 - val_loss: 1.2596 - val_accuracy: 0.3953\n",
            "Epoch 43/100\n",
            "6/6 [==============================] - 0s 12ms/step - loss: 0.9580 - accuracy: 0.5298 - val_loss: 1.2446 - val_accuracy: 0.3953\n",
            "Epoch 44/100\n",
            "6/6 [==============================] - 0s 9ms/step - loss: 0.9485 - accuracy: 0.5298 - val_loss: 1.2294 - val_accuracy: 0.3953\n",
            "Epoch 45/100\n",
            "6/6 [==============================] - 0s 8ms/step - loss: 0.9385 - accuracy: 0.5298 - val_loss: 1.2149 - val_accuracy: 0.3953\n",
            "Epoch 46/100\n",
            "6/6 [==============================] - 0s 8ms/step - loss: 0.9293 - accuracy: 0.5298 - val_loss: 1.2001 - val_accuracy: 0.3953\n",
            "Epoch 47/100\n",
            "6/6 [==============================] - 0s 11ms/step - loss: 0.9195 - accuracy: 0.5298 - val_loss: 1.1861 - val_accuracy: 0.3953\n",
            "Epoch 48/100\n",
            "6/6 [==============================] - 0s 8ms/step - loss: 0.9108 - accuracy: 0.5298 - val_loss: 1.1720 - val_accuracy: 0.3953\n",
            "Epoch 49/100\n",
            "6/6 [==============================] - 0s 9ms/step - loss: 0.9019 - accuracy: 0.5298 - val_loss: 1.1581 - val_accuracy: 0.3953\n",
            "Epoch 50/100\n",
            "6/6 [==============================] - 0s 12ms/step - loss: 0.8935 - accuracy: 0.5298 - val_loss: 1.1442 - val_accuracy: 0.3953\n",
            "Epoch 51/100\n",
            "6/6 [==============================] - 0s 9ms/step - loss: 0.8849 - accuracy: 0.5298 - val_loss: 1.1309 - val_accuracy: 0.3953\n",
            "Epoch 52/100\n",
            "6/6 [==============================] - 0s 9ms/step - loss: 0.8768 - accuracy: 0.5298 - val_loss: 1.1186 - val_accuracy: 0.3953\n",
            "Epoch 53/100\n",
            "6/6 [==============================] - 0s 11ms/step - loss: 0.8691 - accuracy: 0.5298 - val_loss: 1.1065 - val_accuracy: 0.3953\n",
            "Epoch 54/100\n",
            "6/6 [==============================] - 0s 12ms/step - loss: 0.8620 - accuracy: 0.5298 - val_loss: 1.0949 - val_accuracy: 0.3953\n",
            "Epoch 55/100\n",
            "6/6 [==============================] - 0s 9ms/step - loss: 0.8547 - accuracy: 0.5298 - val_loss: 1.0829 - val_accuracy: 0.3953\n",
            "Epoch 56/100\n",
            "6/6 [==============================] - 0s 11ms/step - loss: 0.8477 - accuracy: 0.5298 - val_loss: 1.0703 - val_accuracy: 0.3953\n",
            "Epoch 57/100\n",
            "6/6 [==============================] - 0s 12ms/step - loss: 0.8395 - accuracy: 0.5298 - val_loss: 1.0590 - val_accuracy: 0.3953\n",
            "Epoch 58/100\n",
            "6/6 [==============================] - 0s 9ms/step - loss: 0.8331 - accuracy: 0.5298 - val_loss: 1.0478 - val_accuracy: 0.3953\n",
            "Epoch 59/100\n",
            "6/6 [==============================] - 0s 11ms/step - loss: 0.8267 - accuracy: 0.5298 - val_loss: 1.0376 - val_accuracy: 0.3953\n",
            "Epoch 60/100\n",
            "6/6 [==============================] - 0s 8ms/step - loss: 0.8212 - accuracy: 0.5298 - val_loss: 1.0275 - val_accuracy: 0.3953\n",
            "Epoch 61/100\n",
            "6/6 [==============================] - 0s 8ms/step - loss: 0.8151 - accuracy: 0.5298 - val_loss: 1.0186 - val_accuracy: 0.3953\n",
            "Epoch 62/100\n",
            "6/6 [==============================] - 0s 9ms/step - loss: 0.8099 - accuracy: 0.5298 - val_loss: 1.0094 - val_accuracy: 0.3953\n",
            "Epoch 63/100\n",
            "6/6 [==============================] - 0s 8ms/step - loss: 0.8047 - accuracy: 0.5298 - val_loss: 1.0008 - val_accuracy: 0.3953\n",
            "Epoch 64/100\n",
            "6/6 [==============================] - 0s 8ms/step - loss: 0.7997 - accuracy: 0.5298 - val_loss: 0.9920 - val_accuracy: 0.3953\n",
            "Epoch 65/100\n",
            "6/6 [==============================] - 0s 8ms/step - loss: 0.7949 - accuracy: 0.5298 - val_loss: 0.9834 - val_accuracy: 0.3953\n",
            "Epoch 66/100\n",
            "6/6 [==============================] - 0s 12ms/step - loss: 0.7899 - accuracy: 0.5298 - val_loss: 0.9754 - val_accuracy: 0.3953\n",
            "Epoch 67/100\n",
            "6/6 [==============================] - 0s 9ms/step - loss: 0.7860 - accuracy: 0.5298 - val_loss: 0.9667 - val_accuracy: 0.3953\n",
            "Epoch 68/100\n",
            "6/6 [==============================] - 0s 9ms/step - loss: 0.7812 - accuracy: 0.5298 - val_loss: 0.9590 - val_accuracy: 0.3953\n",
            "Epoch 69/100\n",
            "6/6 [==============================] - 0s 9ms/step - loss: 0.7765 - accuracy: 0.5298 - val_loss: 0.9521 - val_accuracy: 0.3953\n",
            "Epoch 70/100\n",
            "6/6 [==============================] - 0s 8ms/step - loss: 0.7729 - accuracy: 0.5298 - val_loss: 0.9442 - val_accuracy: 0.3953\n",
            "Epoch 71/100\n",
            "6/6 [==============================] - 0s 13ms/step - loss: 0.7687 - accuracy: 0.5298 - val_loss: 0.9368 - val_accuracy: 0.3953\n",
            "Epoch 72/100\n",
            "6/6 [==============================] - 0s 8ms/step - loss: 0.7649 - accuracy: 0.5298 - val_loss: 0.9299 - val_accuracy: 0.3953\n",
            "Epoch 73/100\n",
            "6/6 [==============================] - 0s 9ms/step - loss: 0.7610 - accuracy: 0.5298 - val_loss: 0.9234 - val_accuracy: 0.3953\n",
            "Epoch 74/100\n",
            "6/6 [==============================] - 0s 8ms/step - loss: 0.7578 - accuracy: 0.5298 - val_loss: 0.9165 - val_accuracy: 0.3953\n",
            "Epoch 75/100\n",
            "6/6 [==============================] - 0s 11ms/step - loss: 0.7541 - accuracy: 0.5298 - val_loss: 0.9098 - val_accuracy: 0.3953\n",
            "Epoch 76/100\n",
            "6/6 [==============================] - 0s 8ms/step - loss: 0.7507 - accuracy: 0.5298 - val_loss: 0.9030 - val_accuracy: 0.3953\n",
            "Epoch 77/100\n",
            "6/6 [==============================] - 0s 8ms/step - loss: 0.7475 - accuracy: 0.5298 - val_loss: 0.8970 - val_accuracy: 0.3953\n",
            "Epoch 78/100\n",
            "6/6 [==============================] - 0s 8ms/step - loss: 0.7444 - accuracy: 0.5298 - val_loss: 0.8904 - val_accuracy: 0.3953\n",
            "Epoch 79/100\n",
            "6/6 [==============================] - 0s 11ms/step - loss: 0.7412 - accuracy: 0.5298 - val_loss: 0.8845 - val_accuracy: 0.3953\n",
            "Epoch 80/100\n",
            "6/6 [==============================] - 0s 8ms/step - loss: 0.7382 - accuracy: 0.5298 - val_loss: 0.8787 - val_accuracy: 0.3953\n",
            "Epoch 81/100\n",
            "6/6 [==============================] - 0s 8ms/step - loss: 0.7355 - accuracy: 0.5298 - val_loss: 0.8734 - val_accuracy: 0.3953\n",
            "Epoch 82/100\n",
            "6/6 [==============================] - 0s 9ms/step - loss: 0.7327 - accuracy: 0.5298 - val_loss: 0.8679 - val_accuracy: 0.3953\n",
            "Epoch 83/100\n",
            "6/6 [==============================] - 0s 8ms/step - loss: 0.7303 - accuracy: 0.5298 - val_loss: 0.8617 - val_accuracy: 0.3953\n",
            "Epoch 84/100\n",
            "6/6 [==============================] - 0s 12ms/step - loss: 0.7272 - accuracy: 0.5298 - val_loss: 0.8558 - val_accuracy: 0.3953\n",
            "Epoch 85/100\n",
            "6/6 [==============================] - 0s 11ms/step - loss: 0.7248 - accuracy: 0.5298 - val_loss: 0.8500 - val_accuracy: 0.3953\n",
            "Epoch 86/100\n",
            "6/6 [==============================] - 0s 12ms/step - loss: 0.7223 - accuracy: 0.5298 - val_loss: 0.8449 - val_accuracy: 0.3953\n",
            "Epoch 87/100\n",
            "6/6 [==============================] - 0s 12ms/step - loss: 0.7201 - accuracy: 0.5298 - val_loss: 0.8405 - val_accuracy: 0.3953\n",
            "Epoch 88/100\n",
            "6/6 [==============================] - 0s 14ms/step - loss: 0.7183 - accuracy: 0.5298 - val_loss: 0.8366 - val_accuracy: 0.3953\n",
            "Epoch 89/100\n",
            "6/6 [==============================] - 0s 13ms/step - loss: 0.7167 - accuracy: 0.5298 - val_loss: 0.8324 - val_accuracy: 0.3953\n",
            "Epoch 90/100\n",
            "6/6 [==============================] - 0s 11ms/step - loss: 0.7148 - accuracy: 0.5298 - val_loss: 0.8289 - val_accuracy: 0.3953\n",
            "Epoch 91/100\n",
            "6/6 [==============================] - 0s 11ms/step - loss: 0.7134 - accuracy: 0.5298 - val_loss: 0.8251 - val_accuracy: 0.3953\n",
            "Epoch 92/100\n",
            "6/6 [==============================] - 0s 8ms/step - loss: 0.7117 - accuracy: 0.5298 - val_loss: 0.8217 - val_accuracy: 0.3953\n",
            "Epoch 93/100\n",
            "6/6 [==============================] - 0s 8ms/step - loss: 0.7104 - accuracy: 0.5298 - val_loss: 0.8182 - val_accuracy: 0.3953\n",
            "Epoch 94/100\n",
            "6/6 [==============================] - 0s 9ms/step - loss: 0.7092 - accuracy: 0.5298 - val_loss: 0.8147 - val_accuracy: 0.3953\n",
            "Epoch 95/100\n",
            "6/6 [==============================] - 0s 9ms/step - loss: 0.7076 - accuracy: 0.5298 - val_loss: 0.8123 - val_accuracy: 0.3953\n",
            "Epoch 96/100\n",
            "6/6 [==============================] - 0s 12ms/step - loss: 0.7068 - accuracy: 0.5298 - val_loss: 0.8096 - val_accuracy: 0.3953\n",
            "Epoch 97/100\n",
            "6/6 [==============================] - 0s 12ms/step - loss: 0.7055 - accuracy: 0.5298 - val_loss: 0.8076 - val_accuracy: 0.3953\n",
            "Epoch 98/100\n",
            "6/6 [==============================] - 0s 9ms/step - loss: 0.7047 - accuracy: 0.5298 - val_loss: 0.8045 - val_accuracy: 0.3953\n",
            "Epoch 99/100\n",
            "6/6 [==============================] - 0s 8ms/step - loss: 0.7035 - accuracy: 0.5298 - val_loss: 0.8020 - val_accuracy: 0.3953\n",
            "Epoch 100/100\n",
            "6/6 [==============================] - 0s 15ms/step - loss: 0.7025 - accuracy: 0.5298 - val_loss: 0.7990 - val_accuracy: 0.3953\n"
          ]
        }
      ]
    },
    {
      "cell_type": "code",
      "source": [
        "model.get_weights()"
      ],
      "metadata": {
        "colab": {
          "base_uri": "https://localhost:8080/"
        },
        "id": "Y58LpwyB7HBr",
        "outputId": "bec481fb-f034-4560-fb66-97a2bc939e48"
      },
      "execution_count": 25,
      "outputs": [
        {
          "output_type": "execute_result",
          "data": {
            "text/plain": [
              "[array([[0.23154877, 0.23154877, 0.23154877, 0.23154877, 0.23154877,\n",
              "         0.23154877, 0.23154877, 0.23154877, 0.23154877, 0.23154877],\n",
              "        [0.86847425, 0.86847425, 0.86847425, 0.86847425, 0.86847425,\n",
              "         0.86847425, 0.86847425, 0.86847425, 0.86847425, 0.86847425]],\n",
              "       dtype=float32),\n",
              " array([0.18821806, 0.18821806, 0.18821797, 0.18821797, 0.18821798,\n",
              "        0.18821798, 0.18821809, 0.18821809, 0.18821806, 0.18821806],\n",
              "       dtype=float32),\n",
              " array([[0.10055634],\n",
              "        [0.10055634],\n",
              "        [0.10055637],\n",
              "        [0.10055637],\n",
              "        [0.10055637],\n",
              "        [0.10055637],\n",
              "        [0.10055634],\n",
              "        [0.10055634],\n",
              "        [0.10055634],\n",
              "        [0.10055634]], dtype=float32),\n",
              " array([0.06681615], dtype=float32)]"
            ]
          },
          "metadata": {},
          "execution_count": 25
        }
      ]
    },
    {
      "cell_type": "code",
      "source": [
        "from mlxtend.plotting import plot_decision_regions\n",
        "plt.figure(figsize=(5,3))\n",
        "plot_decision_regions(X,y.astype('int'), clf=model, legend=2)"
      ],
      "metadata": {
        "colab": {
          "base_uri": "https://localhost:8080/",
          "height": 326
        },
        "id": "9_DuSK3N7PDE",
        "outputId": "a409ed1d-1f1f-48bc-e2de-21851056372a"
      },
      "execution_count": 26,
      "outputs": [
        {
          "output_type": "stream",
          "name": "stdout",
          "text": [
            "4688/4688 [==============================] - 8s 2ms/step\n"
          ]
        },
        {
          "output_type": "execute_result",
          "data": {
            "text/plain": [
              "<Axes: >"
            ]
          },
          "metadata": {},
          "execution_count": 26
        },
        {
          "output_type": "display_data",
          "data": {
            "text/plain": [
              "<Figure size 500x300 with 1 Axes>"
            ],
            "image/png": "[encoded data removed]"
          },
          "metadata": {}
        }
      ]
    },
    {
      "cell_type": "markdown",
      "source": [
        "# ReLu"
      ],
      "metadata": {
        "id": "jhd1fdmU-QLn"
      }
    },
    {
      "cell_type": "code",
      "source": [
        "model = Sequential()\n",
        "\n",
        "model.add(Dense(10,activation='relu',input_dim=2))\n",
        "model.add(Dense(1,activation='sigmoid'))\n",
        "\n",
        "model.summary()"
      ],
      "metadata": {
        "id": "hof12Hqs7oya",
        "colab": {
          "base_uri": "https://localhost:8080/"
        },
        "outputId": "a555699f-f9c5-45cd-9cf0-0835e417e53b"
      },
      "execution_count": 27,
      "outputs": [
        {
          "output_type": "stream",
          "name": "stdout",
          "text": [
            "Model: \"sequential_1\"\n",
            "_________________________________________________________________\n",
            " Layer (type)                Output Shape              Param #   \n",
            "=================================================================\n",
            " dense_2 (Dense)             (None, 10)                30        \n",
            "                                                                 \n",
            " dense_3 (Dense)             (None, 1)                 11        \n",
            "                                                                 \n",
            "=================================================================\n",
            "Total params: 41 (164.00 Byte)\n",
            "Trainable params: 41 (164.00 Byte)\n",
            "Non-trainable params: 0 (0.00 Byte)\n",
            "_________________________________________________________________\n"
          ]
        }
      ]
    },
    {
      "cell_type": "code",
      "source": [
        "# Set parameters to 0\n",
        "model.get_weights()"
      ],
      "metadata": {
        "id": "a2nPmjYs74uY",
        "colab": {
          "base_uri": "https://localhost:8080/"
        },
        "outputId": "ba1a1d6c-0276-4c0b-83fa-38f6d98158e9"
      },
      "execution_count": 28,
      "outputs": [
        {
          "output_type": "execute_result",
          "data": {
            "text/plain": [
              "[array([[-0.14376915,  0.3121783 ,  0.0284164 , -0.6429402 , -0.25026765,\n",
              "          0.6281548 , -0.3998104 ,  0.31762284,  0.46352845,  0.6300507 ],\n",
              "        [-0.02930081, -0.20504004, -0.3988496 ,  0.33569998, -0.24216956,\n",
              "          0.5955207 ,  0.29845756, -0.07938343, -0.19262224,  0.50762826]],\n",
              "       dtype=float32),\n",
              " array([0., 0., 0., 0., 0., 0., 0., 0., 0., 0.], dtype=float32),\n",
              " array([[ 0.33689898],\n",
              "        [ 0.12561291],\n",
              "        [ 0.53269225],\n",
              "        [ 0.40874976],\n",
              "        [-0.18640053],\n",
              "        [-0.33562416],\n",
              "        [ 0.23128027],\n",
              "        [-0.01262289],\n",
              "        [ 0.33652908],\n",
              "        [ 0.02931458]], dtype=float32),\n",
              " array([0.], dtype=float32)]"
            ]
          },
          "metadata": {},
          "execution_count": 28
        }
      ]
    },
    {
      "cell_type": "code",
      "source": [
        "initial_weights = model.get_weights()"
      ],
      "metadata": {
        "id": "9PYnItrK-Wgr"
      },
      "execution_count": 29,
      "outputs": []
    },
    {
      "cell_type": "code",
      "source": [
        "initial_weights[0] = np.ones(model.get_weights()[0].shape)*0.5\n",
        "initial_weights[1] = np.ones(model.get_weights()[1].shape)*0.5\n",
        "initial_weights[2] = np.ones(model.get_weights()[2].shape)*0.5\n",
        "initial_weights[3] = np.ones(model.get_weights()[3].shape)*0.5"
      ],
      "metadata": {
        "id": "SYTngCu1-X_P"
      },
      "execution_count": 30,
      "outputs": []
    },
    {
      "cell_type": "code",
      "source": [
        "model.set_weights(initial_weights)"
      ],
      "metadata": {
        "id": "HOWYyLxn-avf"
      },
      "execution_count": 31,
      "outputs": []
    },
    {
      "cell_type": "code",
      "source": [
        "model.get_weights()"
      ],
      "metadata": {
        "id": "uTsTcRkA-ct3",
        "outputId": "3247b023-4a29-4125-f57b-2b2af8dd7543",
        "colab": {
          "base_uri": "https://localhost:8080/"
        }
      },
      "execution_count": 32,
      "outputs": [
        {
          "output_type": "execute_result",
          "data": {
            "text/plain": [
              "[array([[0.5, 0.5, 0.5, 0.5, 0.5, 0.5, 0.5, 0.5, 0.5, 0.5],\n",
              "        [0.5, 0.5, 0.5, 0.5, 0.5, 0.5, 0.5, 0.5, 0.5, 0.5]], dtype=float32),\n",
              " array([0.5, 0.5, 0.5, 0.5, 0.5, 0.5, 0.5, 0.5, 0.5, 0.5], dtype=float32),\n",
              " array([[0.5],\n",
              "        [0.5],\n",
              "        [0.5],\n",
              "        [0.5],\n",
              "        [0.5],\n",
              "        [0.5],\n",
              "        [0.5],\n",
              "        [0.5],\n",
              "        [0.5],\n",
              "        [0.5]], dtype=float32),\n",
              " array([0.5], dtype=float32)]"
            ]
          },
          "metadata": {},
          "execution_count": 32
        }
      ]
    },
    {
      "cell_type": "code",
      "source": [
        "model.compile(loss='binary_crossentropy',optimizer='adam',metrics=['accuracy'])"
      ],
      "metadata": {
        "id": "I3eFPSYL-eoH"
      },
      "execution_count": 33,
      "outputs": []
    },
    {
      "cell_type": "code",
      "source": [
        "history = model.fit(X,y,epochs=100,validation_split=0.2)"
      ],
      "metadata": {
        "id": "lSC9bhJx-gwW",
        "outputId": "ad721f6f-0d10-4d5c-f111-1dc320fe3d65",
        "colab": {
          "base_uri": "https://localhost:8080/"
        }
      },
      "execution_count": 34,
      "outputs": [
        {
          "output_type": "stream",
          "name": "stdout",
          "text": [
            "Epoch 1/100\n",
            "6/6 [==============================] - 2s 56ms/step - loss: 1.1537 - accuracy: 0.5298 - val_loss: 1.8396 - val_accuracy: 0.3953\n",
            "Epoch 2/100\n",
            "6/6 [==============================] - 0s 12ms/step - loss: 1.1295 - accuracy: 0.5298 - val_loss: 1.8064 - val_accuracy: 0.3953\n",
            "Epoch 3/100\n",
            "6/6 [==============================] - 0s 11ms/step - loss: 1.1066 - accuracy: 0.5298 - val_loss: 1.7732 - val_accuracy: 0.3953\n",
            "Epoch 4/100\n",
            "6/6 [==============================] - 0s 11ms/step - loss: 1.0848 - accuracy: 0.5298 - val_loss: 1.7402 - val_accuracy: 0.3953\n",
            "Epoch 5/100\n",
            "6/6 [==============================] - 0s 9ms/step - loss: 1.0622 - accuracy: 0.5298 - val_loss: 1.7089 - val_accuracy: 0.3953\n",
            "Epoch 6/100\n",
            "6/6 [==============================] - 0s 12ms/step - loss: 1.0421 - accuracy: 0.5298 - val_loss: 1.6778 - val_accuracy: 0.3953\n",
            "Epoch 7/100\n",
            "6/6 [==============================] - 0s 11ms/step - loss: 1.0221 - accuracy: 0.5298 - val_loss: 1.6479 - val_accuracy: 0.3953\n",
            "Epoch 8/100\n",
            "6/6 [==============================] - 0s 8ms/step - loss: 1.0037 - accuracy: 0.5298 - val_loss: 1.6200 - val_accuracy: 0.3953\n",
            "Epoch 9/100\n",
            "6/6 [==============================] - 0s 8ms/step - loss: 0.9858 - accuracy: 0.5298 - val_loss: 1.5936 - val_accuracy: 0.3953\n",
            "Epoch 10/100\n",
            "6/6 [==============================] - 0s 8ms/step - loss: 0.9688 - accuracy: 0.5298 - val_loss: 1.5676 - val_accuracy: 0.3953\n",
            "Epoch 11/100\n",
            "6/6 [==============================] - 0s 12ms/step - loss: 0.9529 - accuracy: 0.5298 - val_loss: 1.5422 - val_accuracy: 0.3953\n",
            "Epoch 12/100\n",
            "6/6 [==============================] - 0s 9ms/step - loss: 0.9367 - accuracy: 0.5298 - val_loss: 1.5179 - val_accuracy: 0.3953\n",
            "Epoch 13/100\n",
            "6/6 [==============================] - 0s 11ms/step - loss: 0.9217 - accuracy: 0.5298 - val_loss: 1.4935 - val_accuracy: 0.3953\n",
            "Epoch 14/100\n",
            "6/6 [==============================] - 0s 8ms/step - loss: 0.9067 - accuracy: 0.5298 - val_loss: 1.4701 - val_accuracy: 0.3953\n",
            "Epoch 15/100\n",
            "6/6 [==============================] - 0s 8ms/step - loss: 0.8940 - accuracy: 0.5298 - val_loss: 1.4472 - val_accuracy: 0.3953\n",
            "Epoch 16/100\n",
            "6/6 [==============================] - 0s 9ms/step - loss: 0.8799 - accuracy: 0.5298 - val_loss: 1.4266 - val_accuracy: 0.3953\n",
            "Epoch 17/100\n",
            "6/6 [==============================] - 0s 9ms/step - loss: 0.8674 - accuracy: 0.5298 - val_loss: 1.4070 - val_accuracy: 0.3953\n",
            "Epoch 18/100\n",
            "6/6 [==============================] - 0s 9ms/step - loss: 0.8558 - accuracy: 0.5298 - val_loss: 1.3871 - val_accuracy: 0.3953\n",
            "Epoch 19/100\n",
            "6/6 [==============================] - 0s 12ms/step - loss: 0.8445 - accuracy: 0.5298 - val_loss: 1.3677 - val_accuracy: 0.3953\n",
            "Epoch 20/100\n",
            "6/6 [==============================] - 0s 10ms/step - loss: 0.8332 - accuracy: 0.5298 - val_loss: 1.3494 - val_accuracy: 0.3953\n",
            "Epoch 21/100\n",
            "6/6 [==============================] - 0s 17ms/step - loss: 0.8236 - accuracy: 0.5298 - val_loss: 1.3307 - val_accuracy: 0.3953\n",
            "Epoch 22/100\n",
            "6/6 [==============================] - 0s 13ms/step - loss: 0.8135 - accuracy: 0.5298 - val_loss: 1.3136 - val_accuracy: 0.3953\n",
            "Epoch 23/100\n",
            "6/6 [==============================] - 0s 12ms/step - loss: 0.8043 - accuracy: 0.5298 - val_loss: 1.2972 - val_accuracy: 0.3953\n",
            "Epoch 24/100\n",
            "6/6 [==============================] - 0s 16ms/step - loss: 0.7958 - accuracy: 0.5298 - val_loss: 1.2820 - val_accuracy: 0.3953\n",
            "Epoch 25/100\n",
            "6/6 [==============================] - 0s 16ms/step - loss: 0.7875 - accuracy: 0.5298 - val_loss: 1.2670 - val_accuracy: 0.3953\n",
            "Epoch 26/100\n",
            "6/6 [==============================] - 0s 14ms/step - loss: 0.7794 - accuracy: 0.5298 - val_loss: 1.2526 - val_accuracy: 0.3953\n",
            "Epoch 27/100\n",
            "6/6 [==============================] - 0s 9ms/step - loss: 0.7722 - accuracy: 0.5298 - val_loss: 1.2383 - val_accuracy: 0.3953\n",
            "Epoch 28/100\n",
            "6/6 [==============================] - 0s 8ms/step - loss: 0.7653 - accuracy: 0.5298 - val_loss: 1.2240 - val_accuracy: 0.3953\n",
            "Epoch 29/100\n",
            "6/6 [==============================] - 0s 8ms/step - loss: 0.7584 - accuracy: 0.5298 - val_loss: 1.2108 - val_accuracy: 0.3953\n",
            "Epoch 30/100\n",
            "6/6 [==============================] - 0s 22ms/step - loss: 0.7518 - accuracy: 0.5298 - val_loss: 1.1987 - val_accuracy: 0.3953\n",
            "Epoch 31/100\n",
            "6/6 [==============================] - 0s 30ms/step - loss: 0.7458 - accuracy: 0.5298 - val_loss: 1.1868 - val_accuracy: 0.3953\n",
            "Epoch 32/100\n",
            "6/6 [==============================] - 0s 26ms/step - loss: 0.7398 - accuracy: 0.5298 - val_loss: 1.1757 - val_accuracy: 0.3953\n",
            "Epoch 33/100\n",
            "6/6 [==============================] - 0s 24ms/step - loss: 0.7344 - accuracy: 0.5298 - val_loss: 1.1644 - val_accuracy: 0.3953\n",
            "Epoch 34/100\n",
            "6/6 [==============================] - 0s 23ms/step - loss: 0.7292 - accuracy: 0.5298 - val_loss: 1.1535 - val_accuracy: 0.3953\n",
            "Epoch 35/100\n",
            "6/6 [==============================] - 0s 25ms/step - loss: 0.7241 - accuracy: 0.5298 - val_loss: 1.1425 - val_accuracy: 0.3953\n",
            "Epoch 36/100\n",
            "6/6 [==============================] - 0s 32ms/step - loss: 0.7189 - accuracy: 0.5298 - val_loss: 1.1319 - val_accuracy: 0.3953\n",
            "Epoch 37/100\n",
            "6/6 [==============================] - 0s 19ms/step - loss: 0.7142 - accuracy: 0.5298 - val_loss: 1.1222 - val_accuracy: 0.3953\n",
            "Epoch 38/100\n",
            "6/6 [==============================] - 0s 24ms/step - loss: 0.7098 - accuracy: 0.5298 - val_loss: 1.1127 - val_accuracy: 0.3953\n",
            "Epoch 39/100\n",
            "6/6 [==============================] - 0s 22ms/step - loss: 0.7053 - accuracy: 0.5298 - val_loss: 1.1039 - val_accuracy: 0.3953\n",
            "Epoch 40/100\n",
            "6/6 [==============================] - 0s 24ms/step - loss: 0.7015 - accuracy: 0.5298 - val_loss: 1.0943 - val_accuracy: 0.3953\n",
            "Epoch 41/100\n",
            "6/6 [==============================] - 0s 21ms/step - loss: 0.6972 - accuracy: 0.5298 - val_loss: 1.0859 - val_accuracy: 0.3953\n",
            "Epoch 42/100\n",
            "6/6 [==============================] - 0s 21ms/step - loss: 0.6933 - accuracy: 0.5298 - val_loss: 1.0781 - val_accuracy: 0.3953\n",
            "Epoch 43/100\n",
            "6/6 [==============================] - 0s 21ms/step - loss: 0.6898 - accuracy: 0.5298 - val_loss: 1.0702 - val_accuracy: 0.3953\n",
            "Epoch 44/100\n",
            "6/6 [==============================] - 0s 19ms/step - loss: 0.6863 - accuracy: 0.5298 - val_loss: 1.0622 - val_accuracy: 0.3953\n",
            "Epoch 45/100\n",
            "6/6 [==============================] - 0s 14ms/step - loss: 0.6829 - accuracy: 0.5298 - val_loss: 1.0543 - val_accuracy: 0.3953\n",
            "Epoch 46/100\n",
            "6/6 [==============================] - 0s 16ms/step - loss: 0.6797 - accuracy: 0.5298 - val_loss: 1.0469 - val_accuracy: 0.3953\n",
            "Epoch 47/100\n",
            "6/6 [==============================] - 0s 17ms/step - loss: 0.6768 - accuracy: 0.5298 - val_loss: 1.0407 - val_accuracy: 0.3953\n",
            "Epoch 48/100\n",
            "6/6 [==============================] - 0s 21ms/step - loss: 0.6740 - accuracy: 0.5298 - val_loss: 1.0353 - val_accuracy: 0.3953\n",
            "Epoch 49/100\n",
            "6/6 [==============================] - 0s 30ms/step - loss: 0.6713 - accuracy: 0.5298 - val_loss: 1.0294 - val_accuracy: 0.3953\n",
            "Epoch 50/100\n",
            "6/6 [==============================] - 0s 26ms/step - loss: 0.6686 - accuracy: 0.5298 - val_loss: 1.0241 - val_accuracy: 0.3953\n",
            "Epoch 51/100\n",
            "6/6 [==============================] - 0s 19ms/step - loss: 0.6660 - accuracy: 0.5298 - val_loss: 1.0183 - val_accuracy: 0.3953\n",
            "Epoch 52/100\n",
            "6/6 [==============================] - 0s 14ms/step - loss: 0.6633 - accuracy: 0.5298 - val_loss: 1.0124 - val_accuracy: 0.3953\n",
            "Epoch 53/100\n",
            "6/6 [==============================] - 0s 16ms/step - loss: 0.6607 - accuracy: 0.5298 - val_loss: 1.0067 - val_accuracy: 0.3953\n",
            "Epoch 54/100\n",
            "6/6 [==============================] - 0s 15ms/step - loss: 0.6581 - accuracy: 0.5298 - val_loss: 1.0014 - val_accuracy: 0.3953\n",
            "Epoch 55/100\n",
            "6/6 [==============================] - 0s 15ms/step - loss: 0.6558 - accuracy: 0.5298 - val_loss: 0.9966 - val_accuracy: 0.3953\n",
            "Epoch 56/100\n",
            "6/6 [==============================] - 0s 17ms/step - loss: 0.6533 - accuracy: 0.5298 - val_loss: 0.9917 - val_accuracy: 0.3953\n",
            "Epoch 57/100\n",
            "6/6 [==============================] - 0s 12ms/step - loss: 0.6510 - accuracy: 0.5298 - val_loss: 0.9865 - val_accuracy: 0.3953\n",
            "Epoch 58/100\n",
            "6/6 [==============================] - 0s 14ms/step - loss: 0.6487 - accuracy: 0.5298 - val_loss: 0.9814 - val_accuracy: 0.3953\n",
            "Epoch 59/100\n",
            "6/6 [==============================] - 0s 15ms/step - loss: 0.6464 - accuracy: 0.5298 - val_loss: 0.9760 - val_accuracy: 0.3953\n",
            "Epoch 60/100\n",
            "6/6 [==============================] - 0s 17ms/step - loss: 0.6441 - accuracy: 0.5298 - val_loss: 0.9707 - val_accuracy: 0.3953\n",
            "Epoch 61/100\n",
            "6/6 [==============================] - 0s 16ms/step - loss: 0.6417 - accuracy: 0.5298 - val_loss: 0.9664 - val_accuracy: 0.3953\n",
            "Epoch 62/100\n",
            "6/6 [==============================] - 0s 11ms/step - loss: 0.6395 - accuracy: 0.5298 - val_loss: 0.9619 - val_accuracy: 0.3953\n",
            "Epoch 63/100\n",
            "6/6 [==============================] - 0s 9ms/step - loss: 0.6376 - accuracy: 0.5298 - val_loss: 0.9575 - val_accuracy: 0.3953\n",
            "Epoch 64/100\n",
            "6/6 [==============================] - 0s 12ms/step - loss: 0.6355 - accuracy: 0.5298 - val_loss: 0.9541 - val_accuracy: 0.3953\n",
            "Epoch 65/100\n",
            "6/6 [==============================] - 0s 8ms/step - loss: 0.6337 - accuracy: 0.5298 - val_loss: 0.9511 - val_accuracy: 0.3953\n",
            "Epoch 66/100\n",
            "6/6 [==============================] - 0s 8ms/step - loss: 0.6320 - accuracy: 0.5298 - val_loss: 0.9474 - val_accuracy: 0.3953\n",
            "Epoch 67/100\n",
            "6/6 [==============================] - 0s 11ms/step - loss: 0.6300 - accuracy: 0.5298 - val_loss: 0.9442 - val_accuracy: 0.3953\n",
            "Epoch 68/100\n",
            "6/6 [==============================] - 0s 9ms/step - loss: 0.6281 - accuracy: 0.5298 - val_loss: 0.9405 - val_accuracy: 0.3953\n",
            "Epoch 69/100\n",
            "6/6 [==============================] - 0s 11ms/step - loss: 0.6264 - accuracy: 0.5298 - val_loss: 0.9362 - val_accuracy: 0.3953\n",
            "Epoch 70/100\n",
            "6/6 [==============================] - 0s 12ms/step - loss: 0.6246 - accuracy: 0.5298 - val_loss: 0.9320 - val_accuracy: 0.3953\n",
            "Epoch 71/100\n",
            "6/6 [==============================] - 0s 11ms/step - loss: 0.6228 - accuracy: 0.5298 - val_loss: 0.9292 - val_accuracy: 0.3953\n",
            "Epoch 72/100\n",
            "6/6 [==============================] - 0s 12ms/step - loss: 0.6211 - accuracy: 0.5298 - val_loss: 0.9259 - val_accuracy: 0.3953\n",
            "Epoch 73/100\n",
            "6/6 [==============================] - 0s 16ms/step - loss: 0.6194 - accuracy: 0.5298 - val_loss: 0.9220 - val_accuracy: 0.3953\n",
            "Epoch 74/100\n",
            "6/6 [==============================] - 0s 15ms/step - loss: 0.6176 - accuracy: 0.5298 - val_loss: 0.9191 - val_accuracy: 0.3953\n",
            "Epoch 75/100\n",
            "6/6 [==============================] - 0s 16ms/step - loss: 0.6159 - accuracy: 0.5298 - val_loss: 0.9163 - val_accuracy: 0.3953\n",
            "Epoch 76/100\n",
            "6/6 [==============================] - 0s 14ms/step - loss: 0.6143 - accuracy: 0.5298 - val_loss: 0.9138 - val_accuracy: 0.3953\n",
            "Epoch 77/100\n",
            "6/6 [==============================] - 0s 16ms/step - loss: 0.6126 - accuracy: 0.5298 - val_loss: 0.9112 - val_accuracy: 0.3953\n",
            "Epoch 78/100\n",
            "6/6 [==============================] - 0s 15ms/step - loss: 0.6110 - accuracy: 0.5298 - val_loss: 0.9088 - val_accuracy: 0.3953\n",
            "Epoch 79/100\n",
            "6/6 [==============================] - 0s 17ms/step - loss: 0.6094 - accuracy: 0.5298 - val_loss: 0.9060 - val_accuracy: 0.3953\n",
            "Epoch 80/100\n",
            "6/6 [==============================] - 0s 16ms/step - loss: 0.6079 - accuracy: 0.5298 - val_loss: 0.9034 - val_accuracy: 0.3953\n",
            "Epoch 81/100\n",
            "6/6 [==============================] - 0s 16ms/step - loss: 0.6066 - accuracy: 0.5298 - val_loss: 0.9011 - val_accuracy: 0.3953\n",
            "Epoch 82/100\n",
            "6/6 [==============================] - 0s 15ms/step - loss: 0.6051 - accuracy: 0.5298 - val_loss: 0.8993 - val_accuracy: 0.3953\n",
            "Epoch 83/100\n",
            "6/6 [==============================] - 0s 17ms/step - loss: 0.6036 - accuracy: 0.5298 - val_loss: 0.8981 - val_accuracy: 0.3953\n",
            "Epoch 84/100\n",
            "6/6 [==============================] - 0s 15ms/step - loss: 0.6023 - accuracy: 0.5298 - val_loss: 0.8966 - val_accuracy: 0.3953\n",
            "Epoch 85/100\n",
            "6/6 [==============================] - 0s 24ms/step - loss: 0.6009 - accuracy: 0.5298 - val_loss: 0.8952 - val_accuracy: 0.3953\n",
            "Epoch 86/100\n",
            "6/6 [==============================] - 0s 9ms/step - loss: 0.5995 - accuracy: 0.5298 - val_loss: 0.8937 - val_accuracy: 0.3953\n",
            "Epoch 87/100\n",
            "6/6 [==============================] - 0s 9ms/step - loss: 0.5982 - accuracy: 0.5298 - val_loss: 0.8922 - val_accuracy: 0.3953\n",
            "Epoch 88/100\n",
            "6/6 [==============================] - 0s 8ms/step - loss: 0.5968 - accuracy: 0.5298 - val_loss: 0.8909 - val_accuracy: 0.3953\n",
            "Epoch 89/100\n",
            "6/6 [==============================] - 0s 8ms/step - loss: 0.5954 - accuracy: 0.5298 - val_loss: 0.8895 - val_accuracy: 0.3953\n",
            "Epoch 90/100\n",
            "6/6 [==============================] - 0s 12ms/step - loss: 0.5939 - accuracy: 0.5298 - val_loss: 0.8891 - val_accuracy: 0.3953\n",
            "Epoch 91/100\n",
            "6/6 [==============================] - 0s 9ms/step - loss: 0.5925 - accuracy: 0.5298 - val_loss: 0.8876 - val_accuracy: 0.3953\n",
            "Epoch 92/100\n",
            "6/6 [==============================] - 0s 8ms/step - loss: 0.5911 - accuracy: 0.5298 - val_loss: 0.8868 - val_accuracy: 0.3953\n",
            "Epoch 93/100\n",
            "6/6 [==============================] - 0s 12ms/step - loss: 0.5896 - accuracy: 0.5298 - val_loss: 0.8860 - val_accuracy: 0.3953\n",
            "Epoch 94/100\n",
            "6/6 [==============================] - 0s 11ms/step - loss: 0.5882 - accuracy: 0.5298 - val_loss: 0.8841 - val_accuracy: 0.3953\n",
            "Epoch 95/100\n",
            "6/6 [==============================] - 0s 8ms/step - loss: 0.5867 - accuracy: 0.5298 - val_loss: 0.8828 - val_accuracy: 0.3953\n",
            "Epoch 96/100\n",
            "6/6 [==============================] - 0s 8ms/step - loss: 0.5853 - accuracy: 0.5298 - val_loss: 0.8814 - val_accuracy: 0.3953\n",
            "Epoch 97/100\n",
            "6/6 [==============================] - 0s 9ms/step - loss: 0.5837 - accuracy: 0.5298 - val_loss: 0.8808 - val_accuracy: 0.3953\n",
            "Epoch 98/100\n",
            "6/6 [==============================] - 0s 8ms/step - loss: 0.5825 - accuracy: 0.5298 - val_loss: 0.8805 - val_accuracy: 0.3953\n",
            "Epoch 99/100\n",
            "6/6 [==============================] - 0s 11ms/step - loss: 0.5810 - accuracy: 0.5298 - val_loss: 0.8799 - val_accuracy: 0.3953\n",
            "Epoch 100/100\n",
            "6/6 [==============================] - 0s 8ms/step - loss: 0.5797 - accuracy: 0.5298 - val_loss: 0.8796 - val_accuracy: 0.3953\n"
          ]
        }
      ]
    },
    {
      "cell_type": "code",
      "source": [
        "model.get_weights()"
      ],
      "metadata": {
        "id": "-NbRM9D0-hnu",
        "outputId": "d34e2009-4c96-4a23-fa4d-9dd499f973e4",
        "colab": {
          "base_uri": "https://localhost:8080/"
        }
      },
      "execution_count": 35,
      "outputs": [
        {
          "output_type": "execute_result",
          "data": {
            "text/plain": [
              "[array([[-0.00806364, -0.00806364, -0.00806364, -0.00806364, -0.00806364,\n",
              "         -0.00806364, -0.00806364, -0.00806364, -0.00806364, -0.00806364],\n",
              "        [ 0.7972926 ,  0.7972926 ,  0.7972926 ,  0.7972926 ,  0.7972926 ,\n",
              "          0.7972926 ,  0.7972926 ,  0.7972926 ,  0.7972926 ,  0.7972926 ]],\n",
              "       dtype=float32),\n",
              " array([0.24481446, 0.24481446, 0.24481446, 0.24481446, 0.24481446,\n",
              "        0.24481446, 0.24481449, 0.24481449, 0.24481446, 0.24481446],\n",
              "       dtype=float32),\n",
              " array([[0.32941172],\n",
              "        [0.32941172],\n",
              "        [0.32941172],\n",
              "        [0.32941172],\n",
              "        [0.32941172],\n",
              "        [0.32941172],\n",
              "        [0.32941172],\n",
              "        [0.32941172],\n",
              "        [0.32941172],\n",
              "        [0.32941172]], dtype=float32),\n",
              " array([0.0735136], dtype=float32)]"
            ]
          },
          "metadata": {},
          "execution_count": 35
        }
      ]
    },
    {
      "cell_type": "code",
      "source": [
        "from mlxtend.plotting import plot_decision_regions\n",
        "plt.figure(figsize=(5,3))\n",
        "plot_decision_regions(X,y.astype('int'), clf=model, legend=2)"
      ],
      "metadata": {
        "id": "xps2qSuK-iZP",
        "outputId": "f474b474-1511-44a2-ccc1-29342ce7c416",
        "colab": {
          "base_uri": "https://localhost:8080/",
          "height": 326
        }
      },
      "execution_count": 36,
      "outputs": [
        {
          "output_type": "stream",
          "name": "stdout",
          "text": [
            "4688/4688 [==============================] - 8s 2ms/step\n"
          ]
        },
        {
          "output_type": "execute_result",
          "data": {
            "text/plain": [
              "<Axes: >"
            ]
          },
          "metadata": {},
          "execution_count": 36
        },
        {
          "output_type": "display_data",
          "data": {
            "text/plain": [
              "<Figure size 500x300 with 1 Axes>"
            ],
            "image/png": "[encoded data removed]"
          },
          "metadata": {}
        }
      ]
    },
    {
      "cell_type": "markdown",
      "source": [
        "# tanh"
      ],
      "metadata": {
        "id": "_Lrw9UmW-kap"
      }
    },
    {
      "cell_type": "code",
      "source": [
        "model = Sequential()\n",
        "\n",
        "model.add(Dense(10,activation='tanh',input_dim=2))\n",
        "model.add(Dense(1,activation='sigmoid'))\n",
        "\n",
        "model.summary()"
      ],
      "metadata": {
        "id": "snP6A5wC-jhe",
        "outputId": "18d7f5f2-3721-4f65-9d4a-0ec82c2e7eb8",
        "colab": {
          "base_uri": "https://localhost:8080/"
        }
      },
      "execution_count": 37,
      "outputs": [
        {
          "output_type": "stream",
          "name": "stdout",
          "text": [
            "Model: \"sequential_2\"\n",
            "_________________________________________________________________\n",
            " Layer (type)                Output Shape              Param #   \n",
            "=================================================================\n",
            " dense_4 (Dense)             (None, 10)                30        \n",
            "                                                                 \n",
            " dense_5 (Dense)             (None, 1)                 11        \n",
            "                                                                 \n",
            "=================================================================\n",
            "Total params: 41 (164.00 Byte)\n",
            "Trainable params: 41 (164.00 Byte)\n",
            "Non-trainable params: 0 (0.00 Byte)\n",
            "_________________________________________________________________\n"
          ]
        }
      ]
    },
    {
      "cell_type": "code",
      "source": [
        "# Set parameters to 0\n",
        "model.get_weights()"
      ],
      "metadata": {
        "id": "D_nISJNb-q1l",
        "outputId": "eec6813b-394f-4882-ebef-dbc6366c567e",
        "colab": {
          "base_uri": "https://localhost:8080/"
        }
      },
      "execution_count": 38,
      "outputs": [
        {
          "output_type": "execute_result",
          "data": {
            "text/plain": [
              "[array([[-0.5042415 , -0.1389612 ,  0.19861364,  0.32284456,  0.5150525 ,\n",
              "         -0.4304419 ,  0.47330624,  0.3235013 , -0.23483011,  0.01032597],\n",
              "        [ 0.04461867, -0.26938915, -0.15863854, -0.36705387, -0.1324023 ,\n",
              "          0.08157253,  0.62525874, -0.50351995, -0.32921982,  0.04962558]],\n",
              "       dtype=float32),\n",
              " array([0., 0., 0., 0., 0., 0., 0., 0., 0., 0.], dtype=float32),\n",
              " array([[ 0.4150048 ],\n",
              "        [ 0.24332947],\n",
              "        [-0.67956984],\n",
              "        [ 0.4328006 ],\n",
              "        [-0.11743307],\n",
              "        [-0.35993886],\n",
              "        [-0.17038852],\n",
              "        [-0.52218336],\n",
              "        [-0.06131572],\n",
              "        [-0.3679017 ]], dtype=float32),\n",
              " array([0.], dtype=float32)]"
            ]
          },
          "metadata": {},
          "execution_count": 38
        }
      ]
    },
    {
      "cell_type": "code",
      "source": [
        "initial_weights = model.get_weights()"
      ],
      "metadata": {
        "id": "VgCQeV6a-ufc"
      },
      "execution_count": 39,
      "outputs": []
    },
    {
      "cell_type": "code",
      "source": [
        "initial_weights[0] = np.ones(model.get_weights()[0].shape)*0.5\n",
        "initial_weights[1] = np.ones(model.get_weights()[1].shape)*0.5\n",
        "initial_weights[2] = np.ones(model.get_weights()[2].shape)*0.5\n",
        "initial_weights[3] = np.ones(model.get_weights()[3].shape)*0.5"
      ],
      "metadata": {
        "id": "Dv7EPPww-v3-"
      },
      "execution_count": 40,
      "outputs": []
    },
    {
      "cell_type": "code",
      "source": [
        "model.set_weights(initial_weights)"
      ],
      "metadata": {
        "id": "RL_kTUZs-yQG"
      },
      "execution_count": 41,
      "outputs": []
    },
    {
      "cell_type": "code",
      "source": [
        "model.get_weights()"
      ],
      "metadata": {
        "id": "rAGmtNle-0Wf",
        "outputId": "898a5ab7-425f-4bd6-a476-da25c773754e",
        "colab": {
          "base_uri": "https://localhost:8080/"
        }
      },
      "execution_count": 42,
      "outputs": [
        {
          "output_type": "execute_result",
          "data": {
            "text/plain": [
              "[array([[0.5, 0.5, 0.5, 0.5, 0.5, 0.5, 0.5, 0.5, 0.5, 0.5],\n",
              "        [0.5, 0.5, 0.5, 0.5, 0.5, 0.5, 0.5, 0.5, 0.5, 0.5]], dtype=float32),\n",
              " array([0.5, 0.5, 0.5, 0.5, 0.5, 0.5, 0.5, 0.5, 0.5, 0.5], dtype=float32),\n",
              " array([[0.5],\n",
              "        [0.5],\n",
              "        [0.5],\n",
              "        [0.5],\n",
              "        [0.5],\n",
              "        [0.5],\n",
              "        [0.5],\n",
              "        [0.5],\n",
              "        [0.5],\n",
              "        [0.5]], dtype=float32),\n",
              " array([0.5], dtype=float32)]"
            ]
          },
          "metadata": {},
          "execution_count": 42
        }
      ]
    },
    {
      "cell_type": "code",
      "source": [
        "model.compile(loss='binary_crossentropy',optimizer='adam',metrics=['accuracy'])"
      ],
      "metadata": {
        "id": "yjXvSEb4-1hG"
      },
      "execution_count": 43,
      "outputs": []
    },
    {
      "cell_type": "code",
      "source": [
        "history = model.fit(X,y,epochs=100,validation_split=0.2)"
      ],
      "metadata": {
        "id": "9WzWheSV-2p_",
        "outputId": "84ebf6d6-6b90-439e-f8c6-dbb796b2273b",
        "colab": {
          "base_uri": "https://localhost:8080/"
        }
      },
      "execution_count": 44,
      "outputs": [
        {
          "output_type": "stream",
          "name": "stdout",
          "text": [
            "Epoch 1/100\n",
            "6/6 [==============================] - 1s 38ms/step - loss: 1.1127 - accuracy: 0.5298 - val_loss: 1.7105 - val_accuracy: 0.3953\n",
            "Epoch 2/100\n",
            "6/6 [==============================] - 0s 12ms/step - loss: 1.0916 - accuracy: 0.5298 - val_loss: 1.6820 - val_accuracy: 0.3953\n",
            "Epoch 3/100\n",
            "6/6 [==============================] - 0s 9ms/step - loss: 1.0720 - accuracy: 0.5298 - val_loss: 1.6535 - val_accuracy: 0.3953\n",
            "Epoch 4/100\n",
            "6/6 [==============================] - 0s 8ms/step - loss: 1.0511 - accuracy: 0.5298 - val_loss: 1.6263 - val_accuracy: 0.3953\n",
            "Epoch 5/100\n",
            "6/6 [==============================] - 0s 9ms/step - loss: 1.0329 - accuracy: 0.5298 - val_loss: 1.5994 - val_accuracy: 0.3953\n",
            "Epoch 6/100\n",
            "6/6 [==============================] - 0s 8ms/step - loss: 1.0126 - accuracy: 0.5298 - val_loss: 1.5736 - val_accuracy: 0.3953\n",
            "Epoch 7/100\n",
            "6/6 [==============================] - 0s 11ms/step - loss: 0.9947 - accuracy: 0.5298 - val_loss: 1.5481 - val_accuracy: 0.3953\n",
            "Epoch 8/100\n",
            "6/6 [==============================] - 0s 11ms/step - loss: 0.9780 - accuracy: 0.5298 - val_loss: 1.5236 - val_accuracy: 0.3953\n",
            "Epoch 9/100\n",
            "6/6 [==============================] - 0s 8ms/step - loss: 0.9618 - accuracy: 0.5298 - val_loss: 1.5008 - val_accuracy: 0.3953\n",
            "Epoch 10/100\n",
            "6/6 [==============================] - 0s 8ms/step - loss: 0.9466 - accuracy: 0.5298 - val_loss: 1.4787 - val_accuracy: 0.3953\n",
            "Epoch 11/100\n",
            "6/6 [==============================] - 0s 9ms/step - loss: 0.9314 - accuracy: 0.5298 - val_loss: 1.4577 - val_accuracy: 0.3953\n",
            "Epoch 12/100\n",
            "6/6 [==============================] - 0s 11ms/step - loss: 0.9175 - accuracy: 0.5298 - val_loss: 1.4372 - val_accuracy: 0.3721\n",
            "Epoch 13/100\n",
            "6/6 [==============================] - 0s 9ms/step - loss: 0.9029 - accuracy: 0.5298 - val_loss: 1.4177 - val_accuracy: 0.3721\n",
            "Epoch 14/100\n",
            "6/6 [==============================] - 0s 9ms/step - loss: 0.8905 - accuracy: 0.5298 - val_loss: 1.3974 - val_accuracy: 0.3721\n",
            "Epoch 15/100\n",
            "6/6 [==============================] - 0s 14ms/step - loss: 0.8769 - accuracy: 0.5298 - val_loss: 1.3780 - val_accuracy: 0.3721\n",
            "Epoch 16/100\n",
            "6/6 [==============================] - 0s 16ms/step - loss: 0.8650 - accuracy: 0.5298 - val_loss: 1.3587 - val_accuracy: 0.3721\n",
            "Epoch 17/100\n",
            "6/6 [==============================] - 0s 15ms/step - loss: 0.8525 - accuracy: 0.5298 - val_loss: 1.3406 - val_accuracy: 0.3721\n",
            "Epoch 18/100\n",
            "6/6 [==============================] - 0s 15ms/step - loss: 0.8413 - accuracy: 0.5238 - val_loss: 1.3234 - val_accuracy: 0.3953\n",
            "Epoch 19/100\n",
            "6/6 [==============================] - 0s 15ms/step - loss: 0.8300 - accuracy: 0.5238 - val_loss: 1.3067 - val_accuracy: 0.3953\n",
            "Epoch 20/100\n",
            "6/6 [==============================] - 0s 14ms/step - loss: 0.8198 - accuracy: 0.5238 - val_loss: 1.2899 - val_accuracy: 0.3953\n",
            "Epoch 21/100\n",
            "6/6 [==============================] - 0s 9ms/step - loss: 0.8094 - accuracy: 0.5238 - val_loss: 1.2747 - val_accuracy: 0.3953\n",
            "Epoch 22/100\n",
            "6/6 [==============================] - 0s 8ms/step - loss: 0.7998 - accuracy: 0.5238 - val_loss: 1.2603 - val_accuracy: 0.3953\n",
            "Epoch 23/100\n",
            "6/6 [==============================] - 0s 12ms/step - loss: 0.7910 - accuracy: 0.5238 - val_loss: 1.2453 - val_accuracy: 0.3953\n",
            "Epoch 24/100\n",
            "6/6 [==============================] - 0s 12ms/step - loss: 0.7818 - accuracy: 0.5238 - val_loss: 1.2317 - val_accuracy: 0.3721\n",
            "Epoch 25/100\n",
            "6/6 [==============================] - 0s 16ms/step - loss: 0.7731 - accuracy: 0.5238 - val_loss: 1.2177 - val_accuracy: 0.3721\n",
            "Epoch 26/100\n",
            "6/6 [==============================] - 0s 16ms/step - loss: 0.7651 - accuracy: 0.5238 - val_loss: 1.2040 - val_accuracy: 0.3721\n",
            "Epoch 27/100\n",
            "6/6 [==============================] - 0s 18ms/step - loss: 0.7569 - accuracy: 0.5238 - val_loss: 1.1915 - val_accuracy: 0.3721\n",
            "Epoch 28/100\n",
            "6/6 [==============================] - 0s 15ms/step - loss: 0.7495 - accuracy: 0.5238 - val_loss: 1.1788 - val_accuracy: 0.3721\n",
            "Epoch 29/100\n",
            "6/6 [==============================] - 0s 15ms/step - loss: 0.7420 - accuracy: 0.5298 - val_loss: 1.1664 - val_accuracy: 0.3721\n",
            "Epoch 30/100\n",
            "6/6 [==============================] - 0s 16ms/step - loss: 0.7345 - accuracy: 0.5357 - val_loss: 1.1548 - val_accuracy: 0.3721\n",
            "Epoch 31/100\n",
            "6/6 [==============================] - 0s 16ms/step - loss: 0.7278 - accuracy: 0.5357 - val_loss: 1.1432 - val_accuracy: 0.3721\n",
            "Epoch 32/100\n",
            "6/6 [==============================] - 0s 13ms/step - loss: 0.7216 - accuracy: 0.5476 - val_loss: 1.1318 - val_accuracy: 0.3721\n",
            "Epoch 33/100\n",
            "6/6 [==============================] - 0s 17ms/step - loss: 0.7145 - accuracy: 0.5476 - val_loss: 1.1218 - val_accuracy: 0.3721\n",
            "Epoch 34/100\n",
            "6/6 [==============================] - 0s 16ms/step - loss: 0.7087 - accuracy: 0.5476 - val_loss: 1.1110 - val_accuracy: 0.3721\n",
            "Epoch 35/100\n",
            "6/6 [==============================] - 0s 14ms/step - loss: 0.7028 - accuracy: 0.5595 - val_loss: 1.1013 - val_accuracy: 0.3721\n",
            "Epoch 36/100\n",
            "6/6 [==============================] - 0s 14ms/step - loss: 0.6969 - accuracy: 0.5536 - val_loss: 1.0926 - val_accuracy: 0.3721\n",
            "Epoch 37/100\n",
            "6/6 [==============================] - 0s 14ms/step - loss: 0.6914 - accuracy: 0.5536 - val_loss: 1.0837 - val_accuracy: 0.3721\n",
            "Epoch 38/100\n",
            "6/6 [==============================] - 0s 9ms/step - loss: 0.6863 - accuracy: 0.5595 - val_loss: 1.0745 - val_accuracy: 0.3721\n",
            "Epoch 39/100\n",
            "6/6 [==============================] - 0s 8ms/step - loss: 0.6806 - accuracy: 0.5655 - val_loss: 1.0662 - val_accuracy: 0.3721\n",
            "Epoch 40/100\n",
            "6/6 [==============================] - 0s 11ms/step - loss: 0.6757 - accuracy: 0.5774 - val_loss: 1.0580 - val_accuracy: 0.3721\n",
            "Epoch 41/100\n",
            "6/6 [==============================] - 0s 9ms/step - loss: 0.6707 - accuracy: 0.5774 - val_loss: 1.0507 - val_accuracy: 0.3488\n",
            "Epoch 42/100\n",
            "6/6 [==============================] - 0s 8ms/step - loss: 0.6664 - accuracy: 0.5714 - val_loss: 1.0433 - val_accuracy: 0.3488\n",
            "Epoch 43/100\n",
            "6/6 [==============================] - 0s 9ms/step - loss: 0.6618 - accuracy: 0.5833 - val_loss: 1.0357 - val_accuracy: 0.3488\n",
            "Epoch 44/100\n",
            "6/6 [==============================] - 0s 9ms/step - loss: 0.6573 - accuracy: 0.5833 - val_loss: 1.0290 - val_accuracy: 0.3721\n",
            "Epoch 45/100\n",
            "6/6 [==============================] - 0s 12ms/step - loss: 0.6530 - accuracy: 0.5833 - val_loss: 1.0225 - val_accuracy: 0.3721\n",
            "Epoch 46/100\n",
            "6/6 [==============================] - 0s 14ms/step - loss: 0.6488 - accuracy: 0.5893 - val_loss: 1.0164 - val_accuracy: 0.3721\n",
            "Epoch 47/100\n",
            "6/6 [==============================] - 0s 13ms/step - loss: 0.6444 - accuracy: 0.5893 - val_loss: 1.0108 - val_accuracy: 0.3721\n",
            "Epoch 48/100\n",
            "6/6 [==============================] - 0s 15ms/step - loss: 0.6405 - accuracy: 0.5952 - val_loss: 1.0053 - val_accuracy: 0.3721\n",
            "Epoch 49/100\n",
            "6/6 [==============================] - 0s 17ms/step - loss: 0.6363 - accuracy: 0.6071 - val_loss: 0.9999 - val_accuracy: 0.3721\n",
            "Epoch 50/100\n",
            "6/6 [==============================] - 0s 13ms/step - loss: 0.6323 - accuracy: 0.6190 - val_loss: 0.9946 - val_accuracy: 0.3721\n",
            "Epoch 51/100\n",
            "6/6 [==============================] - 0s 16ms/step - loss: 0.6284 - accuracy: 0.6190 - val_loss: 0.9895 - val_accuracy: 0.3721\n",
            "Epoch 52/100\n",
            "6/6 [==============================] - 0s 16ms/step - loss: 0.6248 - accuracy: 0.6310 - val_loss: 0.9839 - val_accuracy: 0.3953\n",
            "Epoch 53/100\n",
            "6/6 [==============================] - 0s 16ms/step - loss: 0.6210 - accuracy: 0.6310 - val_loss: 0.9792 - val_accuracy: 0.3953\n",
            "Epoch 54/100\n",
            "6/6 [==============================] - 0s 17ms/step - loss: 0.6177 - accuracy: 0.6369 - val_loss: 0.9742 - val_accuracy: 0.3953\n",
            "Epoch 55/100\n",
            "6/6 [==============================] - 0s 11ms/step - loss: 0.6140 - accuracy: 0.6488 - val_loss: 0.9701 - val_accuracy: 0.3953\n",
            "Epoch 56/100\n",
            "6/6 [==============================] - 0s 11ms/step - loss: 0.6109 - accuracy: 0.6488 - val_loss: 0.9662 - val_accuracy: 0.3953\n",
            "Epoch 57/100\n",
            "6/6 [==============================] - 0s 8ms/step - loss: 0.6075 - accuracy: 0.6488 - val_loss: 0.9625 - val_accuracy: 0.3953\n",
            "Epoch 58/100\n",
            "6/6 [==============================] - 0s 8ms/step - loss: 0.6040 - accuracy: 0.6488 - val_loss: 0.9587 - val_accuracy: 0.3953\n",
            "Epoch 59/100\n",
            "6/6 [==============================] - 0s 15ms/step - loss: 0.6008 - accuracy: 0.6488 - val_loss: 0.9547 - val_accuracy: 0.3953\n",
            "Epoch 60/100\n",
            "6/6 [==============================] - 0s 17ms/step - loss: 0.5978 - accuracy: 0.6548 - val_loss: 0.9506 - val_accuracy: 0.3953\n",
            "Epoch 61/100\n",
            "6/6 [==============================] - 0s 16ms/step - loss: 0.5945 - accuracy: 0.6548 - val_loss: 0.9472 - val_accuracy: 0.4186\n",
            "Epoch 62/100\n",
            "6/6 [==============================] - 0s 15ms/step - loss: 0.5909 - accuracy: 0.6548 - val_loss: 0.9444 - val_accuracy: 0.4419\n",
            "Epoch 63/100\n",
            "6/6 [==============================] - 0s 15ms/step - loss: 0.5877 - accuracy: 0.6726 - val_loss: 0.9411 - val_accuracy: 0.4419\n",
            "Epoch 64/100\n",
            "6/6 [==============================] - 0s 12ms/step - loss: 0.5846 - accuracy: 0.6845 - val_loss: 0.9377 - val_accuracy: 0.4419\n",
            "Epoch 65/100\n",
            "6/6 [==============================] - 0s 16ms/step - loss: 0.5813 - accuracy: 0.6905 - val_loss: 0.9345 - val_accuracy: 0.4419\n",
            "Epoch 66/100\n",
            "6/6 [==============================] - 0s 14ms/step - loss: 0.5783 - accuracy: 0.6905 - val_loss: 0.9310 - val_accuracy: 0.4419\n",
            "Epoch 67/100\n",
            "6/6 [==============================] - 0s 17ms/step - loss: 0.5750 - accuracy: 0.6905 - val_loss: 0.9273 - val_accuracy: 0.4419\n",
            "Epoch 68/100\n",
            "6/6 [==============================] - 0s 16ms/step - loss: 0.5717 - accuracy: 0.6964 - val_loss: 0.9240 - val_accuracy: 0.4419\n",
            "Epoch 69/100\n",
            "6/6 [==============================] - 0s 22ms/step - loss: 0.5685 - accuracy: 0.6964 - val_loss: 0.9212 - val_accuracy: 0.4419\n",
            "Epoch 70/100\n",
            "6/6 [==============================] - 0s 24ms/step - loss: 0.5656 - accuracy: 0.7024 - val_loss: 0.9186 - val_accuracy: 0.4419\n",
            "Epoch 71/100\n",
            "6/6 [==============================] - 0s 32ms/step - loss: 0.5621 - accuracy: 0.7024 - val_loss: 0.9166 - val_accuracy: 0.4419\n",
            "Epoch 72/100\n",
            "6/6 [==============================] - 0s 24ms/step - loss: 0.5592 - accuracy: 0.7024 - val_loss: 0.9151 - val_accuracy: 0.4419\n",
            "Epoch 73/100\n",
            "6/6 [==============================] - 0s 14ms/step - loss: 0.5562 - accuracy: 0.7202 - val_loss: 0.9135 - val_accuracy: 0.4419\n",
            "Epoch 74/100\n",
            "6/6 [==============================] - 0s 14ms/step - loss: 0.5532 - accuracy: 0.7202 - val_loss: 0.9120 - val_accuracy: 0.4419\n",
            "Epoch 75/100\n",
            "6/6 [==============================] - 0s 15ms/step - loss: 0.5502 - accuracy: 0.7262 - val_loss: 0.9098 - val_accuracy: 0.4419\n",
            "Epoch 76/100\n",
            "6/6 [==============================] - 0s 15ms/step - loss: 0.5473 - accuracy: 0.7262 - val_loss: 0.9081 - val_accuracy: 0.4419\n",
            "Epoch 77/100\n",
            "6/6 [==============================] - 0s 11ms/step - loss: 0.5442 - accuracy: 0.7381 - val_loss: 0.9067 - val_accuracy: 0.4419\n",
            "Epoch 78/100\n",
            "6/6 [==============================] - 0s 14ms/step - loss: 0.5413 - accuracy: 0.7381 - val_loss: 0.9048 - val_accuracy: 0.4419\n",
            "Epoch 79/100\n",
            "6/6 [==============================] - 0s 13ms/step - loss: 0.5384 - accuracy: 0.7381 - val_loss: 0.9025 - val_accuracy: 0.4651\n",
            "Epoch 80/100\n",
            "6/6 [==============================] - 0s 15ms/step - loss: 0.5355 - accuracy: 0.7381 - val_loss: 0.9010 - val_accuracy: 0.4651\n",
            "Epoch 81/100\n",
            "6/6 [==============================] - 0s 15ms/step - loss: 0.5326 - accuracy: 0.7440 - val_loss: 0.8993 - val_accuracy: 0.4651\n",
            "Epoch 82/100\n",
            "6/6 [==============================] - 0s 15ms/step - loss: 0.5297 - accuracy: 0.7440 - val_loss: 0.8978 - val_accuracy: 0.4651\n",
            "Epoch 83/100\n",
            "6/6 [==============================] - 0s 11ms/step - loss: 0.5267 - accuracy: 0.7440 - val_loss: 0.8958 - val_accuracy: 0.4651\n",
            "Epoch 84/100\n",
            "6/6 [==============================] - 0s 12ms/step - loss: 0.5239 - accuracy: 0.7560 - val_loss: 0.8941 - val_accuracy: 0.4651\n",
            "Epoch 85/100\n",
            "6/6 [==============================] - 0s 15ms/step - loss: 0.5208 - accuracy: 0.7619 - val_loss: 0.8929 - val_accuracy: 0.4651\n",
            "Epoch 86/100\n",
            "6/6 [==============================] - 0s 13ms/step - loss: 0.5176 - accuracy: 0.7619 - val_loss: 0.8923 - val_accuracy: 0.4651\n",
            "Epoch 87/100\n",
            "6/6 [==============================] - 0s 14ms/step - loss: 0.5146 - accuracy: 0.7738 - val_loss: 0.8915 - val_accuracy: 0.4651\n",
            "Epoch 88/100\n",
            "6/6 [==============================] - 0s 14ms/step - loss: 0.5116 - accuracy: 0.7738 - val_loss: 0.8901 - val_accuracy: 0.4651\n",
            "Epoch 89/100\n",
            "6/6 [==============================] - 0s 15ms/step - loss: 0.5086 - accuracy: 0.7738 - val_loss: 0.8882 - val_accuracy: 0.4651\n",
            "Epoch 90/100\n",
            "6/6 [==============================] - 0s 13ms/step - loss: 0.5053 - accuracy: 0.7738 - val_loss: 0.8864 - val_accuracy: 0.4651\n",
            "Epoch 91/100\n",
            "6/6 [==============================] - 0s 13ms/step - loss: 0.5025 - accuracy: 0.7738 - val_loss: 0.8840 - val_accuracy: 0.4651\n",
            "Epoch 92/100\n",
            "6/6 [==============================] - 0s 12ms/step - loss: 0.4993 - accuracy: 0.7679 - val_loss: 0.8819 - val_accuracy: 0.4651\n",
            "Epoch 93/100\n",
            "6/6 [==============================] - 0s 13ms/step - loss: 0.4964 - accuracy: 0.7679 - val_loss: 0.8808 - val_accuracy: 0.4651\n",
            "Epoch 94/100\n",
            "6/6 [==============================] - 0s 15ms/step - loss: 0.4935 - accuracy: 0.7738 - val_loss: 0.8790 - val_accuracy: 0.4419\n",
            "Epoch 95/100\n",
            "6/6 [==============================] - 0s 10ms/step - loss: 0.4906 - accuracy: 0.7857 - val_loss: 0.8772 - val_accuracy: 0.4419\n",
            "Epoch 96/100\n",
            "6/6 [==============================] - 0s 9ms/step - loss: 0.4874 - accuracy: 0.7917 - val_loss: 0.8764 - val_accuracy: 0.4419\n",
            "Epoch 97/100\n",
            "6/6 [==============================] - 0s 9ms/step - loss: 0.4846 - accuracy: 0.7976 - val_loss: 0.8760 - val_accuracy: 0.4419\n",
            "Epoch 98/100\n",
            "6/6 [==============================] - 0s 9ms/step - loss: 0.4817 - accuracy: 0.8036 - val_loss: 0.8761 - val_accuracy: 0.4419\n",
            "Epoch 99/100\n",
            "6/6 [==============================] - 0s 9ms/step - loss: 0.4791 - accuracy: 0.8036 - val_loss: 0.8763 - val_accuracy: 0.4419\n",
            "Epoch 100/100\n",
            "6/6 [==============================] - 0s 12ms/step - loss: 0.4764 - accuracy: 0.8095 - val_loss: 0.8762 - val_accuracy: 0.4419\n"
          ]
        }
      ]
    },
    {
      "cell_type": "code",
      "source": [
        "model.get_weights()"
      ],
      "metadata": {
        "id": "Lny-AOQN-30W",
        "outputId": "e4221b3e-093a-4aed-e21a-dcab7f040742",
        "colab": {
          "base_uri": "https://localhost:8080/"
        }
      },
      "execution_count": 45,
      "outputs": [
        {
          "output_type": "execute_result",
          "data": {
            "text/plain": [
              "[array([[-0.0499905, -0.0499905, -0.0499905, -0.0499905, -0.0499905,\n",
              "         -0.0499905, -0.0499905, -0.0499905, -0.0499905, -0.0499905],\n",
              "        [ 0.9064953,  0.9064953,  0.9064953,  0.9064953,  0.9064953,\n",
              "          0.9064953,  0.9064953,  0.9064953,  0.9064953,  0.9064953]],\n",
              "       dtype=float32),\n",
              " array([0.15312693, 0.15312693, 0.15312693, 0.15312693, 0.15312694,\n",
              "        0.15312694, 0.15312694, 0.15312694, 0.15312694, 0.15312694],\n",
              "       dtype=float32),\n",
              " array([[0.4212084],\n",
              "        [0.4212084],\n",
              "        [0.4212084],\n",
              "        [0.4212084],\n",
              "        [0.4212084],\n",
              "        [0.4212084],\n",
              "        [0.4212084],\n",
              "        [0.4212084],\n",
              "        [0.4212084],\n",
              "        [0.4212084]], dtype=float32),\n",
              " array([0.12908378], dtype=float32)]"
            ]
          },
          "metadata": {},
          "execution_count": 45
        }
      ]
    },
    {
      "cell_type": "code",
      "source": [
        "from mlxtend.plotting import plot_decision_regions\n",
        "plt.figure(figsize=(5,3))\n",
        "plot_decision_regions(X,y.astype('int'), clf=model, legend=2)"
      ],
      "metadata": {
        "id": "IyIxV5ki-4kJ",
        "outputId": "f5dcecf1-a2be-4383-ece3-85ef87bb239f",
        "colab": {
          "base_uri": "https://localhost:8080/",
          "height": 326
        }
      },
      "execution_count": 46,
      "outputs": [
        {
          "output_type": "stream",
          "name": "stdout",
          "text": [
            "4688/4688 [==============================] - 7s 1ms/step\n"
          ]
        },
        {
          "output_type": "execute_result",
          "data": {
            "text/plain": [
              "<Axes: >"
            ]
          },
          "metadata": {},
          "execution_count": 46
        },
        {
          "output_type": "display_data",
          "data": {
            "text/plain": [
              "<Figure size 500x300 with 1 Axes>"
            ],
            "image/png": "[encoded data removed]"
          },
          "metadata": {}
        }
      ]
    },
    {
      "cell_type": "code",
      "source": [],
      "metadata": {
        "id": "NpvkXiDn-5Oo"
      },
      "execution_count": null,
      "outputs": []
    }
  ]
}