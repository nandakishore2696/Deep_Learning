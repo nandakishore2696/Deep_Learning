{
  "nbformat": 4,
  "nbformat_minor": 0,
  "metadata": {
    "colab": {
      "provenance": [],
      "gpuType": "T4",
      "include_colab_link": true
    },
    "kernelspec": {
      "name": "python3",
      "display_name": "Python 3"
    },
    "language_info": {
      "name": "python"
    },
    "accelerator": "GPU"
  },
  "cells": [
    {
      "cell_type": "markdown",
      "metadata": {
        "id": "view-in-github",
        "colab_type": "text"
      },
      "source": [
        "<a href=\"https://colab.research.google.com/github/nandakishore2696/Deep_Learning_CX/blob/main/29_Zero_initialization_relu%2Ctanh.ipynb\" target=\"_parent\"><img src=\"https://colab.research.google.com/assets/colab-badge.svg\" alt=\"Open In Colab\"/></a>"
      ]
    },
    {
      "cell_type": "code",
      "execution_count": 2,
      "metadata": {
        "id": "YC_YCbcl9yA7"
      },
      "outputs": [],
      "source": [
        "import numpy as np\n",
        "import pandas as pd\n",
        "import matplotlib.pyplot as plt\n",
        "from sklearn.datasets import make_classification"
      ]
    },
    {
      "cell_type": "code",
      "source": [
        "import warnings\n",
        "warnings.filterwarnings('ignore')"
      ],
      "metadata": {
        "id": "E0KmIzGJv6oh"
      },
      "execution_count": 3,
      "outputs": []
    },
    {
      "cell_type": "code",
      "source": [
        "X = np.array([[-1.58986e-01,  4.23977e-01],[-3.47926e-01,  4.70760e-01],[-5.04608e-01,  3.53801e-01],[-5.96774e-01,  1.14035e-01],\n",
        "       [-5.18433e-01, -1.72515e-01],[-2.92627e-01, -2.07602e-01],[-1.58986e-01, -4.38596e-02],[-5.76037e-02,  1.43275e-01],[-7.14286e-02,  2.71930e-01],\n",
        "       [-2.97235e-01,  3.47953e-01],[-4.17051e-01,  2.01754e-01],[-4.40092e-01,  8.77193e-03],[-3.24885e-01, -3.21637e-02],[-2.46544e-01,  5.55556e-02],\n",
        "       [-2.18894e-01,  2.01754e-01],[-3.43318e-01,  1.60819e-01],[-5.09217e-01,  7.89474e-02],[-3.84793e-01, -9.06433e-02],[-1.49770e-01,  1.25731e-01],\n",
        "       [-1.95853e-01,  3.24561e-01],[-3.91705e-02, -2.19298e-01],[-1.08295e-01, -3.01170e-01],[-1.86636e-01, -3.30409e-01],[-2.18894e-01, -4.23977e-01],\n",
        "       [-8.06452e-02, -5.64327e-01],[ 6.68203e-02, -5.17544e-01],[ 9.44700e-02, -3.24561e-01],[ 1.86636e-01, -1.66667e-01],[ 6.22120e-02, -7.30994e-02],\n",
        "       [ 2.07373e-02, -1.95906e-01],[ 2.99539e-02, -3.42105e-01],[-9.90783e-02, -3.77193e-01],[-6.91244e-03, -4.64912e-01],[ 1.31336e-01, -4.29825e-01],[ 2.32719e-01, -1.95906e-01],[ 8.52535e-02, -8.47953e-02],[-1.31336e-01, -2.36842e-01],\n",
        "       [ 2.30415e-03, -1.25731e-01],[ 1.22120e-01, -2.92398e-03],[-3.47926e-01, -3.12865e-01],[-2.28111e-01, -1.25731e-01],[-7.60369e-02,  1.46199e-02],[ 4.37788e-02,  2.04678e-02],[ 1.15207e-02,  1.54971e-01],[-4.17051e-01, -1.60819e-01],\n",
        "       [-3.15668e-01, -3.18713e-01],[ 1.26728e-01, -2.19298e-01],[ 2.05069e-01, -3.12865e-01],[ 2.18894e-01, -4.59064e-01],[ 7.14286e-02, -6.46199e-01],[-1.31336e-01, -6.05263e-01],[-2.09677e-01, -5.81871e-01],[-2.28111e-01, -4.29825e-01],\n",
        "       [-1.45161e-01, -4.12281e-01],[-6.68203e-02, -4.82456e-01],[ 1.35945e-01, -5.11696e-01],[ 2.69585e-01, -4.06433e-01],[ 2.97235e-01, -2.95322e-01],[ 2.74194e-01, -1.72515e-01],[ 2.55760e-01, -4.97076e-02],[ 2.23502e-01, -4.97076e-02],\n",
        "       [ 1.82028e-01, -8.47953e-02],[ 1.58986e-01, -1.54971e-01],[ 7.14286e-02, -2.13450e-01],[ 1.61290e-02, -2.66082e-01],[-2.53456e-02, -3.83041e-01],[-1.15207e-02, -4.82456e-01],[-2.30415e-03, -5.05848e-01],[ 2.53456e-02, -5.11696e-01],\n",
        "       [ 2.53456e-02, -5.58480e-01],[ 1.15207e-02, -6.57895e-01],[-4.83871e-02, -6.46199e-01],[-8.52535e-02, -5.52632e-01],[-9.90783e-02, -5.00000e-01],[-1.61290e-02, -4.23977e-01],[ 1.31336e-01, -3.59649e-01],[ 2.23502e-01, -3.71345e-01],\n",
        "       [ 2.92627e-01, -3.01170e-01],[ 2.60369e-01, -2.07602e-01],[ 2.00461e-01, -2.25146e-01],[ 1.72811e-01, -2.71930e-01],[-1.31336e-01,  9.06433e-02],[-1.49770e-01,  7.30994e-02],[-2.41935e-01,  6.14035e-02],[-3.01843e-01,  1.78363e-01],\n",
        "       [-2.97235e-01,  1.95906e-01],[-2.74194e-01,  3.07018e-01],[-3.24885e-01,  2.95322e-01],[-3.98618e-01,  2.66082e-01],[-4.35484e-01,  1.60819e-01],[-4.72350e-01,  7.89474e-02],[-3.38710e-01,  4.38596e-02],[-2.69585e-01,  4.38596e-02],\n",
        "       [-2.55760e-01,  1.02339e-01],[-1.68203e-01,  2.66082e-01],[-1.12903e-01,  3.01170e-01],[-3.91705e-02,  3.47953e-01],[-1.26728e-01,  4.41520e-01],[-2.32719e-01,  4.41520e-01],[-3.38710e-01,  4.18129e-01],[-4.12442e-01,  3.53801e-01],\n",
        "       [-5.09217e-01,  2.19298e-01],[-5.41475e-01,  1.46199e-02],[-5.04608e-01, -1.25731e-01],[-4.90783e-01, -1.43275e-01],[-3.61751e-01, -1.37427e-01],[-2.69585e-01, -8.47953e-02],[-2.23502e-01, -7.89474e-02],[-1.86636e-01, -3.80117e-02],\n",
        "       [-1.54378e-01, -8.77193e-03],[-1.12903e-01,  5.55556e-02],[-8.52535e-02,  1.37427e-01],[-8.52535e-02,  2.77778e-01],[-1.68203e-01,  3.01170e-01],[-1.91244e-01,  1.95906e-01],[-1.40553e-01, -4.97076e-02],[-2.99539e-02,  6.72515e-02],\n",
        "       [-2.00461e-01, -2.30994e-01],[-1.08295e-01, -8.47953e-02],[ 3.45622e-02,  6.72515e-02],[ 8.06452e-02,  1.19883e-01],[-3.85369e-01,  3.30409e-02],[-3.81221e-01,  1.31287e-01],[-3.52189e-01,  2.58187e-01],\n",
        "       [-3.54263e-01,  3.64620e-01],[-4.14401e-01, -6.92982e-02],[-4.99424e-01, -3.24561e-02],[-2.98272e-01, -9.79532e-02],[-3.16935e-01, -1.83918e-01],[-3.68779e-01, -2.90351e-01],[-3.56336e-01, -3.96784e-01],[-2.71313e-01,  4.38596e-03],\n",
        "       [-1.77995e-01,  8.62573e-02],[-2.46429e-01,  1.43567e-01],[-2.50576e-01,  2.29532e-01],[-2.21544e-01,  3.76901e-01],[-2.15323e-01,  2.95029e-01],[-1.30300e-01,  2.17251e-01],[-2.07028e-01,  2.89474e-02],[-9.71198e-02,  2.13158e-01],\n",
        "       [-3.90553e-02,  2.58187e-01],[ 1.90092e-02,  4.01462e-01],[-3.69816e-02,  4.21930e-01],[-6.39401e-02,  3.31871e-01],[-1.30300e-01,  3.76901e-01],[-3.75000e-01, -4.37719e-01],[-3.95737e-01, -3.51754e-01],[-3.54263e-01, -2.08480e-01],[-4.37212e-01, -3.76316e-01],[-4.80760e-01, -5.03216e-01], [-4.10253e-01, -4.66374e-01],\n",
        "       [-2.48502e-01, -2.57602e-01],[-2.27765e-01, -3.14912e-01],[-2.83756e-01, -3.84503e-01],[-2.92051e-01, -4.54094e-01],[-3.37673e-01, -5.19591e-01],[-2.77535e-01, -5.48246e-01],[-2.07028e-01, -5.35965e-01],[-1.86290e-01, -4.78655e-01],\n",
        "       [-1.32373e-01, -5.07310e-01],[-1.77995e-01, -2.98538e-01],[-1.65553e-01, -1.75731e-01],[-1.61406e-01, -1.26608e-01],[ 3.45622e-04,  2.58187e-01],\n",
        "       [ 7.91475e-02,  3.56433e-01],[-2.66129e-02,  1.80409e-01],[-5.35714e-02,  7.80702e-02],[-1.41705e-02, -5.29240e-02],[-7.01613e-02, -1.63450e-01],\n",
        "       [-6.39401e-02, -2.94444e-01],[-3.07604e-02, -4.66374e-01],[-5.77189e-02, -5.27778e-01],[-5.35714e-02, -3.96784e-01],[ 5.21889e-02, -4.17251e-01],[-1.62442e-02, -1.67544e-01],[-6.39401e-02, -8.56725e-02],[-6.18664e-02, -1.60819e-02],\n",
        "       [-3.80184e-03,  4.38596e-03],[ 4.18203e-02,  2.04971e-01],[ 7.91475e-02,  1.92690e-01],[ 4.59677e-02,  2.54094e-01],[ 1.18548e-01,  1.92690e-01],\n",
        "       [ 1.10253e-01,  8.62573e-02],[ 1.08180e-01, -6.92982e-02],[ 1.66244e-01, -2.42690e-02],[ 1.41359e-01,  6.57895e-02],[ 1.43433e-01,  1.68129e-01],[ 1.70392e-01,  1.92690e-01],[ 1.08180e-01,  2.99123e-01],[ 1.18548e-01,  3.19591e-01],\n",
        "       [ 1.26843e-01,  3.93275e-01],[-8.67512e-02,  4.21930e-01],[-4.73502e-02,  5.07895e-01],[ 2.52304e-02,  5.20175e-01],[ 6.25576e-02,  5.52924e-01],[-5.87558e-03,  4.42398e-01],[-5.14977e-02,  5.73392e-01],[-8.05300e-02,  5.07895e-01],\n",
        "       [-1.53111e-01,  5.52924e-01],[-1.11636e-01,  5.48830e-01],[-1.63479e-01,  4.91520e-01],[-2.52650e-01, -1.88012e-01],[-2.46429e-01, -3.65497e-02],\n",
        "       [-3.21083e-01, -4.33626e-01],[-3.31452e-01, -6.05556e-01],[-3.85369e-01, -5.15497e-01],[-3.99885e-01, -6.21930e-01],[-1.24078e-01, -1.26608e-01],[-3.16935e-01, -2.28947e-01],[-2.94124e-01, -1.34795e-01],[-1.53111e-01,  1.84503e-01]])"
      ],
      "metadata": {
        "id": "8S6W6FrSw0al"
      },
      "execution_count": 21,
      "outputs": []
    },
    {
      "cell_type": "code",
      "source": [
        "df = pd.DataFrame(X,columns=['X','Y'])"
      ],
      "metadata": {
        "id": "JcgKowGd96Li"
      },
      "execution_count": 22,
      "outputs": []
    },
    {
      "cell_type": "code",
      "source": [
        "df['class'] = np.array([1., 1., 1., 1., 1., 1., 1., 1., 1., 1., 1., 1., 1., 1., 1., 1., 1.,\n",
        "       1., 1., 1., 0., 0., 0., 0., 0., 0., 0., 0., 0., 0., 0., 0., 0., 0.,\n",
        "       0., 0., 1., 1., 1., 0., 0., 0., 0., 0., 0., 0., 0., 0., 0., 0., 0.,\n",
        "       0., 0., 0., 0., 0., 0., 0., 0., 0., 0., 0., 0., 0., 0., 0., 0., 0.,\n",
        "       0., 0., 0., 0., 0., 0., 0., 0., 0., 0., 0., 0., 0., 1., 1., 1., 1.,\n",
        "       1., 1., 1., 1., 1., 1., 1., 1., 1., 1., 1., 1., 1., 1., 1., 1., 1.,\n",
        "       1., 1., 1., 1., 1., 1., 1., 1., 1., 1., 1., 1., 1., 1., 1., 0., 0.,\n",
        "       0., 0., 1., 1., 1., 1., 1., 1., 1., 1., 1., 1., 1., 1., 1., 1., 1.,\n",
        "       1., 1., 1., 1., 1., 1., 1., 1., 1., 1., 1., 1., 1., 1., 1., 0., 0.,\n",
        "       0., 0., 0., 0., 0., 0., 0., 0., 0., 0., 0., 0., 0., 0., 0., 0., 0.,\n",
        "       0., 0., 0., 0., 0., 0., 0., 0., 0., 0., 0., 0., 0., 0., 0., 0., 0.,\n",
        "       0., 0., 0., 0., 1., 1., 1., 1., 1., 1., 1., 1., 1., 1., 1., 1., 1.,\n",
        "       0., 1., 1., 1., 1., 0., 0.])"
      ],
      "metadata": {
        "id": "Bvt1qmyuxjbR"
      },
      "execution_count": 23,
      "outputs": []
    },
    {
      "cell_type": "code",
      "source": [
        "df.head()"
      ],
      "metadata": {
        "colab": {
          "base_uri": "https://localhost:8080/",
          "height": 206
        },
        "id": "yW4S04qq9788",
        "outputId": "58998bd7-19db-4275-cd94-c913d49b5d43"
      },
      "execution_count": 24,
      "outputs": [
        {
          "output_type": "execute_result",
          "data": {
            "text/plain": [
              "          X         Y  class\n",
              "0 -0.158986  0.423977    1.0\n",
              "1 -0.347926  0.470760    1.0\n",
              "2 -0.504608  0.353801    1.0\n",
              "3 -0.596774  0.114035    1.0\n",
              "4 -0.518433 -0.172515    1.0"
            ],
            "text/html": [
              "\n",
              "  <div id=\"df-f7377a38-2e86-4193-b883-493fae7488f4\" class=\"colab-df-container\">\n",
              "    <div>\n",
              "<style scoped>\n",
              "    .dataframe tbody tr th:only-of-type {\n",
              "        vertical-align: middle;\n",
              "    }\n",
              "\n",
              "    .dataframe tbody tr th {\n",
              "        vertical-align: top;\n",
              "    }\n",
              "\n",
              "    .dataframe thead th {\n",
              "        text-align: right;\n",
              "    }\n",
              "</style>\n",
              "<table border=\"1\" class=\"dataframe\">\n",
              "  <thead>\n",
              "    <tr style=\"text-align: right;\">\n",
              "      <th></th>\n",
              "      <th>X</th>\n",
              "      <th>Y</th>\n",
              "      <th>class</th>\n",
              "    </tr>\n",
              "  </thead>\n",
              "  <tbody>\n",
              "    <tr>\n",
              "      <th>0</th>\n",
              "      <td>-0.158986</td>\n",
              "      <td>0.423977</td>\n",
              "      <td>1.0</td>\n",
              "    </tr>\n",
              "    <tr>\n",
              "      <th>1</th>\n",
              "      <td>-0.347926</td>\n",
              "      <td>0.470760</td>\n",
              "      <td>1.0</td>\n",
              "    </tr>\n",
              "    <tr>\n",
              "      <th>2</th>\n",
              "      <td>-0.504608</td>\n",
              "      <td>0.353801</td>\n",
              "      <td>1.0</td>\n",
              "    </tr>\n",
              "    <tr>\n",
              "      <th>3</th>\n",
              "      <td>-0.596774</td>\n",
              "      <td>0.114035</td>\n",
              "      <td>1.0</td>\n",
              "    </tr>\n",
              "    <tr>\n",
              "      <th>4</th>\n",
              "      <td>-0.518433</td>\n",
              "      <td>-0.172515</td>\n",
              "      <td>1.0</td>\n",
              "    </tr>\n",
              "  </tbody>\n",
              "</table>\n",
              "</div>\n",
              "    <div class=\"colab-df-buttons\">\n",
              "\n",
              "  <div class=\"colab-df-container\">\n",
              "    <button class=\"colab-df-convert\" onclick=\"convertToInteractive('df-f7377a38-2e86-4193-b883-493fae7488f4')\"\n",
              "            title=\"Convert this dataframe to an interactive table.\"\n",
              "            style=\"display:none;\">\n",
              "\n",
              "  <svg xmlns=\"http://www.w3.org/2000/svg\" height=\"24px\" viewBox=\"0 -960 960 960\">\n",
              "    <path d=\"M120-120v-720h720v720H120Zm60-500h600v-160H180v160Zm220 220h160v-160H400v160Zm0 220h160v-160H400v160ZM180-400h160v-160H180v160Zm440 0h160v-160H620v160ZM180-180h160v-160H180v160Zm440 0h160v-160H620v160Z\"/>\n",
              "  </svg>\n",
              "    </button>\n",
              "\n",
              "  <style>\n",
              "    .colab-df-container {\n",
              "      display:flex;\n",
              "      gap: 12px;\n",
              "    }\n",
              "\n",
              "    .colab-df-convert {\n",
              "      background-color: #E8F0FE;\n",
              "      border: none;\n",
              "      border-radius: 50%;\n",
              "      cursor: pointer;\n",
              "      display: none;\n",
              "      fill: #1967D2;\n",
              "      height: 32px;\n",
              "      padding: 0 0 0 0;\n",
              "      width: 32px;\n",
              "    }\n",
              "\n",
              "    .colab-df-convert:hover {\n",
              "      background-color: #E2EBFA;\n",
              "      box-shadow: 0px 1px 2px rgba(60, 64, 67, 0.3), 0px 1px 3px 1px rgba(60, 64, 67, 0.15);\n",
              "      fill: #174EA6;\n",
              "    }\n",
              "\n",
              "    .colab-df-buttons div {\n",
              "      margin-bottom: 4px;\n",
              "    }\n",
              "\n",
              "    [theme=dark] .colab-df-convert {\n",
              "      background-color: #3B4455;\n",
              "      fill: #D2E3FC;\n",
              "    }\n",
              "\n",
              "    [theme=dark] .colab-df-convert:hover {\n",
              "      background-color: #434B5C;\n",
              "      box-shadow: 0px 1px 3px 1px rgba(0, 0, 0, 0.15);\n",
              "      filter: drop-shadow(0px 1px 2px rgba(0, 0, 0, 0.3));\n",
              "      fill: #FFFFFF;\n",
              "    }\n",
              "  </style>\n",
              "\n",
              "    <script>\n",
              "      const buttonEl =\n",
              "        document.querySelector('#df-f7377a38-2e86-4193-b883-493fae7488f4 button.colab-df-convert');\n",
              "      buttonEl.style.display =\n",
              "        google.colab.kernel.accessAllowed ? 'block' : 'none';\n",
              "\n",
              "      async function convertToInteractive(key) {\n",
              "        const element = document.querySelector('#df-f7377a38-2e86-4193-b883-493fae7488f4');\n",
              "        const dataTable =\n",
              "          await google.colab.kernel.invokeFunction('convertToInteractive',\n",
              "                                                    [key], {});\n",
              "        if (!dataTable) return;\n",
              "\n",
              "        const docLinkHtml = 'Like what you see? Visit the ' +\n",
              "          '<a target=\"_blank\" href=https://colab.research.google.com/notebooks/data_table.ipynb>data table notebook</a>'\n",
              "          + ' to learn more about interactive tables.';\n",
              "        element.innerHTML = '';\n",
              "        dataTable['output_type'] = 'display_data';\n",
              "        await google.colab.output.renderOutput(dataTable, element);\n",
              "        const docLink = document.createElement('div');\n",
              "        docLink.innerHTML = docLinkHtml;\n",
              "        element.appendChild(docLink);\n",
              "      }\n",
              "    </script>\n",
              "  </div>\n",
              "\n",
              "\n",
              "<div id=\"df-c3b1ab65-c94b-4b8a-a8af-1037569771ba\">\n",
              "  <button class=\"colab-df-quickchart\" onclick=\"quickchart('df-c3b1ab65-c94b-4b8a-a8af-1037569771ba')\"\n",
              "            title=\"Suggest charts\"\n",
              "            style=\"display:none;\">\n",
              "\n",
              "<svg xmlns=\"http://www.w3.org/2000/svg\" height=\"24px\"viewBox=\"0 0 24 24\"\n",
              "     width=\"24px\">\n",
              "    <g>\n",
              "        <path d=\"M19 3H5c-1.1 0-2 .9-2 2v14c0 1.1.9 2 2 2h14c1.1 0 2-.9 2-2V5c0-1.1-.9-2-2-2zM9 17H7v-7h2v7zm4 0h-2V7h2v10zm4 0h-2v-4h2v4z\"/>\n",
              "    </g>\n",
              "</svg>\n",
              "  </button>\n",
              "\n",
              "<style>\n",
              "  .colab-df-quickchart {\n",
              "      --bg-color: #E8F0FE;\n",
              "      --fill-color: #1967D2;\n",
              "      --hover-bg-color: #E2EBFA;\n",
              "      --hover-fill-color: #174EA6;\n",
              "      --disabled-fill-color: #AAA;\n",
              "      --disabled-bg-color: #DDD;\n",
              "  }\n",
              "\n",
              "  [theme=dark] .colab-df-quickchart {\n",
              "      --bg-color: #3B4455;\n",
              "      --fill-color: #D2E3FC;\n",
              "      --hover-bg-color: #434B5C;\n",
              "      --hover-fill-color: #FFFFFF;\n",
              "      --disabled-bg-color: #3B4455;\n",
              "      --disabled-fill-color: #666;\n",
              "  }\n",
              "\n",
              "  .colab-df-quickchart {\n",
              "    background-color: var(--bg-color);\n",
              "    border: none;\n",
              "    border-radius: 50%;\n",
              "    cursor: pointer;\n",
              "    display: none;\n",
              "    fill: var(--fill-color);\n",
              "    height: 32px;\n",
              "    padding: 0;\n",
              "    width: 32px;\n",
              "  }\n",
              "\n",
              "  .colab-df-quickchart:hover {\n",
              "    background-color: var(--hover-bg-color);\n",
              "    box-shadow: 0 1px 2px rgba(60, 64, 67, 0.3), 0 1px 3px 1px rgba(60, 64, 67, 0.15);\n",
              "    fill: var(--button-hover-fill-color);\n",
              "  }\n",
              "\n",
              "  .colab-df-quickchart-complete:disabled,\n",
              "  .colab-df-quickchart-complete:disabled:hover {\n",
              "    background-color: var(--disabled-bg-color);\n",
              "    fill: var(--disabled-fill-color);\n",
              "    box-shadow: none;\n",
              "  }\n",
              "\n",
              "  .colab-df-spinner {\n",
              "    border: 2px solid var(--fill-color);\n",
              "    border-color: transparent;\n",
              "    border-bottom-color: var(--fill-color);\n",
              "    animation:\n",
              "      spin 1s steps(1) infinite;\n",
              "  }\n",
              "\n",
              "  @keyframes spin {\n",
              "    0% {\n",
              "      border-color: transparent;\n",
              "      border-bottom-color: var(--fill-color);\n",
              "      border-left-color: var(--fill-color);\n",
              "    }\n",
              "    20% {\n",
              "      border-color: transparent;\n",
              "      border-left-color: var(--fill-color);\n",
              "      border-top-color: var(--fill-color);\n",
              "    }\n",
              "    30% {\n",
              "      border-color: transparent;\n",
              "      border-left-color: var(--fill-color);\n",
              "      border-top-color: var(--fill-color);\n",
              "      border-right-color: var(--fill-color);\n",
              "    }\n",
              "    40% {\n",
              "      border-color: transparent;\n",
              "      border-right-color: var(--fill-color);\n",
              "      border-top-color: var(--fill-color);\n",
              "    }\n",
              "    60% {\n",
              "      border-color: transparent;\n",
              "      border-right-color: var(--fill-color);\n",
              "    }\n",
              "    80% {\n",
              "      border-color: transparent;\n",
              "      border-right-color: var(--fill-color);\n",
              "      border-bottom-color: var(--fill-color);\n",
              "    }\n",
              "    90% {\n",
              "      border-color: transparent;\n",
              "      border-bottom-color: var(--fill-color);\n",
              "    }\n",
              "  }\n",
              "</style>\n",
              "\n",
              "  <script>\n",
              "    async function quickchart(key) {\n",
              "      const quickchartButtonEl =\n",
              "        document.querySelector('#' + key + ' button');\n",
              "      quickchartButtonEl.disabled = true;  // To prevent multiple clicks.\n",
              "      quickchartButtonEl.classList.add('colab-df-spinner');\n",
              "      try {\n",
              "        const charts = await google.colab.kernel.invokeFunction(\n",
              "            'suggestCharts', [key], {});\n",
              "      } catch (error) {\n",
              "        console.error('Error during call to suggestCharts:', error);\n",
              "      }\n",
              "      quickchartButtonEl.classList.remove('colab-df-spinner');\n",
              "      quickchartButtonEl.classList.add('colab-df-quickchart-complete');\n",
              "    }\n",
              "    (() => {\n",
              "      let quickchartButtonEl =\n",
              "        document.querySelector('#df-c3b1ab65-c94b-4b8a-a8af-1037569771ba button');\n",
              "      quickchartButtonEl.style.display =\n",
              "        google.colab.kernel.accessAllowed ? 'block' : 'none';\n",
              "    })();\n",
              "  </script>\n",
              "</div>\n",
              "\n",
              "    </div>\n",
              "  </div>\n"
            ],
            "application/vnd.google.colaboratory.intrinsic+json": {
              "type": "dataframe",
              "variable_name": "df",
              "summary": "{\n  \"name\": \"df\",\n  \"rows\": 211,\n  \"fields\": [\n    {\n      \"column\": \"X\",\n      \"properties\": {\n        \"dtype\": \"number\",\n        \"std\": 0.20051645342090915,\n        \"min\": -0.596774,\n        \"max\": 0.297235,\n        \"num_unique_values\": 170,\n        \"samples\": [\n          -0.0577189,\n          -0.00691244,\n          -0.437212\n        ],\n        \"semantic_type\": \"\",\n        \"description\": \"\"\n      }\n    },\n    {\n      \"column\": \"Y\",\n      \"properties\": {\n        \"dtype\": \"number\",\n        \"std\": 0.3147505344932547,\n        \"min\": -0.657895,\n        \"max\": 0.573392,\n        \"num_unique_values\": 166,\n        \"samples\": [\n          0.00438596,\n          -0.527778,\n          0.418129\n        ],\n        \"semantic_type\": \"\",\n        \"description\": \"\"\n      }\n    },\n    {\n      \"column\": \"class\",\n      \"properties\": {\n        \"dtype\": \"number\",\n        \"std\": 0.5011834336081179,\n        \"min\": 0.0,\n        \"max\": 1.0,\n        \"num_unique_values\": 2,\n        \"samples\": [\n          0.0,\n          1.0\n        ],\n        \"semantic_type\": \"\",\n        \"description\": \"\"\n      }\n    }\n  ]\n}"
            }
          },
          "metadata": {},
          "execution_count": 24
        }
      ]
    },
    {
      "cell_type": "code",
      "source": [
        "plt.figure(figsize=(5,3))\n",
        "plt.scatter(df['X'],df['Y'],c=df['class'])"
      ],
      "metadata": {
        "colab": {
          "base_uri": "https://localhost:8080/",
          "height": 308
        },
        "id": "KVbkKlS-99gs",
        "outputId": "5c1f5205-e23d-4063-df04-43fb9fac7126"
      },
      "execution_count": 25,
      "outputs": [
        {
          "output_type": "execute_result",
          "data": {
            "text/plain": [
              "<matplotlib.collections.PathCollection at 0x7fa1288b9510>"
            ]
          },
          "metadata": {},
          "execution_count": 25
        },
        {
          "output_type": "display_data",
          "data": {
            "text/plain": [
              "<Figure size 500x300 with 1 Axes>"
            ],
            "image/png": "[encoded data removed]"
          },
          "metadata": {}
        }
      ]
    },
    {
      "cell_type": "code",
      "source": [
        "X = df.iloc[:,0:2].values\n",
        "y = df.iloc[:,-1].values"
      ],
      "metadata": {
        "id": "BPpZ6mRf9_qA"
      },
      "execution_count": 26,
      "outputs": []
    },
    {
      "cell_type": "code",
      "source": [
        "import tensorflow\n",
        "from tensorflow import keras\n",
        "from keras import Sequential\n",
        "from keras.layers import Dense"
      ],
      "metadata": {
        "id": "E13lMXmx-CDz"
      },
      "execution_count": 27,
      "outputs": []
    },
    {
      "cell_type": "markdown",
      "source": [
        "# ReLu"
      ],
      "metadata": {
        "id": "owocBRN43sIi"
      }
    },
    {
      "cell_type": "code",
      "source": [
        "model = Sequential()\n",
        "\n",
        "model.add(Dense(2,activation='relu',input_dim=2))\n",
        "model.add(Dense(1,activation='sigmoid'))\n",
        "\n",
        "model.summary()"
      ],
      "metadata": {
        "colab": {
          "base_uri": "https://localhost:8080/"
        },
        "id": "P_nzBqUm-Dns",
        "outputId": "2a713ae1-100b-4ae1-8ce8-1502846ffd4e"
      },
      "execution_count": 41,
      "outputs": [
        {
          "output_type": "stream",
          "name": "stdout",
          "text": [
            "Model: \"sequential_1\"\n",
            "_________________________________________________________________\n",
            " Layer (type)                Output Shape              Param #   \n",
            "=================================================================\n",
            " dense_2 (Dense)             (None, 2)                 6         \n",
            "                                                                 \n",
            " dense_3 (Dense)             (None, 1)                 3         \n",
            "                                                                 \n",
            "=================================================================\n",
            "Total params: 9 (36.00 Byte)\n",
            "Trainable params: 9 (36.00 Byte)\n",
            "Non-trainable params: 0 (0.00 Byte)\n",
            "_________________________________________________________________\n"
          ]
        }
      ]
    },
    {
      "cell_type": "code",
      "source": [
        "# Set parameters to 0\n",
        "model.get_weights()"
      ],
      "metadata": {
        "colab": {
          "base_uri": "https://localhost:8080/"
        },
        "id": "wXs48yrJ-GXs",
        "outputId": "ea440210-b524-4b38-f11c-ec318e13391d"
      },
      "execution_count": 42,
      "outputs": [
        {
          "output_type": "execute_result",
          "data": {
            "text/plain": [
              "[array([[0.02585411, 0.2326963 ],\n",
              "        [0.1486547 , 0.4164678 ]], dtype=float32),\n",
              " array([0., 0.], dtype=float32),\n",
              " array([[-0.96019995],\n",
              "        [ 1.2864782 ]], dtype=float32),\n",
              " array([0.], dtype=float32)]"
            ]
          },
          "metadata": {},
          "execution_count": 42
        }
      ]
    },
    {
      "cell_type": "code",
      "source": [
        "initial_weights = model.get_weights()"
      ],
      "metadata": {
        "id": "yXrsB0yU-IYQ"
      },
      "execution_count": 43,
      "outputs": []
    },
    {
      "cell_type": "code",
      "source": [
        "model.get_weights()[0]"
      ],
      "metadata": {
        "id": "QND1-aTB2hlG",
        "outputId": "d856ea9c-7956-4a8d-cdfa-7764dffddd59",
        "colab": {
          "base_uri": "https://localhost:8080/"
        }
      },
      "execution_count": 44,
      "outputs": [
        {
          "output_type": "execute_result",
          "data": {
            "text/plain": [
              "array([[0.02585411, 0.2326963 ],\n",
              "       [0.1486547 , 0.4164678 ]], dtype=float32)"
            ]
          },
          "metadata": {},
          "execution_count": 44
        }
      ]
    },
    {
      "cell_type": "code",
      "source": [
        "model.get_weights()[0].shape"
      ],
      "metadata": {
        "id": "s-zwk0pk2dgY",
        "outputId": "3a9bace1-3592-4c2d-b78b-49b2aadc2234",
        "colab": {
          "base_uri": "https://localhost:8080/"
        }
      },
      "execution_count": 45,
      "outputs": [
        {
          "output_type": "execute_result",
          "data": {
            "text/plain": [
              "(2, 2)"
            ]
          },
          "metadata": {},
          "execution_count": 45
        }
      ]
    },
    {
      "cell_type": "code",
      "source": [
        "initial_weights[0] = np.zeros(model.get_weights()[0].shape)\n",
        "initial_weights[1] = np.zeros(model.get_weights()[1].shape)\n",
        "initial_weights[2] = np.zeros(model.get_weights()[2].shape)\n",
        "initial_weights[3] = np.zeros(model.get_weights()[3].shape)"
      ],
      "metadata": {
        "id": "pb-4D-yS-Liy"
      },
      "execution_count": 46,
      "outputs": []
    },
    {
      "cell_type": "code",
      "source": [
        "model.set_weights(initial_weights)"
      ],
      "metadata": {
        "id": "KwJ0w-tV-M-_"
      },
      "execution_count": 47,
      "outputs": []
    },
    {
      "cell_type": "code",
      "source": [
        "model.get_weights()"
      ],
      "metadata": {
        "colab": {
          "base_uri": "https://localhost:8080/"
        },
        "id": "IAE0Z2tQ-OiD",
        "outputId": "4eacd429-d429-4aea-c963-afe33e352871"
      },
      "execution_count": 48,
      "outputs": [
        {
          "output_type": "execute_result",
          "data": {
            "text/plain": [
              "[array([[0., 0.],\n",
              "        [0., 0.]], dtype=float32),\n",
              " array([0., 0.], dtype=float32),\n",
              " array([[0.],\n",
              "        [0.]], dtype=float32),\n",
              " array([0.], dtype=float32)]"
            ]
          },
          "metadata": {},
          "execution_count": 48
        }
      ]
    },
    {
      "cell_type": "code",
      "source": [
        "model.compile(loss='binary_crossentropy',optimizer='adam',metrics=['accuracy'])"
      ],
      "metadata": {
        "id": "3KK0NrQv-QEb"
      },
      "execution_count": 49,
      "outputs": []
    },
    {
      "cell_type": "code",
      "source": [
        "history = model.fit(X,y,epochs=100,validation_split=0.2)"
      ],
      "metadata": {
        "colab": {
          "base_uri": "https://localhost:8080/"
        },
        "id": "afeyldW8-SBH",
        "outputId": "810b6ee8-6c09-4ef1-e993-b70efe1f32db"
      },
      "execution_count": 50,
      "outputs": [
        {
          "output_type": "stream",
          "name": "stdout",
          "text": [
            "Epoch 1/100\n",
            "6/6 [==============================] - 1s 38ms/step - loss: 0.6932 - accuracy: 0.4226 - val_loss: 0.6932 - val_accuracy: 0.3953\n",
            "Epoch 2/100\n",
            "6/6 [==============================] - 0s 11ms/step - loss: 0.6931 - accuracy: 0.5298 - val_loss: 0.6935 - val_accuracy: 0.3953\n",
            "Epoch 3/100\n",
            "6/6 [==============================] - 0s 12ms/step - loss: 0.6930 - accuracy: 0.5298 - val_loss: 0.6937 - val_accuracy: 0.3953\n",
            "Epoch 4/100\n",
            "6/6 [==============================] - 0s 8ms/step - loss: 0.6930 - accuracy: 0.5298 - val_loss: 0.6937 - val_accuracy: 0.3953\n",
            "Epoch 5/100\n",
            "6/6 [==============================] - 0s 11ms/step - loss: 0.6930 - accuracy: 0.5298 - val_loss: 0.6938 - val_accuracy: 0.3953\n",
            "Epoch 6/100\n",
            "6/6 [==============================] - 0s 12ms/step - loss: 0.6930 - accuracy: 0.5298 - val_loss: 0.6940 - val_accuracy: 0.3953\n",
            "Epoch 7/100\n",
            "6/6 [==============================] - 0s 8ms/step - loss: 0.6929 - accuracy: 0.5298 - val_loss: 0.6940 - val_accuracy: 0.3953\n",
            "Epoch 8/100\n",
            "6/6 [==============================] - 0s 11ms/step - loss: 0.6929 - accuracy: 0.5298 - val_loss: 0.6941 - val_accuracy: 0.3953\n",
            "Epoch 9/100\n",
            "6/6 [==============================] - 0s 11ms/step - loss: 0.6929 - accuracy: 0.5298 - val_loss: 0.6942 - val_accuracy: 0.3953\n",
            "Epoch 10/100\n",
            "6/6 [==============================] - 0s 11ms/step - loss: 0.6928 - accuracy: 0.5298 - val_loss: 0.6943 - val_accuracy: 0.3953\n",
            "Epoch 11/100\n",
            "6/6 [==============================] - 0s 8ms/step - loss: 0.6928 - accuracy: 0.5298 - val_loss: 0.6945 - val_accuracy: 0.3953\n",
            "Epoch 12/100\n",
            "6/6 [==============================] - 0s 8ms/step - loss: 0.6928 - accuracy: 0.5298 - val_loss: 0.6946 - val_accuracy: 0.3953\n",
            "Epoch 13/100\n",
            "6/6 [==============================] - 0s 11ms/step - loss: 0.6928 - accuracy: 0.5298 - val_loss: 0.6947 - val_accuracy: 0.3953\n",
            "Epoch 14/100\n",
            "6/6 [==============================] - 0s 10ms/step - loss: 0.6927 - accuracy: 0.5298 - val_loss: 0.6947 - val_accuracy: 0.3953\n",
            "Epoch 15/100\n",
            "6/6 [==============================] - 0s 8ms/step - loss: 0.6927 - accuracy: 0.5298 - val_loss: 0.6948 - val_accuracy: 0.3953\n",
            "Epoch 16/100\n",
            "6/6 [==============================] - 0s 9ms/step - loss: 0.6927 - accuracy: 0.5298 - val_loss: 0.6948 - val_accuracy: 0.3953\n",
            "Epoch 17/100\n",
            "6/6 [==============================] - 0s 9ms/step - loss: 0.6927 - accuracy: 0.5298 - val_loss: 0.6949 - val_accuracy: 0.3953\n",
            "Epoch 18/100\n",
            "6/6 [==============================] - 0s 11ms/step - loss: 0.6927 - accuracy: 0.5298 - val_loss: 0.6948 - val_accuracy: 0.3953\n",
            "Epoch 19/100\n",
            "6/6 [==============================] - 0s 9ms/step - loss: 0.6927 - accuracy: 0.5298 - val_loss: 0.6949 - val_accuracy: 0.3953\n",
            "Epoch 20/100\n",
            "6/6 [==============================] - 0s 12ms/step - loss: 0.6927 - accuracy: 0.5298 - val_loss: 0.6950 - val_accuracy: 0.3953\n",
            "Epoch 21/100\n",
            "6/6 [==============================] - 0s 9ms/step - loss: 0.6926 - accuracy: 0.5298 - val_loss: 0.6952 - val_accuracy: 0.3953\n",
            "Epoch 22/100\n",
            "6/6 [==============================] - 0s 9ms/step - loss: 0.6926 - accuracy: 0.5298 - val_loss: 0.6954 - val_accuracy: 0.3953\n",
            "Epoch 23/100\n",
            "6/6 [==============================] - 0s 9ms/step - loss: 0.6926 - accuracy: 0.5298 - val_loss: 0.6957 - val_accuracy: 0.3953\n",
            "Epoch 24/100\n",
            "6/6 [==============================] - 0s 12ms/step - loss: 0.6925 - accuracy: 0.5298 - val_loss: 0.6959 - val_accuracy: 0.3953\n",
            "Epoch 25/100\n",
            "6/6 [==============================] - 0s 11ms/step - loss: 0.6925 - accuracy: 0.5298 - val_loss: 0.6961 - val_accuracy: 0.3953\n",
            "Epoch 26/100\n",
            "6/6 [==============================] - 0s 13ms/step - loss: 0.6924 - accuracy: 0.5298 - val_loss: 0.6961 - val_accuracy: 0.3953\n",
            "Epoch 27/100\n",
            "6/6 [==============================] - 0s 12ms/step - loss: 0.6924 - accuracy: 0.5298 - val_loss: 0.6962 - val_accuracy: 0.3953\n",
            "Epoch 28/100\n",
            "6/6 [==============================] - 0s 13ms/step - loss: 0.6924 - accuracy: 0.5298 - val_loss: 0.6963 - val_accuracy: 0.3953\n",
            "Epoch 29/100\n",
            "6/6 [==============================] - 0s 9ms/step - loss: 0.6924 - accuracy: 0.5298 - val_loss: 0.6963 - val_accuracy: 0.3953\n",
            "Epoch 30/100\n",
            "6/6 [==============================] - 0s 12ms/step - loss: 0.6924 - accuracy: 0.5298 - val_loss: 0.6965 - val_accuracy: 0.3953\n",
            "Epoch 31/100\n",
            "6/6 [==============================] - 0s 9ms/step - loss: 0.6923 - accuracy: 0.5298 - val_loss: 0.6966 - val_accuracy: 0.3953\n",
            "Epoch 32/100\n",
            "6/6 [==============================] - 0s 12ms/step - loss: 0.6923 - accuracy: 0.5298 - val_loss: 0.6968 - val_accuracy: 0.3953\n",
            "Epoch 33/100\n",
            "6/6 [==============================] - 0s 9ms/step - loss: 0.6923 - accuracy: 0.5298 - val_loss: 0.6969 - val_accuracy: 0.3953\n",
            "Epoch 34/100\n",
            "6/6 [==============================] - 0s 9ms/step - loss: 0.6923 - accuracy: 0.5298 - val_loss: 0.6971 - val_accuracy: 0.3953\n",
            "Epoch 35/100\n",
            "6/6 [==============================] - 0s 12ms/step - loss: 0.6922 - accuracy: 0.5298 - val_loss: 0.6973 - val_accuracy: 0.3953\n",
            "Epoch 36/100\n",
            "6/6 [==============================] - 0s 9ms/step - loss: 0.6922 - accuracy: 0.5298 - val_loss: 0.6974 - val_accuracy: 0.3953\n",
            "Epoch 37/100\n",
            "6/6 [==============================] - 0s 8ms/step - loss: 0.6922 - accuracy: 0.5298 - val_loss: 0.6976 - val_accuracy: 0.3953\n",
            "Epoch 38/100\n",
            "6/6 [==============================] - 0s 12ms/step - loss: 0.6921 - accuracy: 0.5298 - val_loss: 0.6978 - val_accuracy: 0.3953\n",
            "Epoch 39/100\n",
            "6/6 [==============================] - 0s 12ms/step - loss: 0.6921 - accuracy: 0.5298 - val_loss: 0.6980 - val_accuracy: 0.3953\n",
            "Epoch 40/100\n",
            "6/6 [==============================] - 0s 14ms/step - loss: 0.6921 - accuracy: 0.5298 - val_loss: 0.6981 - val_accuracy: 0.3953\n",
            "Epoch 41/100\n",
            "6/6 [==============================] - 0s 11ms/step - loss: 0.6921 - accuracy: 0.5298 - val_loss: 0.6982 - val_accuracy: 0.3953\n",
            "Epoch 42/100\n",
            "6/6 [==============================] - 0s 8ms/step - loss: 0.6921 - accuracy: 0.5298 - val_loss: 0.6982 - val_accuracy: 0.3953\n",
            "Epoch 43/100\n",
            "6/6 [==============================] - 0s 11ms/step - loss: 0.6921 - accuracy: 0.5298 - val_loss: 0.6983 - val_accuracy: 0.3953\n",
            "Epoch 44/100\n",
            "6/6 [==============================] - 0s 8ms/step - loss: 0.6920 - accuracy: 0.5298 - val_loss: 0.6983 - val_accuracy: 0.3953\n",
            "Epoch 45/100\n",
            "6/6 [==============================] - 0s 8ms/step - loss: 0.6920 - accuracy: 0.5298 - val_loss: 0.6983 - val_accuracy: 0.3953\n",
            "Epoch 46/100\n",
            "6/6 [==============================] - 0s 8ms/step - loss: 0.6920 - accuracy: 0.5298 - val_loss: 0.6985 - val_accuracy: 0.3953\n",
            "Epoch 47/100\n",
            "6/6 [==============================] - 0s 10ms/step - loss: 0.6920 - accuracy: 0.5298 - val_loss: 0.6986 - val_accuracy: 0.3953\n",
            "Epoch 48/100\n",
            "6/6 [==============================] - 0s 8ms/step - loss: 0.6920 - accuracy: 0.5298 - val_loss: 0.6987 - val_accuracy: 0.3953\n",
            "Epoch 49/100\n",
            "6/6 [==============================] - 0s 8ms/step - loss: 0.6920 - accuracy: 0.5298 - val_loss: 0.6988 - val_accuracy: 0.3953\n",
            "Epoch 50/100\n",
            "6/6 [==============================] - 0s 8ms/step - loss: 0.6920 - accuracy: 0.5298 - val_loss: 0.6989 - val_accuracy: 0.3953\n",
            "Epoch 51/100\n",
            "6/6 [==============================] - 0s 12ms/step - loss: 0.6919 - accuracy: 0.5298 - val_loss: 0.6990 - val_accuracy: 0.3953\n",
            "Epoch 52/100\n",
            "6/6 [==============================] - 0s 9ms/step - loss: 0.6919 - accuracy: 0.5298 - val_loss: 0.6992 - val_accuracy: 0.3953\n",
            "Epoch 53/100\n",
            "6/6 [==============================] - 0s 8ms/step - loss: 0.6919 - accuracy: 0.5298 - val_loss: 0.6995 - val_accuracy: 0.3953\n",
            "Epoch 54/100\n",
            "6/6 [==============================] - 0s 11ms/step - loss: 0.6919 - accuracy: 0.5298 - val_loss: 0.6996 - val_accuracy: 0.3953\n",
            "Epoch 55/100\n",
            "6/6 [==============================] - 0s 9ms/step - loss: 0.6918 - accuracy: 0.5298 - val_loss: 0.6997 - val_accuracy: 0.3953\n",
            "Epoch 56/100\n",
            "6/6 [==============================] - 0s 9ms/step - loss: 0.6918 - accuracy: 0.5298 - val_loss: 0.6998 - val_accuracy: 0.3953\n",
            "Epoch 57/100\n",
            "6/6 [==============================] - 0s 12ms/step - loss: 0.6918 - accuracy: 0.5298 - val_loss: 0.6999 - val_accuracy: 0.3953\n",
            "Epoch 58/100\n",
            "6/6 [==============================] - 0s 12ms/step - loss: 0.6918 - accuracy: 0.5298 - val_loss: 0.7000 - val_accuracy: 0.3953\n",
            "Epoch 59/100\n",
            "6/6 [==============================] - 0s 11ms/step - loss: 0.6918 - accuracy: 0.5298 - val_loss: 0.6999 - val_accuracy: 0.3953\n",
            "Epoch 60/100\n",
            "6/6 [==============================] - 0s 10ms/step - loss: 0.6918 - accuracy: 0.5298 - val_loss: 0.7000 - val_accuracy: 0.3953\n",
            "Epoch 61/100\n",
            "6/6 [==============================] - 0s 9ms/step - loss: 0.6918 - accuracy: 0.5298 - val_loss: 0.7000 - val_accuracy: 0.3953\n",
            "Epoch 62/100\n",
            "6/6 [==============================] - 0s 13ms/step - loss: 0.6918 - accuracy: 0.5298 - val_loss: 0.7001 - val_accuracy: 0.3953\n",
            "Epoch 63/100\n",
            "6/6 [==============================] - 0s 8ms/step - loss: 0.6918 - accuracy: 0.5298 - val_loss: 0.7002 - val_accuracy: 0.3953\n",
            "Epoch 64/100\n",
            "6/6 [==============================] - 0s 10ms/step - loss: 0.6918 - accuracy: 0.5298 - val_loss: 0.7003 - val_accuracy: 0.3953\n",
            "Epoch 65/100\n",
            "6/6 [==============================] - 0s 8ms/step - loss: 0.6918 - accuracy: 0.5298 - val_loss: 0.7005 - val_accuracy: 0.3953\n",
            "Epoch 66/100\n",
            "6/6 [==============================] - 0s 12ms/step - loss: 0.6917 - accuracy: 0.5298 - val_loss: 0.7005 - val_accuracy: 0.3953\n",
            "Epoch 67/100\n",
            "6/6 [==============================] - 0s 9ms/step - loss: 0.6917 - accuracy: 0.5298 - val_loss: 0.7007 - val_accuracy: 0.3953\n",
            "Epoch 68/100\n",
            "6/6 [==============================] - 0s 12ms/step - loss: 0.6917 - accuracy: 0.5298 - val_loss: 0.7009 - val_accuracy: 0.3953\n",
            "Epoch 69/100\n",
            "6/6 [==============================] - 0s 9ms/step - loss: 0.6917 - accuracy: 0.5298 - val_loss: 0.7010 - val_accuracy: 0.3953\n",
            "Epoch 70/100\n",
            "6/6 [==============================] - 0s 11ms/step - loss: 0.6917 - accuracy: 0.5298 - val_loss: 0.7010 - val_accuracy: 0.3953\n",
            "Epoch 71/100\n",
            "6/6 [==============================] - 0s 9ms/step - loss: 0.6917 - accuracy: 0.5298 - val_loss: 0.7011 - val_accuracy: 0.3953\n",
            "Epoch 72/100\n",
            "6/6 [==============================] - 0s 12ms/step - loss: 0.6917 - accuracy: 0.5298 - val_loss: 0.7011 - val_accuracy: 0.3953\n",
            "Epoch 73/100\n",
            "6/6 [==============================] - 0s 9ms/step - loss: 0.6917 - accuracy: 0.5298 - val_loss: 0.7011 - val_accuracy: 0.3953\n",
            "Epoch 74/100\n",
            "6/6 [==============================] - 0s 9ms/step - loss: 0.6917 - accuracy: 0.5298 - val_loss: 0.7012 - val_accuracy: 0.3953\n",
            "Epoch 75/100\n",
            "6/6 [==============================] - 0s 8ms/step - loss: 0.6917 - accuracy: 0.5298 - val_loss: 0.7012 - val_accuracy: 0.3953\n",
            "Epoch 76/100\n",
            "6/6 [==============================] - 0s 11ms/step - loss: 0.6917 - accuracy: 0.5298 - val_loss: 0.7012 - val_accuracy: 0.3953\n",
            "Epoch 77/100\n",
            "6/6 [==============================] - 0s 9ms/step - loss: 0.6917 - accuracy: 0.5298 - val_loss: 0.7014 - val_accuracy: 0.3953\n",
            "Epoch 78/100\n",
            "6/6 [==============================] - 0s 8ms/step - loss: 0.6916 - accuracy: 0.5298 - val_loss: 0.7015 - val_accuracy: 0.3953\n",
            "Epoch 79/100\n",
            "6/6 [==============================] - 0s 9ms/step - loss: 0.6916 - accuracy: 0.5298 - val_loss: 0.7017 - val_accuracy: 0.3953\n",
            "Epoch 80/100\n",
            "6/6 [==============================] - 0s 9ms/step - loss: 0.6916 - accuracy: 0.5298 - val_loss: 0.7019 - val_accuracy: 0.3953\n",
            "Epoch 81/100\n",
            "6/6 [==============================] - 0s 10ms/step - loss: 0.6916 - accuracy: 0.5298 - val_loss: 0.7021 - val_accuracy: 0.3953\n",
            "Epoch 82/100\n",
            "6/6 [==============================] - 0s 11ms/step - loss: 0.6916 - accuracy: 0.5298 - val_loss: 0.7023 - val_accuracy: 0.3953\n",
            "Epoch 83/100\n",
            "6/6 [==============================] - 0s 12ms/step - loss: 0.6916 - accuracy: 0.5298 - val_loss: 0.7023 - val_accuracy: 0.3953\n",
            "Epoch 84/100\n",
            "6/6 [==============================] - 0s 8ms/step - loss: 0.6916 - accuracy: 0.5298 - val_loss: 0.7023 - val_accuracy: 0.3953\n",
            "Epoch 85/100\n",
            "6/6 [==============================] - 0s 9ms/step - loss: 0.6916 - accuracy: 0.5298 - val_loss: 0.7023 - val_accuracy: 0.3953\n",
            "Epoch 86/100\n",
            "6/6 [==============================] - 0s 12ms/step - loss: 0.6916 - accuracy: 0.5298 - val_loss: 0.7024 - val_accuracy: 0.3953\n",
            "Epoch 87/100\n",
            "6/6 [==============================] - 0s 12ms/step - loss: 0.6916 - accuracy: 0.5298 - val_loss: 0.7025 - val_accuracy: 0.3953\n",
            "Epoch 88/100\n",
            "6/6 [==============================] - 0s 9ms/step - loss: 0.6915 - accuracy: 0.5298 - val_loss: 0.7026 - val_accuracy: 0.3953\n",
            "Epoch 89/100\n",
            "6/6 [==============================] - 0s 9ms/step - loss: 0.6916 - accuracy: 0.5298 - val_loss: 0.7028 - val_accuracy: 0.3953\n",
            "Epoch 90/100\n",
            "6/6 [==============================] - 0s 9ms/step - loss: 0.6915 - accuracy: 0.5298 - val_loss: 0.7029 - val_accuracy: 0.3953\n",
            "Epoch 91/100\n",
            "6/6 [==============================] - 0s 10ms/step - loss: 0.6915 - accuracy: 0.5298 - val_loss: 0.7029 - val_accuracy: 0.3953\n",
            "Epoch 92/100\n",
            "6/6 [==============================] - 0s 9ms/step - loss: 0.6915 - accuracy: 0.5298 - val_loss: 0.7030 - val_accuracy: 0.3953\n",
            "Epoch 93/100\n",
            "6/6 [==============================] - 0s 8ms/step - loss: 0.6915 - accuracy: 0.5298 - val_loss: 0.7031 - val_accuracy: 0.3953\n",
            "Epoch 94/100\n",
            "6/6 [==============================] - 0s 8ms/step - loss: 0.6915 - accuracy: 0.5298 - val_loss: 0.7033 - val_accuracy: 0.3953\n",
            "Epoch 95/100\n",
            "6/6 [==============================] - 0s 11ms/step - loss: 0.6915 - accuracy: 0.5298 - val_loss: 0.7034 - val_accuracy: 0.3953\n",
            "Epoch 96/100\n",
            "6/6 [==============================] - 0s 9ms/step - loss: 0.6915 - accuracy: 0.5298 - val_loss: 0.7034 - val_accuracy: 0.3953\n",
            "Epoch 97/100\n",
            "6/6 [==============================] - 0s 9ms/step - loss: 0.6915 - accuracy: 0.5298 - val_loss: 0.7034 - val_accuracy: 0.3953\n",
            "Epoch 98/100\n",
            "6/6 [==============================] - 0s 10ms/step - loss: 0.6915 - accuracy: 0.5298 - val_loss: 0.7034 - val_accuracy: 0.3953\n",
            "Epoch 99/100\n",
            "6/6 [==============================] - 0s 11ms/step - loss: 0.6915 - accuracy: 0.5298 - val_loss: 0.7034 - val_accuracy: 0.3953\n",
            "Epoch 100/100\n",
            "6/6 [==============================] - 0s 11ms/step - loss: 0.6915 - accuracy: 0.5298 - val_loss: 0.7033 - val_accuracy: 0.3953\n"
          ]
        }
      ]
    },
    {
      "cell_type": "code",
      "source": [
        "model.get_weights()"
      ],
      "metadata": {
        "colab": {
          "base_uri": "https://localhost:8080/"
        },
        "id": "NF1ObSco-Tgm",
        "outputId": "f274648b-dc4e-46cf-cf3a-e141e8f80f5f"
      },
      "execution_count": 51,
      "outputs": [
        {
          "output_type": "execute_result",
          "data": {
            "text/plain": [
              "[array([[0., 0.],\n",
              "        [0., 0.]], dtype=float32),\n",
              " array([0., 0.], dtype=float32),\n",
              " array([[0.],\n",
              "        [0.]], dtype=float32),\n",
              " array([0.08787552], dtype=float32)]"
            ]
          },
          "metadata": {},
          "execution_count": 51
        }
      ]
    },
    {
      "cell_type": "code",
      "source": [
        "from mlxtend.plotting import plot_decision_regions\n",
        "plt.figure(figsize=(5,3))\n",
        "plot_decision_regions(X,y.astype('int'), clf=model, legend=2)"
      ],
      "metadata": {
        "colab": {
          "base_uri": "https://localhost:8080/",
          "height": 326
        },
        "id": "hHVMCQQ8-W7b",
        "outputId": "36741a89-bc5a-4fcb-d52c-b8190fbe2e20"
      },
      "execution_count": 53,
      "outputs": [
        {
          "output_type": "stream",
          "name": "stdout",
          "text": [
            "4688/4688 [==============================] - 7s 2ms/step\n"
          ]
        },
        {
          "output_type": "execute_result",
          "data": {
            "text/plain": [
              "<Axes: >"
            ]
          },
          "metadata": {},
          "execution_count": 53
        },
        {
          "output_type": "display_data",
          "data": {
            "text/plain": [
              "<Figure size 500x300 with 1 Axes>"
            ],
            "image/png": "[encoded data removed]"
          },
          "metadata": {}
        }
      ]
    },
    {
      "cell_type": "markdown",
      "source": [
        "# Tanh"
      ],
      "metadata": {
        "id": "wwTAjhiJ3xgf"
      }
    },
    {
      "cell_type": "code",
      "source": [
        "model = Sequential()\n",
        "\n",
        "model.add(Dense(2,activation='tanh',input_dim=2))\n",
        "model.add(Dense(1,activation='sigmoid'))\n",
        "\n",
        "model.summary()\n"
      ],
      "metadata": {
        "id": "H6gbywuRR3dw",
        "outputId": "3cf59b1e-ec94-48d5-d654-3136c07eb06a",
        "colab": {
          "base_uri": "https://localhost:8080/"
        }
      },
      "execution_count": 55,
      "outputs": [
        {
          "output_type": "stream",
          "name": "stdout",
          "text": [
            "Model: \"sequential_3\"\n",
            "_________________________________________________________________\n",
            " Layer (type)                Output Shape              Param #   \n",
            "=================================================================\n",
            " dense_5 (Dense)             (None, 2)                 6         \n",
            "                                                                 \n",
            " dense_6 (Dense)             (None, 1)                 3         \n",
            "                                                                 \n",
            "=================================================================\n",
            "Total params: 9 (36.00 Byte)\n",
            "Trainable params: 9 (36.00 Byte)\n",
            "Non-trainable params: 0 (0.00 Byte)\n",
            "_________________________________________________________________\n"
          ]
        }
      ]
    },
    {
      "cell_type": "code",
      "source": [
        "# Set parameters to 0\n",
        "model.get_weights()"
      ],
      "metadata": {
        "id": "aFu1hqkq30YO",
        "outputId": "e28a7ebc-6c47-4665-8c81-8e9203b15c60",
        "colab": {
          "base_uri": "https://localhost:8080/"
        }
      },
      "execution_count": 56,
      "outputs": [
        {
          "output_type": "execute_result",
          "data": {
            "text/plain": [
              "[array([[ 0.63278425, -0.39639527],\n",
              "        [ 1.191785  , -0.75788605]], dtype=float32),\n",
              " array([0., 0.], dtype=float32),\n",
              " array([[-1.3417314],\n",
              "        [ 1.3201526]], dtype=float32),\n",
              " array([0.], dtype=float32)]"
            ]
          },
          "metadata": {},
          "execution_count": 56
        }
      ]
    },
    {
      "cell_type": "code",
      "source": [
        "initial_weights = model.get_weights()"
      ],
      "metadata": {
        "id": "Sn1FNz7Q4D1-"
      },
      "execution_count": 57,
      "outputs": []
    },
    {
      "cell_type": "code",
      "source": [
        "initial_weights[0] = np.zeros(model.get_weights()[0].shape)\n",
        "initial_weights[1] = np.zeros(model.get_weights()[1].shape)\n",
        "initial_weights[2] = np.zeros(model.get_weights()[2].shape)\n",
        "initial_weights[3] = np.zeros(model.get_weights()[3].shape)"
      ],
      "metadata": {
        "id": "Jy3GIWz84MRw"
      },
      "execution_count": 58,
      "outputs": []
    },
    {
      "cell_type": "code",
      "source": [
        "model.set_weights(initial_weights)"
      ],
      "metadata": {
        "id": "zrUcQ-hs4Fxj"
      },
      "execution_count": 59,
      "outputs": []
    },
    {
      "cell_type": "code",
      "source": [
        "model.get_weights()"
      ],
      "metadata": {
        "id": "K3tFUV3i4Sou",
        "outputId": "54f7b3cb-e890-4d01-875c-c52f42d8631b",
        "colab": {
          "base_uri": "https://localhost:8080/"
        }
      },
      "execution_count": 60,
      "outputs": [
        {
          "output_type": "execute_result",
          "data": {
            "text/plain": [
              "[array([[0., 0.],\n",
              "        [0., 0.]], dtype=float32),\n",
              " array([0., 0.], dtype=float32),\n",
              " array([[0.],\n",
              "        [0.]], dtype=float32),\n",
              " array([0.], dtype=float32)]"
            ]
          },
          "metadata": {},
          "execution_count": 60
        }
      ]
    },
    {
      "cell_type": "code",
      "source": [
        "model.compile(loss='binary_crossentropy',optimizer='adam',metrics=['accuracy'])"
      ],
      "metadata": {
        "id": "cSnz83oH4TyW"
      },
      "execution_count": 61,
      "outputs": []
    },
    {
      "cell_type": "code",
      "source": [
        "history = model.fit(X,y,epochs=100,validation_split=0.2)"
      ],
      "metadata": {
        "id": "OzqYMy8E4VmM",
        "outputId": "1626b17d-15f8-4bb7-f56b-1f76138dab4a",
        "colab": {
          "base_uri": "https://localhost:8080/"
        }
      },
      "execution_count": 62,
      "outputs": [
        {
          "output_type": "stream",
          "name": "stdout",
          "text": [
            "Epoch 1/100\n",
            "6/6 [==============================] - 1s 70ms/step - loss: 0.6932 - accuracy: 0.4821 - val_loss: 0.6933 - val_accuracy: 0.3953\n",
            "Epoch 2/100\n",
            "6/6 [==============================] - 0s 18ms/step - loss: 0.6931 - accuracy: 0.5298 - val_loss: 0.6933 - val_accuracy: 0.3953\n",
            "Epoch 3/100\n",
            "6/6 [==============================] - 0s 16ms/step - loss: 0.6931 - accuracy: 0.5298 - val_loss: 0.6934 - val_accuracy: 0.3953\n",
            "Epoch 4/100\n",
            "6/6 [==============================] - 0s 13ms/step - loss: 0.6931 - accuracy: 0.5298 - val_loss: 0.6935 - val_accuracy: 0.3953\n",
            "Epoch 5/100\n",
            "6/6 [==============================] - 0s 16ms/step - loss: 0.6930 - accuracy: 0.5298 - val_loss: 0.6937 - val_accuracy: 0.3953\n",
            "Epoch 6/100\n",
            "6/6 [==============================] - 0s 39ms/step - loss: 0.6930 - accuracy: 0.5298 - val_loss: 0.6939 - val_accuracy: 0.3953\n",
            "Epoch 7/100\n",
            "6/6 [==============================] - 0s 36ms/step - loss: 0.6930 - accuracy: 0.5298 - val_loss: 0.6942 - val_accuracy: 0.3953\n",
            "Epoch 8/100\n",
            "6/6 [==============================] - 0s 9ms/step - loss: 0.6928 - accuracy: 0.5298 - val_loss: 0.6944 - val_accuracy: 0.3953\n",
            "Epoch 9/100\n",
            "6/6 [==============================] - 0s 8ms/step - loss: 0.6928 - accuracy: 0.5298 - val_loss: 0.6946 - val_accuracy: 0.3953\n",
            "Epoch 10/100\n",
            "6/6 [==============================] - 0s 12ms/step - loss: 0.6927 - accuracy: 0.5298 - val_loss: 0.6948 - val_accuracy: 0.3953\n",
            "Epoch 11/100\n",
            "6/6 [==============================] - 0s 11ms/step - loss: 0.6927 - accuracy: 0.5298 - val_loss: 0.6949 - val_accuracy: 0.3953\n",
            "Epoch 12/100\n",
            "6/6 [==============================] - 0s 8ms/step - loss: 0.6927 - accuracy: 0.5298 - val_loss: 0.6950 - val_accuracy: 0.3953\n",
            "Epoch 13/100\n",
            "6/6 [==============================] - 0s 11ms/step - loss: 0.6927 - accuracy: 0.5298 - val_loss: 0.6951 - val_accuracy: 0.3953\n",
            "Epoch 14/100\n",
            "6/6 [==============================] - 0s 8ms/step - loss: 0.6926 - accuracy: 0.5298 - val_loss: 0.6953 - val_accuracy: 0.3953\n",
            "Epoch 15/100\n",
            "6/6 [==============================] - 0s 9ms/step - loss: 0.6926 - accuracy: 0.5298 - val_loss: 0.6956 - val_accuracy: 0.3953\n",
            "Epoch 16/100\n",
            "6/6 [==============================] - 0s 12ms/step - loss: 0.6925 - accuracy: 0.5298 - val_loss: 0.6959 - val_accuracy: 0.3953\n",
            "Epoch 17/100\n",
            "6/6 [==============================] - 0s 11ms/step - loss: 0.6925 - accuracy: 0.5298 - val_loss: 0.6961 - val_accuracy: 0.3953\n",
            "Epoch 18/100\n",
            "6/6 [==============================] - 0s 8ms/step - loss: 0.6924 - accuracy: 0.5298 - val_loss: 0.6963 - val_accuracy: 0.3953\n",
            "Epoch 19/100\n",
            "6/6 [==============================] - 0s 9ms/step - loss: 0.6924 - accuracy: 0.5298 - val_loss: 0.6965 - val_accuracy: 0.3953\n",
            "Epoch 20/100\n",
            "6/6 [==============================] - 0s 8ms/step - loss: 0.6923 - accuracy: 0.5298 - val_loss: 0.6967 - val_accuracy: 0.3953\n",
            "Epoch 21/100\n",
            "6/6 [==============================] - 0s 8ms/step - loss: 0.6923 - accuracy: 0.5298 - val_loss: 0.6969 - val_accuracy: 0.3953\n",
            "Epoch 22/100\n",
            "6/6 [==============================] - 0s 9ms/step - loss: 0.6923 - accuracy: 0.5298 - val_loss: 0.6969 - val_accuracy: 0.3953\n",
            "Epoch 23/100\n",
            "6/6 [==============================] - 0s 12ms/step - loss: 0.6923 - accuracy: 0.5298 - val_loss: 0.6970 - val_accuracy: 0.3953\n",
            "Epoch 24/100\n",
            "6/6 [==============================] - 0s 17ms/step - loss: 0.6923 - accuracy: 0.5298 - val_loss: 0.6973 - val_accuracy: 0.3953\n",
            "Epoch 25/100\n",
            "6/6 [==============================] - 0s 18ms/step - loss: 0.6922 - accuracy: 0.5298 - val_loss: 0.6974 - val_accuracy: 0.3953\n",
            "Epoch 26/100\n",
            "6/6 [==============================] - 0s 41ms/step - loss: 0.6922 - accuracy: 0.5298 - val_loss: 0.6975 - val_accuracy: 0.3953\n",
            "Epoch 27/100\n",
            "6/6 [==============================] - 0s 20ms/step - loss: 0.6922 - accuracy: 0.5298 - val_loss: 0.6976 - val_accuracy: 0.3953\n",
            "Epoch 28/100\n",
            "6/6 [==============================] - 0s 15ms/step - loss: 0.6921 - accuracy: 0.5298 - val_loss: 0.6977 - val_accuracy: 0.3953\n",
            "Epoch 29/100\n",
            "6/6 [==============================] - 0s 18ms/step - loss: 0.6921 - accuracy: 0.5298 - val_loss: 0.6978 - val_accuracy: 0.3953\n",
            "Epoch 30/100\n",
            "6/6 [==============================] - 0s 16ms/step - loss: 0.6921 - accuracy: 0.5298 - val_loss: 0.6980 - val_accuracy: 0.3953\n",
            "Epoch 31/100\n",
            "6/6 [==============================] - 0s 16ms/step - loss: 0.6921 - accuracy: 0.5298 - val_loss: 0.6981 - val_accuracy: 0.3953\n",
            "Epoch 32/100\n",
            "6/6 [==============================] - 0s 19ms/step - loss: 0.6921 - accuracy: 0.5298 - val_loss: 0.6984 - val_accuracy: 0.3953\n",
            "Epoch 33/100\n",
            "6/6 [==============================] - 0s 19ms/step - loss: 0.6920 - accuracy: 0.5298 - val_loss: 0.6986 - val_accuracy: 0.3953\n",
            "Epoch 34/100\n",
            "6/6 [==============================] - 0s 21ms/step - loss: 0.6920 - accuracy: 0.5298 - val_loss: 0.6989 - val_accuracy: 0.3953\n",
            "Epoch 35/100\n",
            "6/6 [==============================] - 0s 18ms/step - loss: 0.6920 - accuracy: 0.5298 - val_loss: 0.6990 - val_accuracy: 0.3953\n",
            "Epoch 36/100\n",
            "6/6 [==============================] - 0s 9ms/step - loss: 0.6919 - accuracy: 0.5298 - val_loss: 0.6992 - val_accuracy: 0.3953\n",
            "Epoch 37/100\n",
            "6/6 [==============================] - 0s 11ms/step - loss: 0.6919 - accuracy: 0.5298 - val_loss: 0.6993 - val_accuracy: 0.3953\n",
            "Epoch 38/100\n",
            "6/6 [==============================] - 0s 12ms/step - loss: 0.6919 - accuracy: 0.5298 - val_loss: 0.6995 - val_accuracy: 0.3953\n",
            "Epoch 39/100\n",
            "6/6 [==============================] - 0s 9ms/step - loss: 0.6918 - accuracy: 0.5298 - val_loss: 0.6997 - val_accuracy: 0.3953\n",
            "Epoch 40/100\n",
            "6/6 [==============================] - 0s 16ms/step - loss: 0.6918 - accuracy: 0.5298 - val_loss: 0.6999 - val_accuracy: 0.3953\n",
            "Epoch 41/100\n",
            "6/6 [==============================] - 0s 18ms/step - loss: 0.6918 - accuracy: 0.5298 - val_loss: 0.7001 - val_accuracy: 0.3953\n",
            "Epoch 42/100\n",
            "6/6 [==============================] - 0s 12ms/step - loss: 0.6918 - accuracy: 0.5298 - val_loss: 0.7004 - val_accuracy: 0.3953\n",
            "Epoch 43/100\n",
            "6/6 [==============================] - 0s 14ms/step - loss: 0.6917 - accuracy: 0.5298 - val_loss: 0.7007 - val_accuracy: 0.3953\n",
            "Epoch 44/100\n",
            "6/6 [==============================] - 0s 15ms/step - loss: 0.6917 - accuracy: 0.5298 - val_loss: 0.7008 - val_accuracy: 0.3953\n",
            "Epoch 45/100\n",
            "6/6 [==============================] - 0s 14ms/step - loss: 0.6917 - accuracy: 0.5298 - val_loss: 0.7010 - val_accuracy: 0.3953\n",
            "Epoch 46/100\n",
            "6/6 [==============================] - 0s 18ms/step - loss: 0.6917 - accuracy: 0.5298 - val_loss: 0.7010 - val_accuracy: 0.3953\n",
            "Epoch 47/100\n",
            "6/6 [==============================] - 0s 12ms/step - loss: 0.6917 - accuracy: 0.5298 - val_loss: 0.7011 - val_accuracy: 0.3953\n",
            "Epoch 48/100\n",
            "6/6 [==============================] - 0s 17ms/step - loss: 0.6917 - accuracy: 0.5298 - val_loss: 0.7012 - val_accuracy: 0.3953\n",
            "Epoch 49/100\n",
            "6/6 [==============================] - 0s 21ms/step - loss: 0.6917 - accuracy: 0.5298 - val_loss: 0.7012 - val_accuracy: 0.3953\n",
            "Epoch 50/100\n",
            "6/6 [==============================] - 0s 17ms/step - loss: 0.6917 - accuracy: 0.5298 - val_loss: 0.7013 - val_accuracy: 0.3953\n",
            "Epoch 51/100\n",
            "6/6 [==============================] - 0s 18ms/step - loss: 0.6917 - accuracy: 0.5298 - val_loss: 0.7013 - val_accuracy: 0.3953\n",
            "Epoch 52/100\n",
            "6/6 [==============================] - 0s 18ms/step - loss: 0.6917 - accuracy: 0.5298 - val_loss: 0.7014 - val_accuracy: 0.3953\n",
            "Epoch 53/100\n",
            "6/6 [==============================] - 0s 17ms/step - loss: 0.6917 - accuracy: 0.5298 - val_loss: 0.7014 - val_accuracy: 0.3953\n",
            "Epoch 54/100\n",
            "6/6 [==============================] - 0s 16ms/step - loss: 0.6917 - accuracy: 0.5298 - val_loss: 0.7014 - val_accuracy: 0.3953\n",
            "Epoch 55/100\n",
            "6/6 [==============================] - 0s 17ms/step - loss: 0.6916 - accuracy: 0.5298 - val_loss: 0.7016 - val_accuracy: 0.3953\n",
            "Epoch 56/100\n",
            "6/6 [==============================] - 0s 12ms/step - loss: 0.6916 - accuracy: 0.5298 - val_loss: 0.7017 - val_accuracy: 0.3953\n",
            "Epoch 57/100\n",
            "6/6 [==============================] - 0s 8ms/step - loss: 0.6916 - accuracy: 0.5298 - val_loss: 0.7017 - val_accuracy: 0.3953\n",
            "Epoch 58/100\n",
            "6/6 [==============================] - 0s 8ms/step - loss: 0.6916 - accuracy: 0.5298 - val_loss: 0.7017 - val_accuracy: 0.3953\n",
            "Epoch 59/100\n",
            "6/6 [==============================] - 0s 8ms/step - loss: 0.6916 - accuracy: 0.5298 - val_loss: 0.7017 - val_accuracy: 0.3953\n",
            "Epoch 60/100\n",
            "6/6 [==============================] - 0s 11ms/step - loss: 0.6916 - accuracy: 0.5298 - val_loss: 0.7017 - val_accuracy: 0.3953\n",
            "Epoch 61/100\n",
            "6/6 [==============================] - 0s 11ms/step - loss: 0.6916 - accuracy: 0.5298 - val_loss: 0.7017 - val_accuracy: 0.3953\n",
            "Epoch 62/100\n",
            "6/6 [==============================] - 0s 8ms/step - loss: 0.6916 - accuracy: 0.5298 - val_loss: 0.7017 - val_accuracy: 0.3953\n",
            "Epoch 63/100\n",
            "6/6 [==============================] - 0s 12ms/step - loss: 0.6916 - accuracy: 0.5298 - val_loss: 0.7017 - val_accuracy: 0.3953\n",
            "Epoch 64/100\n",
            "6/6 [==============================] - 0s 10ms/step - loss: 0.6916 - accuracy: 0.5298 - val_loss: 0.7017 - val_accuracy: 0.3953\n",
            "Epoch 65/100\n",
            "6/6 [==============================] - 0s 8ms/step - loss: 0.6916 - accuracy: 0.5298 - val_loss: 0.7018 - val_accuracy: 0.3953\n",
            "Epoch 66/100\n",
            "6/6 [==============================] - 0s 11ms/step - loss: 0.6916 - accuracy: 0.5298 - val_loss: 0.7018 - val_accuracy: 0.3953\n",
            "Epoch 67/100\n",
            "6/6 [==============================] - 0s 8ms/step - loss: 0.6916 - accuracy: 0.5298 - val_loss: 0.7019 - val_accuracy: 0.3953\n",
            "Epoch 68/100\n",
            "6/6 [==============================] - 0s 8ms/step - loss: 0.6916 - accuracy: 0.5298 - val_loss: 0.7019 - val_accuracy: 0.3953\n",
            "Epoch 69/100\n",
            "6/6 [==============================] - 0s 9ms/step - loss: 0.6916 - accuracy: 0.5298 - val_loss: 0.7019 - val_accuracy: 0.3953\n",
            "Epoch 70/100\n",
            "6/6 [==============================] - 0s 13ms/step - loss: 0.6916 - accuracy: 0.5298 - val_loss: 0.7020 - val_accuracy: 0.3953\n",
            "Epoch 71/100\n",
            "6/6 [==============================] - 0s 9ms/step - loss: 0.6916 - accuracy: 0.5298 - val_loss: 0.7021 - val_accuracy: 0.3953\n",
            "Epoch 72/100\n",
            "6/6 [==============================] - 0s 8ms/step - loss: 0.6916 - accuracy: 0.5298 - val_loss: 0.7022 - val_accuracy: 0.3953\n",
            "Epoch 73/100\n",
            "6/6 [==============================] - 0s 8ms/step - loss: 0.6916 - accuracy: 0.5298 - val_loss: 0.7024 - val_accuracy: 0.3953\n",
            "Epoch 74/100\n",
            "6/6 [==============================] - 0s 8ms/step - loss: 0.6916 - accuracy: 0.5298 - val_loss: 0.7024 - val_accuracy: 0.3953\n",
            "Epoch 75/100\n",
            "6/6 [==============================] - 0s 15ms/step - loss: 0.6916 - accuracy: 0.5298 - val_loss: 0.7024 - val_accuracy: 0.3953\n",
            "Epoch 76/100\n",
            "6/6 [==============================] - 0s 19ms/step - loss: 0.6916 - accuracy: 0.5298 - val_loss: 0.7024 - val_accuracy: 0.3953\n",
            "Epoch 77/100\n",
            "6/6 [==============================] - 0s 17ms/step - loss: 0.6916 - accuracy: 0.5298 - val_loss: 0.7024 - val_accuracy: 0.3953\n",
            "Epoch 78/100\n",
            "6/6 [==============================] - 0s 19ms/step - loss: 0.6916 - accuracy: 0.5298 - val_loss: 0.7024 - val_accuracy: 0.3953\n",
            "Epoch 79/100\n",
            "6/6 [==============================] - 0s 32ms/step - loss: 0.6916 - accuracy: 0.5298 - val_loss: 0.7025 - val_accuracy: 0.3953\n",
            "Epoch 80/100\n",
            "6/6 [==============================] - 0s 41ms/step - loss: 0.6916 - accuracy: 0.5298 - val_loss: 0.7025 - val_accuracy: 0.3953\n",
            "Epoch 81/100\n",
            "6/6 [==============================] - 0s 26ms/step - loss: 0.6916 - accuracy: 0.5298 - val_loss: 0.7023 - val_accuracy: 0.3953\n",
            "Epoch 82/100\n",
            "6/6 [==============================] - 0s 21ms/step - loss: 0.6916 - accuracy: 0.5298 - val_loss: 0.7023 - val_accuracy: 0.3953\n",
            "Epoch 83/100\n",
            "6/6 [==============================] - 0s 37ms/step - loss: 0.6916 - accuracy: 0.5298 - val_loss: 0.7023 - val_accuracy: 0.3953\n",
            "Epoch 84/100\n",
            "6/6 [==============================] - 0s 36ms/step - loss: 0.6916 - accuracy: 0.5298 - val_loss: 0.7023 - val_accuracy: 0.3953\n",
            "Epoch 85/100\n",
            "6/6 [==============================] - 0s 22ms/step - loss: 0.6916 - accuracy: 0.5298 - val_loss: 0.7023 - val_accuracy: 0.3953\n",
            "Epoch 86/100\n",
            "6/6 [==============================] - 0s 16ms/step - loss: 0.6916 - accuracy: 0.5298 - val_loss: 0.7023 - val_accuracy: 0.3953\n",
            "Epoch 87/100\n",
            "6/6 [==============================] - 0s 16ms/step - loss: 0.6916 - accuracy: 0.5298 - val_loss: 0.7023 - val_accuracy: 0.3953\n",
            "Epoch 88/100\n",
            "6/6 [==============================] - 0s 12ms/step - loss: 0.6916 - accuracy: 0.5298 - val_loss: 0.7024 - val_accuracy: 0.3953\n",
            "Epoch 89/100\n",
            "6/6 [==============================] - 0s 14ms/step - loss: 0.6915 - accuracy: 0.5298 - val_loss: 0.7026 - val_accuracy: 0.3953\n",
            "Epoch 90/100\n",
            "6/6 [==============================] - 0s 28ms/step - loss: 0.6915 - accuracy: 0.5298 - val_loss: 0.7029 - val_accuracy: 0.3953\n",
            "Epoch 91/100\n",
            "6/6 [==============================] - 0s 23ms/step - loss: 0.6915 - accuracy: 0.5298 - val_loss: 0.7032 - val_accuracy: 0.3953\n",
            "Epoch 92/100\n",
            "6/6 [==============================] - 0s 19ms/step - loss: 0.6915 - accuracy: 0.5298 - val_loss: 0.7035 - val_accuracy: 0.3953\n",
            "Epoch 93/100\n",
            "6/6 [==============================] - 0s 24ms/step - loss: 0.6915 - accuracy: 0.5298 - val_loss: 0.7036 - val_accuracy: 0.3953\n",
            "Epoch 94/100\n",
            "6/6 [==============================] - 0s 28ms/step - loss: 0.6915 - accuracy: 0.5298 - val_loss: 0.7037 - val_accuracy: 0.3953\n",
            "Epoch 95/100\n",
            "6/6 [==============================] - 0s 17ms/step - loss: 0.6915 - accuracy: 0.5298 - val_loss: 0.7038 - val_accuracy: 0.3953\n",
            "Epoch 96/100\n",
            "6/6 [==============================] - 0s 15ms/step - loss: 0.6915 - accuracy: 0.5298 - val_loss: 0.7039 - val_accuracy: 0.3953\n",
            "Epoch 97/100\n",
            "6/6 [==============================] - 0s 22ms/step - loss: 0.6915 - accuracy: 0.5298 - val_loss: 0.7039 - val_accuracy: 0.3953\n",
            "Epoch 98/100\n",
            "6/6 [==============================] - 0s 17ms/step - loss: 0.6915 - accuracy: 0.5298 - val_loss: 0.7039 - val_accuracy: 0.3953\n",
            "Epoch 99/100\n",
            "6/6 [==============================] - 0s 15ms/step - loss: 0.6915 - accuracy: 0.5298 - val_loss: 0.7038 - val_accuracy: 0.3953\n",
            "Epoch 100/100\n",
            "6/6 [==============================] - 0s 17ms/step - loss: 0.6915 - accuracy: 0.5298 - val_loss: 0.7036 - val_accuracy: 0.3953\n"
          ]
        }
      ]
    },
    {
      "cell_type": "code",
      "source": [
        "model.get_weights()"
      ],
      "metadata": {
        "id": "3xvQC_hz4WqF",
        "outputId": "1a17d44c-ed25-4527-8cef-493333e72f4c",
        "colab": {
          "base_uri": "https://localhost:8080/"
        }
      },
      "execution_count": 63,
      "outputs": [
        {
          "output_type": "execute_result",
          "data": {
            "text/plain": [
              "[array([[0., 0.],\n",
              "        [0., 0.]], dtype=float32),\n",
              " array([0., 0.], dtype=float32),\n",
              " array([[0.],\n",
              "        [0.]], dtype=float32),\n",
              " array([0.09035481], dtype=float32)]"
            ]
          },
          "metadata": {},
          "execution_count": 63
        }
      ]
    },
    {
      "cell_type": "code",
      "source": [
        "from mlxtend.plotting import plot_decision_regions\n",
        "plt.figure(figsize=(5,3))\n",
        "plot_decision_regions(X,y.astype('int'), clf=model, legend=2)"
      ],
      "metadata": {
        "id": "gnLZ553l4Xni",
        "outputId": "63878bc0-f00a-45ce-c6ba-b062624084c2",
        "colab": {
          "base_uri": "https://localhost:8080/",
          "height": 326
        }
      },
      "execution_count": 64,
      "outputs": [
        {
          "output_type": "stream",
          "name": "stdout",
          "text": [
            "4688/4688 [==============================] - 7s 1ms/step\n"
          ]
        },
        {
          "output_type": "execute_result",
          "data": {
            "text/plain": [
              "<Axes: >"
            ]
          },
          "metadata": {},
          "execution_count": 64
        },
        {
          "output_type": "display_data",
          "data": {
            "text/plain": [
              "<Figure size 500x300 with 1 Axes>"
            ],
            "image/png": "[encoded data removed]"
          },
          "metadata": {}
        }
      ]
    },
    {
      "cell_type": "code",
      "source": [],
      "metadata": {
        "id": "3k9JHJxH4Yun"
      },
      "execution_count": null,
      "outputs": []
    }
  ]
}